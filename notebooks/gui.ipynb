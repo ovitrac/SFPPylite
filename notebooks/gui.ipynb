{
 "cells": [
  {
   "cell_type": "markdown",
   "id": "f2ec8f36-d99d-415c-8c85-2aaa3be012e2",
   "metadata": {
    "panel-layout": {
     "height": 326.109,
     "visible": true,
     "width": 100
    }
   },
   "source": [
    "---\n",
    "\n",
    "# **🐍 SFPPy - GUI 💫**  \n",
    "> **SFPPy: A Python Framework for Food Contact Compliance & Risk Assessment** 🍏⏩🍎  \n",
    "\n",
    "---\n",
    "\n",
    "## 🖱️ **Interactive Widgets for Configuring Complex Migration Scenarios**  🎛️  \n",
    "\n",
    "### 🔍 **Synopsis**  \n",
    "\n",
    "**SFPPy-GUI 💫** provides a **user-friendly, code-free interface** for evaluating the **safety of food-contact materials** using **advanced mass transfer and migration modeling**.  \n",
    "\n",
    "- 🚀 **Seamlessly powered by the SFPPy core library**, it offers:  \n",
    "  - ✔️ **Intuitive interactive controls** for defining migration scenarios  \n",
    "  - ✔️ **The full power of SFPPy**—simulation chaining, built-in databases, plotting, and exporting  \n",
    "  - ✔️ **Automated result storage** in global dictionaries for flexible analysis  \n",
    "  - ✔️ **Customizable and extensible workflows** to fit specialized needs  \n",
    "- 📦 **Versatile & Secure:**\n",
    "  - **SFPPy-GUI** is designed for **maximum adaptability**, operating effortlessly in:\n",
    "    - ☁️ **Cloud-based environments** (e.g., [Google Colab](https://colab.research.google.com/)).\n",
    "    - 💻 **Local installations** (Jupyter Notebook)  \n",
    "    - 🔐 **Privacy-conscious workflows** for regulatory compliance  \n",
    "  - 🌟 **No coding required—just explore, configure, and analyze!** 🖱️✨  \n",
    "\n",
    "---\n",
    "\n",
    "<details>\n",
    "    <summary>Click to expand the tasks</summary>\n",
    "\n",
    "### **🛠️ How to Use SFPPy-GUI**\n",
    "\n",
    "1. **🚀 Initialize the Notebook**: Run all cells and ensure no errors appear in the **Global Setup**.\n",
    "2. **🍽️ Set Contact Conditions**: Define the **food type** (🥗🍓🍞🍰🥩), **process** (🔥♨️🍳), or **storage condition** (☀️❄️⏱️).  \n",
    "   - Click **\"Instantiate Custom Condition\"**.\n",
    "3. **📦 Define Packaging**: Choose a **packaging shape** (🥫🍼🫙🍱🛍️) and instantiate layers (up to 10).  \n",
    "   - Click **\"Create Packaging\"** and **\"Instantiate all layers\"**.\n",
    "4. **🧪 Select a Migrant**: Search for a **substance** (⌬) among millions in the database, then instantiate it for simulation.\n",
    "5. **📊 Run the Simulation**: Refresh the **Simulation Widget** (<kbd>CTRL+Enter</kbd>), modify settings if needed, and press **\"Launch Simulation\"**.\n",
    "6. **📉 Analyze the Results**: Refresh the **Result Widget** (<kbd>CTRL+Enter</kbd>) and choose from:  \n",
    "   - 📈 **Plot concentration kinetics** (time evolution of substance migration).  \n",
    "   - 🏗 **Plot concentration profile** (distribution within layers).  \n",
    "   - 🎯 **Evaluate a specific condition**.  \n",
    "   - 📋 **Generate a table of values**.\n",
    "</details>\n",
    "<details>\n",
    "    <summary> Click to expand the flowchart</summary>\n",
    "<br>\n",
    "    \n",
    "```mermaid\n",
    "graph TD;\n",
    "A0(🚀 Run all cells / Restart Kernel) -->|✅ Check Global Setup for Errors| A1(🍽️ Set Contact Conditions);\n",
    "A1 -->|\"📌 1 | Press Instantiate Custom Condition\"| A2(📦 Pick a Packaging Shape);\n",
    "A2 -->|\"🔨 2 | Press Create Packaging\"| A3(\"🔗 Define Packaging Layers\");\n",
    "A3 -->|\"📌 3 | Up to 10 layers, press Instantiate all layers\"| A4(🧪 Set Migrant);\n",
    "A4 -->|\"🔍 4 | Search Substance, then Instantiate Substance\"| A5(📊 Refresh Simulation Widget);\n",
    "A5 -->|\"🔄 5 | Press <kbd>CTRL+Enter</kbd>, adjust parameters if needed\"| A6(🚀 Launch Simulation);\n",
    "A6 -->|\"🔄 6 | Press <kbd>CTRL+Enter</kbd>, pick result from list\"| A7(📉 Refresh Result Widget);\n",
    "A7 -->|🎯 Choose one of four options| B1(📈 Plot Concentration Kinetics);\n",
    "A7 --> B2(🏗 Plot Concentration Profile);\n",
    "A7 --> B3(🎯 Evaluate One Condition);\n",
    "A7 --> B4(📋 Generate Table of Values);\n",
    "```\n",
    "</details>\n",
    "<details>\n",
    "    <Summary>Click to expand the list of global variables</Summary>\n",
    "<br>\n",
    "    \n",
    "> These dictionaries (dict) can be accessed directly within the notebook through the graphical interface or by referencing their names in new code cells. Each condition, material, or substance corresponds to an entry within its respective dictionary, allowing for flexible retrieval and modification.\n",
    "\n",
    "|  global variables  | category 🍽️                                                   | default entry name          |\n",
    "| :----------------: | ------------------------------------------------------------ | :--------------------------- |\n",
    "|  **`mycontacts`**  | - **Foods**: 🥗🍓🍞🥖🍰🥩🍗🥪🍕🍟<br />- **Processes**:🥧 🥘🍲🍳♨️🔥<br />- **Storage conditions**: ☀️❄️⏱️ | `mycontacts[\"contact1\"]`     |\n",
    "| **`mypackaging`**  | 🥫🌯🧃🫙🍼🍱🥡☕️🛍️🍸🍵🧋🏺                                                | `mypackaging[\"shape1\"]`      |\n",
    "| **`mymaterials`**  | - **Polymers**: ⫘⫘⫘⫘♳♴♵♶♷♸♹♼♽<br>-**Adhesives**:⫘⫘⫘🩹<br>- **Paper and Board**: 📜📦🎨 | `mymaterials[\"multilayer1\"]` |\n",
    "| **`mysubstances`** | ⌬ - Any **substance** with unique name or CID                | `mysubstances[\"m1\"]`         |\n",
    "| **`mymigration`**  | 📈📊📉: Reusable **simulation results** for plotting, chaining  | `mysubstances[\"mig1\"]`       |\n",
    "\n",
    "</details>"
   ]
  },
  {
   "cell_type": "markdown",
   "id": "a0886d2d-59ce-4899-a9d4-29853b55b575",
   "metadata": {
    "panel-layout": {
     "height": 50.8203,
     "visible": true,
     "width": 100
    }
   },
   "source": [
    "### Minimal Setup for SFPPy Core 🚀🔧⚙️\n",
    "\n",
    "> This setup is designed to work on any machine – whether SFPPy is already installed or not.  \n",
    "\n",
    "<details>\n",
    "    <summary>Click to Expand</summary>\n",
    "  \n",
    "> The cell attempts to import the core module `patankar.loadpubchem`.  \n",
    "> - If it **succeeds**, SFPPy is already initialized, and no further action is needed.  \n",
    "> - If it **fails**, the cell will try to run the initialization script `initialize_sfppy.py` (searched from several candidate paths).  \n",
    ">   - If the script is found, it will be executed.  \n",
    ">   - If not, the repository will be cloned (or refreshed) and then initialized.\n",
    ">  \n",
    "> After successful initialization, the full path to the SFPPy installation folder is displayed.  \n",
    ">  \n",
    "> **Note:** Make sure you are in a directory with access to SFPPy (or that can clone it). In a read-only environment, this cell will help you set up SFPPy temporarily.\n",
    "\n",
    "</details>"
   ]
  },
  {
   "cell_type": "code",
   "execution_count": 3,
   "id": "655515e2-8f28-4c6b-a3c9-3c3b84abcf1e",
   "metadata": {
    "scrolled": true
   },
   "outputs": [
    {
     "name": "stdout",
     "output_type": "stream",
     "text": [
      "⚠️ SFPPy not detected; attempting initialization.\n",
      "🔍 Running initialization script: /home/olivi/natacha/python/utils/initialize_sfppy.py\n",
      "✅ SFPPy successfully initialized.\n",
      "📁 SFPPy installation folder: /home/olivi/natacha/python\n"
     ]
    },
    {
     "data": {
      "text/html": [
       "\n",
       "  <div style=\"border-radius: 8px; padding: 12px; background: linear-gradient(to right, #4CAF50, #FF4D4D);\n",
       "              color: white; font-size: 28px; font-weight: bold; display: flex; align-items: center; justify-content: center; position: relative;\">\n",
       "  SFPPy - GUI 💫\n",
       "  <a href=\"https://github.com/ovitrac/SFPPy\" target=\"_blank\"\n",
       "    style=\"position: absolute; right: 12px; top: 10%; transform: translateY(-10%);\">\n",
       "      <img src=\"https://img.shields.io/badge/GitHub-SFPPy-4CAF50?style=for-the-badge&logo=github\"\n",
       "          alt=\"GitHub SFPPy\" style=\"border-radius: 8px;\">\n",
       "  </a>\n",
       "  <div style=\"position: absolute; right: 48px; top: 82%; transform: translateY(-82%); font-size: 14px; font-weight: bold;\">\n",
       "      <span style=\"color: white;\">v1.37</span>\n",
       "      <a href=\"mailto:olivier.vitrac@gmail.com\" title=\"E-mail the author\" style=\"margin-left: 8px;\">📩</a>\n",
       "      </div>\n",
       "  </div>\n"
      ],
      "text/plain": [
       "<IPython.core.display.HTML object>"
      ]
     },
     "metadata": {},
     "output_type": "display_data"
    },
    {
     "data": {
      "text/html": [
       "\n",
       "<div style=\"border-left: 4px solid #4CAF50; padding: 10px; background: transparent;\n",
       "            color: #4CAF50; font-weight: bold; font-size: 18px; text-align: left;\">\n",
       "    <span style=\"font-size: 20px;\"> Code-free interface to SFPPy - ⊹ ࣪ ﹏𓊝﹏𓂁﹏⊹ ࣪ ˖</span>\n",
       "</div>\n"
      ],
      "text/plain": [
       "<IPython.core.display.HTML object>"
      ]
     },
     "metadata": {},
     "output_type": "display_data"
    },
    {
     "data": {
      "text/html": [
       "\n",
       "<div style=\"border-left: 4px solid #FF4D4D; padding: 10px; background: transparent; color: #FF4D4D;\n",
       "            font-weight: bold; font-size: 14px; text-align: left;\">\n",
       "    ⚠️ Do not forget to press all green buttons and refresh interfaces with <kbd>Ctrl+enter</kbd>.\n",
       "</div>\n"
      ],
      "text/plain": [
       "<IPython.core.display.HTML object>"
      ]
     },
     "metadata": {},
     "output_type": "display_data"
    },
    {
     "data": {
      "text/html": [
       "\n",
       "<hr style=\"height: 4px; background-color: #4CAF50; box-shadow: 2px 2px 4px gray; border: none;\">\n"
      ],
      "text/plain": [
       "<IPython.core.display.HTML object>"
      ]
     },
     "metadata": {},
     "output_type": "display_data"
    }
   ],
   "source": [
    "import sys, os, builtins\n",
    "import ipywidgets as widgets\n",
    "from IPython.display import display, HTML\n",
    "\n",
    "verbose = True  # Set verbosity flag\n",
    "clone = True # True enable cloning from GitHub repo\n",
    "\n",
    "try:\n",
    "    import patankar.loadpubchem\n",
    "    if verbose: print(\"✅ SFPPy is already initialized; skipping initialization.\")\n",
    "except ImportError:\n",
    "    if verbose: print(\"⚠️ SFPPy not detected; attempting initialization.\")\n",
    "    base_dirs = [\"./SFPPy/utils\", \"../utils\", \"./utils\", \".\", \"../../utils\", \"../../../utils\"]\n",
    "    # Find candidates for the initialization script in various base directories.\n",
    "    candidates = [os.path.abspath(os.path.join(d, \"initialize_sfppy.py\"))\n",
    "                  for d in base_dirs if os.path.exists(os.path.join(d, \"initialize_sfppy.py\"))]\n",
    "    if candidates:\n",
    "        if verbose: print(f\"🔍 Running initialization script: {candidates[0]}\")\n",
    "        %run -i {candidates[0]} --no-verbose --no-cd\n",
    "        try:\n",
    "            import patankar.loadpubchem\n",
    "            if verbose: print(\"✅ SFPPy successfully initialized.\")\n",
    "        except ImportError: print(\"❌ ERROR: Initialization failed; 'patankar.loadpubchem' is still unavailable.\\n\", \"Current sys.path:\\n\", sys.path)\n",
    "    elif clone:\n",
    "        if not os.path.exists(\"SFPPy\"):\n",
    "            if verbose: print(\"📥 SFPPy repository not found. Cloning the repository – please be patient.\")\n",
    "            !git clone https://github.com/ovitrac/SFPPy.git  # First time: clone the repository\n",
    "        else:\n",
    "            if verbose: print(\"🔄 Refreshing the SFPPy repository.\")\n",
    "            !git -C SFPPy pull  # Subsequent times: update the repository if needed\n",
    "        %cd SFPPy\n",
    "        installationscript = os.path.abspath(os.path.join(os.getcwd(), \"utils\", \"initialize_sfppy.py\"))\n",
    "        %run -i {installationscript} --no-verbose --no-cd\n",
    "        try:\n",
    "            import patankar.loadpubchem\n",
    "            if verbose:\n",
    "                print(\"✅ SFPPy successfully initialized.\")\n",
    "        except ImportError: print(\"❌ ERROR: Initialization failed; 'patankar.loadpubchem' is still unavailable.\\n\", \"Current sys.path:\\n\", sys.path)\n",
    "    else:\n",
    "        raise FileNotFoundError(\"❌ ERROR: Either set clone=True or start the notebook from a valid SFPPy installation.\\n\")\n",
    "\n",
    "SFPPymainfolder = os.path.abspath(os.path.join(os.path.dirname(patankar.loadpubchem.__file__), \"..\"))\n",
    "print(\"📁 SFPPy installation folder:\", SFPPymainfolder)\n",
    "from utils.nbutils import create_header_footer, create_logo, create_subtitle, create_disclaimer, create_alert   # SFPPy utilities for notebooks\n",
    "(header,footer,separator) = create_header_footer(title=\"SFPPy - GUI 💫\",what=\"all\");\n",
    "logo, alert, disclaimer, subtitle = create_logo(), create_alert(fontsize=14), create_disclaimer(), create_subtitle(\" Code-free interface to SFPPy - ⊹ ࣪ ﹏𓊝﹏𓂁﹏⊹ ࣪ ˖\")\n",
    "display(header,subtitle,alert,separator)\n",
    "# Force all widgets to be run without clicking \n",
    "builtins._PREHEATED_ = True"
   ]
  },
  {
   "cell_type": "markdown",
   "id": "b05d5a62-7a9d-4d84-a1eb-ee535fb169cf",
   "metadata": {},
   "source": [
    "Welcome to the virtual environment: 👩🏻‍🔬⚗️🧪🥼"
   ]
  },
  {
   "cell_type": "code",
   "execution_count": 5,
   "id": "d9747849-a21c-47af-a55e-5820e734cf1c",
   "metadata": {},
   "outputs": [
    {
     "data": {
      "text/html": [
       "\n",
       "<hr style=\"height: 4px; background-color: #4CAF50; box-shadow: 2px 2px 4px gray; border: none;\">\n"
      ],
      "text/plain": [
       "<IPython.core.display.HTML object>"
      ]
     },
     "metadata": {},
     "output_type": "display_data"
    }
   ],
   "source": [
    "# import SFPPy widgets\n",
    "from IPython.display import display, HTML, clear_output      # for notebook appearance\n",
    "import ipywidgets as widgets\n",
    "from patankar.food import create_food_tree_widget            # food widget\n",
    "from patankar.geometry import create_packaging_widget        # geometry widget\n",
    "from patankar.layer import create_multi_layer_widget         # layer widget\n",
    "from patankar.loadpubchem import create_substance_widget     # substance widget\n",
    "from patankar.migration import create_simulation_widget, create_plotmigration_widget  # migration widgets\n",
    "display(separator)"
   ]
  },
  {
   "cell_type": "markdown",
   "id": "3a82126d-03c4-4716-a2e6-5006eef29202",
   "metadata": {
    "panel-layout": {
     "height": 192.953,
     "visible": true,
     "width": 100
    }
   },
   "source": [
    "## 1 | **Define contact conditions** 🗓️⏳🌡️🔥💧🧈🫒🧪\n",
    "> All contacts and mediums (food, simulants) are stored in dict: `mycontacts`\n",
    "\n",
    "💡 To review defined **food contact conditions**, use:\n",
    "```python\n",
    "mycontacts[\"contact1\"] # review the parameters below for the default food/contact conditions \"contact1\"\n",
    "```\n",
    "\n",
    "***\n"
   ]
  },
  {
   "cell_type": "code",
   "execution_count": 7,
   "id": "87230005-6868-447a-be45-bf71da24c837",
   "metadata": {},
   "outputs": [
    {
     "data": {
      "application/vnd.jupyter.widget-view+json": {
       "model_id": "868f9e2b30cc4bc6ada593bb0764705a",
       "version_major": 2,
       "version_minor": 0
      },
      "text/plain": [
       "VBox(children=(HBox(children=(Dropdown(description='Level 1:', options=('realfood', 'simulant', 'setoff', 'sta…"
      ]
     },
     "metadata": {},
     "output_type": "display_data"
    },
    {
     "data": {
      "text/html": [
       "\n",
       "<hr style=\"height: 4px; background-color: #4CAF50; box-shadow: 2px 2px 4px gray; border: none;\">\n"
      ],
      "text/plain": [
       "<IPython.core.display.HTML object>"
      ]
     },
     "metadata": {},
     "output_type": "display_data"
    }
   ],
   "source": [
    "food_tree_widget = create_food_tree_widget(); display(food_tree_widget, separator)"
   ]
  },
  {
   "cell_type": "markdown",
   "id": "01a14b82-f0e5-46f3-9ee3-719c9a3055b6",
   "metadata": {
    "panel-layout": {
     "height": 192.953,
     "visible": true,
     "width": 100
    }
   },
   "source": [
    "## 2 | **Define 3D Packaging Geometry** 🧃🧴📦🥫\n",
    "> All packaging geometries are stored in dict: `mypackaging`\n",
    "\n",
    "💡 To review existing **shape geometries**, use:\n",
    "```python\n",
    "mypackaging[\"shape1\"] # review the default geometry \"shape1\"\n",
    "```\n",
    "\n",
    "***"
   ]
  },
  {
   "cell_type": "code",
   "execution_count": 9,
   "id": "4d6dad2d-e2b1-40e9-80f6-942b9077ae15",
   "metadata": {
    "scrolled": true
   },
   "outputs": [
    {
     "data": {
      "application/vnd.jupyter.widget-view+json": {
       "model_id": "433008fad6d94ad48c289c221a693185",
       "version_major": 2,
       "version_minor": 0
      },
      "text/plain": [
       "VBox(children=(Dropdown(description='Shape:', layout=Layout(width='50%'), options=('cylinder', 'cone', 'rectan…"
      ]
     },
     "metadata": {},
     "output_type": "display_data"
    },
    {
     "data": {
      "text/html": [
       "\n",
       "<hr style=\"height: 4px; background-color: #4CAF50; box-shadow: 2px 2px 4px gray; border: none;\">\n"
      ],
      "text/plain": [
       "<IPython.core.display.HTML object>"
      ]
     },
     "metadata": {},
     "output_type": "display_data"
    }
   ],
   "source": [
    "packaging_widget = create_packaging_widget(); display(packaging_widget,separator)"
   ]
  },
  {
   "cell_type": "markdown",
   "id": "4343cb50-213f-4175-a221-ca56f8b69770",
   "metadata": {
    "panel-layout": {
     "height": 222.094,
     "visible": true,
     "width": 100
    }
   },
   "source": [
    "## 3 | **Define Packaging Layers** ♻️⛓️🔗🖇\n",
    "> All layers are assembled within a multi-layer structure stored `mymaterials`. The details of each layers are accessible in a dict: `mylayers`\n",
    "> Layers can be recombined as `mylayers[\"P1\"]+mylayers[\"P2\"]+...`\n",
    "> \n",
    "> Increase the number of layers up to `10` (programmatically, you use much more)\n",
    "\n",
    "💡 To review existing **materials**, use:\n",
    "```python\n",
    "mymaterials[\"multilayer1\"] # review the default assembled material \"multilayer1\"\n",
    "```\n",
    "\n",
    "***"
   ]
  },
  {
   "cell_type": "code",
   "execution_count": 11,
   "id": "3c34f6ab-3da4-47a5-a7f7-1ade8f606ab8",
   "metadata": {},
   "outputs": [
    {
     "data": {
      "application/vnd.jupyter.widget-view+json": {
       "model_id": "d6ff9851c6994a3ca35f382d97da7e76",
       "version_major": 2,
       "version_minor": 0
      },
      "text/plain": [
       "VBox(children=(IntSlider(value=1, continuous_update=False, description='Num Layers:', layout=Layout(width='50%…"
      ]
     },
     "metadata": {},
     "output_type": "display_data"
    },
    {
     "data": {
      "text/html": [
       "\n",
       "<hr style=\"height: 4px; background-color: #4CAF50; box-shadow: 2px 2px 4px gray; border: none;\">\n"
      ],
      "text/plain": [
       "<IPython.core.display.HTML object>"
      ]
     },
     "metadata": {},
     "output_type": "display_data"
    }
   ],
   "source": [
    "multi_layer_widget = create_multi_layer_widget(default_polymer=\"PP\", default_thickness_value=100, default_thickness_unit=\"µm\", default_c0=1000); display(multi_layer_widget, separator)"
   ]
  },
  {
   "cell_type": "markdown",
   "id": "481decb2-998a-4380-9238-6b785696c819",
   "metadata": {
    "panel-layout": {
     "height": 222.094,
     "visible": true,
     "width": 100
    }
   },
   "source": [
    "## 4 | **Set migrants/substances** 🔴🟠🟡🟢🔵🟣\n",
    "> Allsubstances are stored in dict: `mysubstances`\n",
    "\n",
    "\n",
    "💡 To review existing **substances**, use:\n",
    "```python\n",
    "mysubstances[\"m1\"] # review the default substance \"m1\"\n",
    "```\n",
    "\n",
    "***\n",
    "\n",
    "⚠️ It is a two-step process: (1) search the substance and (2) instantiate it‼️\n",
    "\n",
    "***"
   ]
  },
  {
   "cell_type": "code",
   "execution_count": 13,
   "id": "0a0768a4-f37b-4a06-af60-fd95e35a051e",
   "metadata": {},
   "outputs": [
    {
     "data": {
      "text/html": [
       "\n",
       "    <style>\n",
       "        .no-resize textarea {\n",
       "            resize: none !important;\n",
       "        }\n",
       "    </style>\n",
       "    "
      ],
      "text/plain": [
       "<IPython.core.display.HTML object>"
      ]
     },
     "metadata": {},
     "output_type": "display_data"
    },
    {
     "data": {
      "application/vnd.jupyter.widget-view+json": {
       "model_id": "f1025fc926e6458a91f4198218ab73f3",
       "version_major": 2,
       "version_minor": 0
      },
      "text/plain": [
       "HBox(children=(VBox(children=(Text(value='Irganox 1010', description='Substance:', layout=Layout(width='96%'),…"
      ]
     },
     "metadata": {},
     "output_type": "display_data"
    },
    {
     "data": {
      "text/html": [
       "\n",
       "<hr style=\"height: 4px; background-color: #4CAF50; box-shadow: 2px 2px 4px gray; border: none;\">\n"
      ],
      "text/plain": [
       "<IPython.core.display.HTML object>"
      ]
     },
     "metadata": {},
     "output_type": "display_data"
    }
   ],
   "source": [
    "substance_widget = create_substance_widget(\"Irganox 1010\"); display(substance_widget,separator)"
   ]
  },
  {
   "cell_type": "markdown",
   "id": "b5518625-542d-4ca4-8e6b-f40a10a7b9b4",
   "metadata": {
    "panel-layout": {
     "height": 222.094,
     "visible": true,
     "width": 100
    }
   },
   "source": [
    "## 5 | **Launch simulation** 🚀⋆✴︎˚｡⋆\n",
    "\n",
    "> `SFPPy` integrate pipelines to evaluate complex operations. Three operators are used `%` (substance ⌬ injection), `<<` (inherit) and `>>` (propagate, run). The pipeline prototype is:\n",
    "\n",
    "| <kbd>m</kbd>`%` |        <kbd>F</kbd>         |  `<<` <kbd>G</kbd>  `>>`   |       <kbd>P</kbd>  `>>`    |    <kbd>S</kbd>  `>>`   <kbd>S</kbd>  |\n",
    "| :----------: | :-------------------------: | :---------------: | :---------------------: | :-----------------: |\n",
    "| *substance*  | *food or contact condition* | *geometry/shape* | *material (multilayer)* | *simulation result* |\n",
    "| ⌬  | 🥗🥪🍟🥘🍳🔥☀️❄️⏱️ | 🥫🌯🧃🫙🍼🍱 | ♳♴♵♶♷♸♹♼♽ | 📈📊📉 |\n",
    "\n",
    "\n",
    "```python\n",
    "mymigration[\"mig1\"] = mysubstances[\"m1\"] % mycontacts[\"contact1\"] << mypackaging[\"shape1\"] >> mymaterials[\"multilayer1\"] >> mycontacts[\"contact1\"]\n",
    "```\n",
    "\n",
    "***\n",
    "⚠️ You may need to refresh this cell (<kbd>CTRL</kbd>+<kbd>ENTER</kbd>) to automatically feed the fields with existing entries.\n",
    "***"
   ]
  },
  {
   "cell_type": "code",
   "execution_count": 15,
   "id": "d62d3f2e-6731-4dfa-b0ee-cae91490ef27",
   "metadata": {
    "scrolled": true
   },
   "outputs": [
    {
     "data": {
      "application/vnd.jupyter.widget-view+json": {
       "model_id": "0b41c5b61bd44a0ba848aba9f871ed0d",
       "version_major": 2,
       "version_minor": 0
      },
      "text/plain": [
       "VBox(children=(HBox(children=(Dropdown(description='Substance:', layout=Layout(width='200px'), options=('m1',)…"
      ]
     },
     "metadata": {},
     "output_type": "display_data"
    },
    {
     "data": {
      "text/html": [
       "\n",
       "<hr style=\"height: 4px; background-color: #4CAF50; box-shadow: 2px 2px 4px gray; border: none;\">\n"
      ],
      "text/plain": [
       "<IPython.core.display.HTML object>"
      ]
     },
     "metadata": {},
     "output_type": "display_data"
    }
   ],
   "source": [
    "sim_widget = create_simulation_widget(); display(sim_widget,separator)"
   ]
  },
  {
   "cell_type": "markdown",
   "id": "76a98e62-8e32-4ed8-bf6e-0d69048aad89",
   "metadata": {
    "panel-layout": {
     "height": 210.094,
     "visible": true,
     "width": 100
    }
   },
   "source": [
    "## 6 | **Analyze results** 📈🚩\n",
    "\n",
    "The results can be reviewed with\n",
    "```python\n",
    "mymigration[\"mig1\"].plotCF() # to plot concentration kinetics\n",
    "mymigration[\"mig1\"].plotCx() # to plot concentration profile at targeted time\n",
    "```\n",
    "\n",
    "***\n",
    "⚠️ You may need to refresh this cell (<kbd>CTRL</kbd>+<kbd>ENTER</kbd>) to automatically feed the fields with existing entries.\n",
    "***"
   ]
  },
  {
   "cell_type": "code",
   "execution_count": 17,
   "id": "f7327cb4-c330-4ca3-911b-2a4738d6d5ec",
   "metadata": {},
   "outputs": [
    {
     "data": {
      "application/vnd.jupyter.widget-view+json": {
       "model_id": "889fb0ff92f6432f9b39c4fb827e6dc9",
       "version_major": 2,
       "version_minor": 0
      },
      "text/plain": [
       "VBox(children=(HTML(value='<h3>Migration Simulation Evaluation</h3>'), VBox(children=(HBox(children=(Dropdown(…"
      ]
     },
     "metadata": {},
     "output_type": "display_data"
    },
    {
     "data": {
      "text/html": [
       "\n",
       "<hr style=\"height: 4px; background-color: #4CAF50; box-shadow: 2px 2px 4px gray; border: none;\">\n"
      ],
      "text/plain": [
       "<IPython.core.display.HTML object>"
      ]
     },
     "metadata": {},
     "output_type": "display_data"
    }
   ],
   "source": [
    "mig_widget = create_plotmigration_widget(); display(mig_widget, separator)"
   ]
  },
  {
   "cell_type": "markdown",
   "id": "e1dbfaf5-cfb6-45ff-b03d-53be99845a30",
   "metadata": {
    "panel-layout": {
     "height": 380.812,
     "visible": true,
     "width": 100
    }
   },
   "source": [
    "## 7 | **How to develop more complex food contact 🍽️ scenarios: an overview**\n",
    "\n",
    "> Running a simulation with $n$ steps <kbd>F1</kbd>…<kbd>Fn</kbd> is coded from left to right reads as:\n",
    "\n",
    "| <kbd>m</kbd> `%` <kbd>F</kbd>  ⏪ <kbd>G</kbd>⏩ <kbd>P</kbd> ⏩ <kbd>F1</kbd> ⏩ <kbd>F2</kbd> …⏩ <kbd>Fn</kbd> |\n",
    "| ------------------------------------------------------------ |\n",
    "\n",
    "\n",
    "<details>\n",
    "    <summary>Click to expand details on operators and pipelines.</summary>\n",
    "\n",
    "> A pipeline invokes operators (`%`,`<<` and `>>`) to stream information and mass transfer in complex scenarios.\n",
    "\n",
    "\n",
    "| action   | injection of substance <kbd>m</kbd>                          | inherit geometry <kbd>G</kbd>                | propagate or run              |\n",
    "| -------: | :----------------------------------------------------------: | :------------------------------------------: | :---------------------------: |\n",
    "| operator | `%`                                                          | `<<`                                         | `>>`                          |\n",
    "| syntax | <kbd>m</kbd> `%` <kbd>F</kbd> ➡ <kbd>F</kbd>  <br><kbd>m</kbd> `%` <kbd>P</kbd>  ➡ <kbd>P</kbd>  <br/> | <kbd>F</kbd> ⬅ <kbd>F</kbd> `<<` <kbd>G</kbd> | <kbd>F</kbd> `>>` <kbd>P</kbd> ➡ <kbd>P</kbd>  <br><kbd>P</kbd> `>>` <kbd>F</kbd> ➡ <kbd>S</kbd>  <br /><kbd>S</kbd> `>>` <kbd>F</kbd> ➡ <kbd>S</kbd>  <br /> |\n",
    "\n",
    "> The direction of the operator is indicated by ⬅ or ➡, and the operands are:\n",
    "\n",
    "| <kbd>m</kbd> |        <kbd>F</kbd>         |   <kbd>G</kbd>    |       <kbd>P</kbd>      |    <kbd>S</kbd>     |\n",
    "| :----------: | :-------------------------: | :---------------: | :---------------------: | :-----------------: |\n",
    "| *substance*  | *food or contact condition* | *geometry/shape* | *material (multilayer)* | *simulation result* |\n",
    "| ⌬  | 🥗🥪🍟🥘🍳🔥☀️❄️⏱️ | 🥫🌯🧃🫙🍼🍱 | ♳♴♵♶♷♸♹♼♽ | 📈📊📉 |\n",
    "\n",
    "\n",
    "\n",
    "\n",
    "```mermaid\n",
    "---\n",
    "title: Principles of Simulation Chaining with More than One Step\n",
    "---\n",
    "\n",
    "graph LR;\n",
    "    A[\"M: Substance List\"] -->|\"Select m\"| B[\"Injection ⌬\"];\n",
    "    B -->|\"Food & Contact Condition 🥗🔥❄️⏱️\"| C[\"Geometry/Shape 🥫🍼🫙\"];\n",
    "    C -->|\"Material (Multilayer) ♳♴♵♶\"| D[\"Simulation Step 1 📈\"];\n",
    "    D -->|\"Intermediate Concentration C1\"| D2[\"Simulation Step 2 📉\"];\n",
    "    D2 -->|\"Final Concentration at t_target\"| E[\"CF: Stored Results\"];\n",
    "\n",
    "    subgraph \"SFPPy Simulation Operators\"\n",
    "        O1[\"<kbd>%</kbd> Injection\"] --> O2[\"<kbd><<</kbd> Inherit Properties\"];\n",
    "        O2 --> O3[\"<kbd>>></kbd> Propagate & Run Step 1\"];\n",
    "        O3 --> O4[\"<kbd>>></kbd> Propagate & Run Step 2\"];\n",
    "    end\n",
    "\n",
    "    %% Styling for readability and transparency\n",
    "    style B fill:#FFF4C2,stroke:#666,stroke-width:1px,fill-opacity:0.7;\n",
    "    style C fill:#FFDAB9,stroke:#666,stroke-width:1px,fill-opacity:0.7;\n",
    "    style D fill:#FFB6C1,stroke:#666,stroke-width:1px,fill-opacity:0.7;\n",
    "    style D2 fill:#FF69B4,stroke:#666,stroke-width:1px,fill-opacity:0.7;\n",
    "    style E fill:#90EE90,stroke:#666,stroke-width:1px,fill-opacity:0.7;\n",
    "\n",
    "```\n",
    "</details>"
   ]
  },
  {
   "cell_type": "markdown",
   "id": "5d99a1d9-1c68-4afb-a231-4d553ab64d09",
   "metadata": {},
   "source": [
    "The inputs of the graphical interface can be combined with Python code for more complex scenarios as detailed in the documentation."
   ]
  },
  {
   "cell_type": "code",
   "execution_count": 20,
   "id": "7db98318-ae59-4084-922a-7667ba00894a",
   "metadata": {
    "panel-layout": {
     "height": 93.7109,
     "visible": true,
     "width": 100
    }
   },
   "outputs": [
    {
     "data": {
      "image/png": "[encoded data removed]",
      "text/plain": [
       "<PrintableFigure size 800x600 with 1 Axes>"
      ]
     },
     "metadata": {},
     "output_type": "display_data"
    },
    {
     "data": {
      "text/html": [
       "\n",
       "<div style=\"border: 2px solid #4CAF50; border-radius: 8px; padding: 10px; background: linear-gradient(to right, #4CAF50, #FF4D4D); color: white; text-align: center; font-weight: bold;\">\n",
       "  <span style=\"font-size: 20px;\">🍏⏩🍎 <strong>SFPPy for Food Contact Compliance and Risk Assessment</strong></span><br>\n",
       "  Contact <a href=\"mailto:olivier.vitrac@gmail.com\" style=\"color: #fff; text-decoration: underline;\">Olivier Vitrac</a> for questions |\n",
       "  <a href=\"https://github.com/ovitrac/SFPPy\" style=\"color: #fff; text-decoration: underline;\">Website</a> |\n",
       "  <a href=\"https://ovitrac.github.io/SFPPy/\" style=\"color: #fff; text-decoration: underline;\">Documentation</a>\n",
       "</div>\n"
      ],
      "text/plain": [
       "<IPython.core.display.HTML object>"
      ]
     },
     "metadata": {},
     "output_type": "display_data"
    },
    {
     "data": {
      "text/html": [
       "\n",
       "<hr style=\"height: 4px; background-color: #4CAF50; box-shadow: 2px 2px 4px gray; border: none;\">\n"
      ],
      "text/plain": [
       "<IPython.core.display.HTML object>"
      ]
     },
     "metadata": {},
     "output_type": "display_data"
    },
    {
     "data": {
      "text/html": [
       "\n",
       "<div style=\"border-left: 4px solid #FF4D4D; padding: 10px; background: transparent; color: #FF4D4D;\n",
       "        font-weight: bold; font-size: 12px; text-align: left;\">\n",
       "⚠️ <strong>DISCLAIMER</strong><br>\n",
       "This material is provided “AS IS” solely for demonstration and training. No warranty—express or implied—is given regarding its accuracy, completeness, or suitability for any particular purpose. 📌 Users are fully responsible for assessing its relevance and ensuring compliance with all applicable regulations. 🔬 The illustrative example underscores the risks of treating “migration modeling” as a mere “black box,” potentially leading to misinterpretation of mass transfer phenomena. 🚫 Neither the authors nor their organizations accept any liability for reliance on or use of this material.\n",
       "</div>\n"
      ],
      "text/plain": [
       "<IPython.core.display.HTML object>"
      ]
     },
     "metadata": {},
     "output_type": "display_data"
    },
    {
     "data": {
      "text/html": [
       "\n",
       "<hr style=\"height: 4px; background-color: #4CAF50; box-shadow: 2px 2px 4px gray; border: none;\">\n"
      ],
      "text/plain": [
       "<IPython.core.display.HTML object>"
      ]
     },
     "metadata": {},
     "output_type": "display_data"
    }
   ],
   "source": [
    "# A scripted code\n",
    "mymigration[\"mig1\"] = mysubstances[\"m1\"] % mycontacts[\"contact1\"] << mypackaging[\"shape1\"] >> mymaterials[\"multilayer1\"] >> mycontacts[\"contact1\"]\n",
    "mymigration[\"mig1\"].plotCF(title=\"scripted simulation\",plotSML=False)\n",
    "display(footer, separator, disclaimer, separator)"
   ]
  },
  {
   "cell_type": "markdown",
   "id": "0ced0eea-f061-4f22-9f4b-76f2e3b8b12f",
   "metadata": {},
   "source": [
    "## **Appendices | Examples for creating your own interface**\n",
    "\n",
    "You can easily customize the interface SFFPy GUI💫 with your own interactive widgets."
   ]
  },
  {
   "cell_type": "markdown",
   "id": "3cc38726-485f-4ee3-9680-029675874286",
   "metadata": {},
   "source": [
    "### **Appendix 1** | *Simple search box to look for a substance*"
   ]
  },
  {
   "cell_type": "code",
   "execution_count": 23,
   "id": "a4bcdda4-32b0-46a2-8616-c5660b3a0e15",
   "metadata": {},
   "outputs": [
    {
     "data": {
      "application/vnd.jupyter.widget-view+json": {
       "model_id": "acbd0be55f3d42ee894961f07e466230",
       "version_major": 2,
       "version_minor": 0
      },
      "text/plain": [
       "interactive(children=(Text(value='anisole', description='substance'), Output()), _dom_classes=('widget-interac…"
      ]
     },
     "metadata": {},
     "output_type": "display_data"
    },
    {
     "data": {
      "text/html": [
       "\n",
       "<hr style=\"height: 4px; background-color: #4CAF50; box-shadow: 2px 2px 4px gray; border: none;\">\n"
      ],
      "text/plain": [
       "<IPython.core.display.HTML object>"
      ]
     },
     "metadata": {},
     "output_type": "display_data"
    }
   ],
   "source": [
    "# Dependencies\n",
    "from ipywidgets import interact\n",
    "from patankar.loadpubchem import migrantToxtree # replace migrantToxtree by migrant if you use a light version of SFPPy\n",
    "# showsubstance is a small function showing records and the imahge of any substance\n",
    "def showsubstance(substance): repr(migrantToxtree(substance, raiseerror=False)); display(migrantToxtree(substance, raiseerror=False).image);\n",
    "# This will create a text box where the substance can be changed\n",
    "interact(showsubstance,substance = \"anisole\")\n",
    "display(separator)"
   ]
  },
  {
   "cell_type": "markdown",
   "id": "b4b06100-89d2-4244-9cee-93cbf59df51b",
   "metadata": {},
   "source": [
    "### **Appendix 2** | *Advanced search box to update a substance in the simulation*\n",
    "\n",
    "> With a little more effort, we can rearrange the text and the image side by side.\n",
    "> \n",
    "> We can populate the new molecule so-called `m2` to the collection of substances in the notebook with `mysubstances[\"m2\"] = tox`"
   ]
  },
  {
   "cell_type": "code",
   "execution_count": 25,
   "id": "fa35de24-4c39-46a2-870c-24a890d8fd73",
   "metadata": {},
   "outputs": [
    {
     "data": {
      "application/vnd.jupyter.widget-view+json": {
       "model_id": "228a93ac7ef94edbbcb0e2613031f790",
       "version_major": 2,
       "version_minor": 0
      },
      "text/plain": [
       "interactive(children=(Text(value='BPA', description='substance'), IntSlider(value=40, description='Size (%)', …"
      ]
     },
     "metadata": {},
     "output_type": "display_data"
    },
    {
     "data": {
      "text/html": [
       "\n",
       "<hr style=\"height: 4px; background-color: #4CAF50; box-shadow: 2px 2px 4px gray; border: none;\">\n"
      ],
      "text/plain": [
       "<IPython.core.display.HTML object>"
      ]
     },
     "metadata": {},
     "output_type": "display_data"
    }
   ],
   "source": [
    "from ipywidgets import interact, HBox, Output, IntSlider\n",
    "from patankar.loadpubchem import migrantToxtree  # or migrant if using the light version\n",
    "from IPython.display import display\n",
    "\n",
    "# Function to display substance information in a column format with resized image\n",
    "def showsubstance(substance,size):\n",
    "    tox = migrantToxtree(substance)\n",
    "    # Output widget for text\n",
    "    text_output = Output()\n",
    "    with text_output: display(tox)\n",
    "    # Output widget for resized image (one-liner for resizing)\n",
    "    img_output = Output()\n",
    "    with img_output:\n",
    "        display(tox.image.resize((int(tox.image.width * size/100), int(tox.image.height * size/100))))\n",
    "    # Arrange side-by-side\n",
    "    display(HBox([text_output, img_output]))\n",
    "    # Update m1\n",
    "    mysubstances[\"m2\"] = tox # the selected substance is becoming active in the whole notebook as m2\n",
    "\n",
    "# Create the interactive widget\n",
    "interact(showsubstance, substance=\"BPA\",size=IntSlider(value=40, min=10, max=120, step=2, description=\"Size (%)\"))\n",
    "display(separator)"
   ]
  },
  {
   "cell_type": "markdown",
   "id": "d0921a04-88ed-401c-b341-2a053716a08c",
   "metadata": {},
   "source": [
    "### **Appendix 3** | *Dynamic interface to visualize the effect of diffusion and Henry-like coefficients*\n",
    "\n",
    "> The interface can be used to tune any parameter in the simulation pipeline and to feed the global variables `mymaterials`, `my results`. In the example below a `\"test\"` material is derived from `\"multilayer1\"` (polymer, thicknesses, initial concentrations remain unchanged) and we attach links to external diffusivity $D$ and Henry-like coefficients $k$ for the first layer (indexed 0).\n",
    ">\n",
    "> Two sliders control the values of $D$ and $k$ on a decimal logarithmic scale."
   ]
  },
  {
   "cell_type": "code",
   "execution_count": 27,
   "id": "8895362d-9159-4ae2-91eb-64bcc2e3e0dc",
   "metadata": {},
   "outputs": [
    {
     "data": {
      "application/vnd.jupyter.widget-view+json": {
       "model_id": "b49fc2998a614def92bc6674a1aecc79",
       "version_major": 2,
       "version_minor": 0
      },
      "text/plain": [
       "interactive(children=(FloatSlider(value=-15.0, continuous_update=False, description='log10(D) with D in m²/s -…"
      ]
     },
     "metadata": {},
     "output_type": "display_data"
    },
    {
     "data": {
      "text/html": [
       "\n",
       "<hr style=\"height: 4px; background-color: #4CAF50; box-shadow: 2px 2px 4px gray; border: none;\">\n"
      ],
      "text/plain": [
       "<IPython.core.display.HTML object>"
      ]
     },
     "metadata": {},
     "output_type": "display_data"
    },
    {
     "data": {
      "text/html": [
       "\n",
       "<hr style=\"height: 4px; background-color: #4CAF50; box-shadow: 2px 2px 4px gray; border: none;\">\n",
       "<div style=\"display: flex; align-items: flex-start; font-family: monospace; font-size: 14px; line-height: 1.3; margin: 0.5em 0; max-width: 100%;\">\n",
       "  <!-- Left: Emoji “Logo” (Single line, scrollable if too wide) -->\n",
       "  <div style=\"white-space: nowrap; overflow-x: auto; margin-right: 15px;\">\n",
       "    🍽️🍽️🍽️🍽️🍽️🍽️🍽️🍽️🍽️🍽️🍽️🍽️🍽️🍽️🍽️🍽️🍽️🍽️🍽️🍽️🍽️🍽️🍽️🍽️🍽️🍽️🍽️🍽️🍽️🍽️🍽️🍽️🍽️🍽️🍽️<br>\n",
       "    🍽️🍽️🍎🍎🍎🍎🍽️🍽️🍎🍎🍎🍎🍎🍽️🍽️🍏🍏🍏🍏🍽️🍽️🍽️🍎🍎🍎🍎🍽️🍽️🍽️🍽️🍽️🍽️🍽️🍽️🍽️<br>\n",
       "    🍽️🍎🍽️🍽️🍽️🍽️🍽️🍽️🍎🍽️🍽️🍽️🍽️🍽️🍽️🍏🍽️🍽️🍽️🍏🍽️🍽️🍎🍽️🍽️🍽️🍎🍽️🍽️🐍🍽️🍽️🍽️🐍🍽️<br>\n",
       "    🍽️🍽️🍎🍎🍎🍽️🍽️🍽️🍎🍎🍎🍎🍽️🍽️🍽️🍏🍏🍏🍏🍽️🍽️🍽️🍎🍎🍎🍎🍽️🍽️🍽️🍽️🐍🍽️🐍🍽️🍽️<br>\n",
       "    🍽️🍽️🍽️🍽️🍽️🍎🍽️🍽️🍎🍽️🍽️🍽️🍽️🍽️🍽️🍏🍽️🍽️🍽️🍽️🍽️🍽️🍎🍽️🍽️🍽️🍽️🍽️🍽️🍽️🍽️🐍🍽️🍽️🍽️<br>\n",
       "    🍽️🍎🍎🍎🍎🍽️🍽️🍽️🍎🍽️🍽️🍽️🍽️🍽️🍽️🍏🍽️🍽️🍽️🍽️🍽️🍽️🍎🍽️🍽️🍽️🍽️🍽️🍽️🍽️🍽️🐍🍽️🍽️🍽️<br>\n",
       "    🍽️🍽️🍽️🍽️🍽️🍽️🍽️🍽️🍽️🍽️🍽️🍽️🍽️🍽️🍽️🍽️🍽️🍽️🍽️🍽️🍽️🍽️🍽️🍽️🍽️🍽️🍽️🍽️🍽️🍽️🍽️🍽️🍽️🍽️🍽️<br>\n",
       "  </div>\n",
       "  <!-- Center: GitHub Badge + Version (column layout) -->\n",
       "  <div style=\"display: flex; flex-direction: column; align-items: center; margin-right: 15px;\">\n",
       "    <a href=\"https://github.com/ovitrac/SFPPy\" target=\"_blank\">\n",
       "      <img src=\"https://img.shields.io/badge/GitHub-SFPPy-4CAF50?style=for-the-badge&logo=github\" alt=\"GitHub SFPPy\" style=\"border-radius: 8px;\">\n",
       "    </a>\n",
       "    <div style=\"margin-top: 4px; font-weight: bold; color: #FF4D4D;\">v1.37 <a href=\"mailto:olivier.vitrac@gmail.com\" title=\"E-mail the author\">📩</a></div>\n",
       "  </div>\n",
       "</div>\n"
      ],
      "text/plain": [
       "<IPython.core.display.HTML object>"
      ]
     },
     "metadata": {},
     "output_type": "display_data"
    }
   ],
   "source": [
    "import ipywidgets as widgets\n",
    "import numpy as np\n",
    "from ipywidgets import interact\n",
    "from patankar.layer import layerLink\n",
    "\n",
    "# we create a copy of the material \"multilayer\" and call it \"test\"\n",
    "mymaterials[\"test\"] = mymaterials[\"multilayer1\"].copy()\n",
    "\n",
    "# Create dynamic links for `D` (diffusivity) and `k` (Henry-like coefficients)\n",
    "D = layerLink(\"D\")\n",
    "D[0] = 1e-12  # Initial diffusivity\n",
    "mymaterials[\"test\"].Dlink = D  # Attach the link\n",
    "\n",
    "k = layerLink(\"k\")\n",
    "k[0] = 1  # Initial k value\n",
    "mymaterials[\"test\"].klink = k  # Attach the link\n",
    "\n",
    "\n",
    "# Function to update both D and k and restart the simulation\n",
    "def update_materials(log10D, log10k):\n",
    "    D[0] = np.exp(np.log(10) * log10D)  # Convert log10D back to normal scale\n",
    "    k[0] = np.exp(np.log(10) * log10k)  # Convert log10k back to normal scale\n",
    "    \n",
    "    # Run the simulation with the new values\n",
    "    mymigration[\"test\"] = mysubstances[\"m1\"] % mycontacts[\"contact1\"] << mypackaging[\"shape1\"] >> mymaterials[\"test\"] >> mycontacts[\"contact1\"]\n",
    "    \n",
    "    # Plot with updated parameters\n",
    "    title_text = f\"Test simulation for D[0]={D[0]:.4g} m²/s, k[0]={k[0]:.4g}\"\n",
    "    mymigration[\"test\"].plotCF(title=title_text, subtitle=\"change the values with the sliders above\", plotSML=False)\n",
    "\n",
    "# Create interactive widget with two long sliders\n",
    "interact(\n",
    "    update_materials,\n",
    "    log10D=widgets.FloatSlider(\n",
    "        value=-15,  # Default value (1e-15)\n",
    "        min=-21,    # Minimum value (1e-21)\n",
    "        max=-10,    # Maximum value (1e-10)\n",
    "        step=0.2,   # Step size\n",
    "        description=\"log10(D) with D in m²/s - doffisvity in the first layer\",\n",
    "        continuous_update=False,  # Avoid updating while dragging\n",
    "        layout={'width': '600px'},  # Make the slider longer\n",
    "        style={'description_width': '150px'}  # Increase description space\n",
    "    ),\n",
    "    log10k=widgets.FloatSlider(\n",
    "        value=0,  # Default value (k=10^0 = 1)\n",
    "        min=-4,   # Minimum value (10⁻⁴)\n",
    "        max=4,    # Maximum value (10⁴)\n",
    "        step=0.2,  # Step size\n",
    "        description=\"log10(k) with k in a.u. (k/k0)=Food-to-pack partition coefficient\",\n",
    "        continuous_update=False,  # Avoid updating while dragging\n",
    "        layout={'width': '600px'},  # Make the slider longer\n",
    "        style={'description_width': '150px'}  # Increase description space\n",
    "    )\n",
    ");\n",
    "display(separator, logo)"
   ]
  }
 ],
 "metadata": {
  "kernelspec": {
   "display_name": "Python [conda env:base] *",
   "language": "python",
   "name": "conda-base-py"
  },
  "language_info": {
   "codemirror_mode": {
    "name": "ipython",
    "version": 3
   },
   "file_extension": ".py",
   "mimetype": "text/x-python",
   "name": "python",
   "nbconvert_exporter": "python",
   "pygments_lexer": "ipython3",
   "version": "3.10.15"
  },
  "panel-cell-order": [
   "f2ec8f36-d99d-415c-8c85-2aaa3be012e2",
   "a0886d2d-59ce-4899-a9d4-29853b55b575",
   "3a82126d-03c4-4716-a2e6-5006eef29202",
   "01a14b82-f0e5-46f3-9ee3-719c9a3055b6",
   "4343cb50-213f-4175-a221-ca56f8b69770",
   "481decb2-998a-4380-9238-6b785696c819",
   "b5518625-542d-4ca4-8e6b-f40a10a7b9b4",
   "76a98e62-8e32-4ed8-bf6e-0d69048aad89",
   "e1dbfaf5-cfb6-45ff-b03d-53be99845a30",
   "488a8fbe-8f05-4adb-8054-471a8af62ca0"
  ],
  "widgets": {
   "application/vnd.jupyter.widget-state+json": {
    "state": {
     "02bdf6e90b07437381b35390cba53522": {
      "model_module": "@jupyter-widgets/controls",
      "model_module_version": "2.0.0",
      "model_name": "TextModel",
      "state": {
       "description": "substance",
       "layout": "IPY_MODEL_c05b6efb439640a494ecefeac7c466bf",
       "style": "IPY_MODEL_59932d443f1b4e528e8a2940dab70e57",
       "value": "anisole"
      }
     },
     "0347958b65e14884ba3db7848d7739ab": {
      "model_module": "@jupyter-widgets/base",
      "model_module_version": "2.0.0",
      "model_name": "LayoutModel",
      "state": {}
     },
     "04a1a190bdc14f9f884c40aee3bd699a": {
      "model_module": "@jupyter-widgets/base",
      "model_module_version": "2.0.0",
      "model_name": "LayoutModel",
      "state": {}
     },
     "04ced47a0a244fb4ab898fea7de85228": {
      "model_module": "@jupyter-widgets/controls",
      "model_module_version": "2.0.0",
      "model_name": "DropdownModel",
      "state": {
       "_options_labels": [
        "Dovernox 10",
        "NS00006684",
        "Q27253913",
        "NCGC00255211-01",
        "2,2-Bis(((3-(3,5-di-tert-butyl-4-hydroxyphenyl)propanoyl)oxy)methyl)propane-1,3-diyl bis(3-(3,5-di-tert-butyl-4-hydroxyphenyl)propanoate)",
        "BRN 2035465",
        "MSK3113",
        "Tetrakis-(methylene-(3,5-di-(tert)-butyl-4-hydrocinnamate)) methane",
        "AS-13857",
        "CAS-6683-19-8",
        "ANOX 20",
        "Tetrakis(methylene(3,5-di-tert-butyl-4-hydroxyhydrocinnamate)methane",
        "Tetrakis[methylene(3,5-di-tert-butyl-4-hydroxyhydrocinnamate)methane]",
        "IR 1010",
        "PENTAERYTHRITOL 4-HYDROXY-3,5-DI-TERT-BUTYLPHENYLPROPIONATE",
        "Benzenepropanoic acid, 3,5-bis(1,1-dimethylethyl)-4-hydroxy-, 2,2-bis[[3-[3,5-bis(1,1-dimethylethyl)-4-hydroxyphenyl]-1-oxopropoxy]methyl]-1,3-propanediyl ester",
        "Pentaerythritol, tetrakis(3,5-di-tert-butyl-4-hydroxyhydrocinnamate)",
        "A11596",
        "MFCD00059345",
        "TINOGARD TTDD",
        "PLASTIC ADDITIVE 2",
        "Benzenepropanoic acid, 3,5-bis(1,1-dimethylethyl)-4-hydroxy-, 2,2-bis((3-(3,5-bis(1,1-dimethylethyl)-4-hydroxyphenyl)-1-oxopropoxy)methyl)-1,3-propanediyl ester",
        "HY-W010653",
        "Pentaerythritol Tetrakis[3-(3,5-di-tert-butyl-4-hydroxyphenyl)propionate]",
        "Pentaerythritol tetrakis[3-(3',5'-di-tert-butyl-4'-hydroxyphenyl)propionate]",
        "2,2-Bis(((3-(3,5-di-tert-butyl-4-hydroxyphenyl)propanoyl)oxy)methyl)propane-1,3-diylbis(3-(3,5-di-tert-butyl-4-hydroxyphenyl)propanoate)",
        "EINECS 229-722-6",
        "IRGANOX-1010",
        "[3-[3-(3,5-ditert-butyl-4-hydroxyphenyl)propanoyloxy]-2,2-bis[3-(3,5-ditert-butyl-4-hydroxyphenyl)propanoyloxymethyl]propyl] 3-(3,5-ditert-butyl-4-hydroxyphenyl)propanoate",
        "3-([3-(3,5-Ditert-butyl-4-hydroxyphenyl)propanoyl]oxy)-2,2-bis(([3-(3,5-ditert-butyl-4-hydroxyphenyl)propanoyl]oxy)methyl)propyl 3-(3,5-ditert-butyl-4-hydroxyphenyl)propanoate #",
        "Tetraalkofen BPE",
        "TINOGARD TT",
        "1ST3113-1000",
        "PD132638",
        "ADK Stab AO 60",
        "1ST3113",
        "6683-19-8",
        "Sumilizer BP 101",
        "AKOS005444166",
        "CS-W011369",
        "Fenozan 23",
        "Antioxidant 1010",
        "PENTAERTHRITYL TETRA-DI-T-BUTYL HYDROXYHYDROCINNAMATE",
        "Irganox 1010",
        "SCHEMBL30209",
        "Tetrakis [methylene (3,5-di-t-butyl-4-hydroxyhydrocinnamate)] methane",
        "Pentaerythritol Tetrakis(3-?(3,?5-?di-?tert-?butyl-?4-?hydroxyphenyl)?propionate)",
        "Tox21_301970",
        "Tetrakis(3-(4-hydroxy-3,5-di-tert-butylphenyl)propionyloxymethyl)methane",
        "Pentaerythritol tetrakis(3,5-di-tert-butyl-4-hydroxyhydrocinnamate), 98%",
        "pentaerythrityl tetrakis(3,5-di-tert-butyl-4-hydroxyhydrocinnamate)",
        "Plastic additive 09, European Pharmacopoeia (EP) Reference Standard",
        "Pentaerythrityl tetrakis-3-(3',5'-di-t-butyl-4'-hydroxyphenyl)propionate",
        "Irganox 1010FF",
        "Tetrakis(((beta-(3,5-di-tert-butyl-4-hydroxyphenyl)propionyl)oxy)methyl)methane",
        "Benzenepropanoic acid, 3,5-bis(1,1-dimethylethyl)-4-hydroxy-, 1,1'-(2,2-bis((3-(3,5-bis(1,1-dimethylethyl)-4-hydroxyphenyl)-1-oxopropoxy)methyl)-1,3-propanediyl) ester",
        "PENTAERYTHRITYL TETRAKIS(3,5-DI-TERT- BUTYL-4-HYDROXYHYDROCINNAMATE)",
        "Naugard 10",
        "PLASTIC ADDITIVE 2 (USP-RS)",
        "pentaerythrityl tetra-di-t-butyl hydroxyhydrocinnamate",
        "AO3",
        "MSK3113-1000",
        "UNII-255PIF62MS",
        "3-{[3-(3,5-di-tert-butyl-4-hydroxyphenyl)propanoyl]oxy}-2,2-bis({[3-(3,5-di-tert-butyl-4-hydroxyphenyl)propanoyl]oxy}methyl)propyl 3-(3,5-di-tert-butyl-4-hydroxyphenyl)propanoate",
        "Tetrakis(3,5-di-tert-butyl-4-hydroxyhydrocinnamoyloxymethyl)methane",
        "Fenozan 22",
        "CHEMBL3187856",
        "Plastic additive 2, United States Pharmacopeia (USP) Reference Standard",
        "255PIF62MS",
        "Pentaerythritol tetrakis(3-(3,5-di-tert-butyl-4-hydroxyphenyl)propionate)",
        "2,2-bis((3-(3,5-di-tert-butyl-4-hydroxyphenyl)propanoyloxy)methyl)propane-1,3-diyl bis(3-(3,5-di-tert-butyl-4-hydroxyphenyl)propanoate)",
        "P0932",
        "DTXCID007633",
        "Pentaerithritol tetrakis[3,5-di-tert-butyl-4-hydroxyhydrocinnamate]",
        "tetrakis[3-(3,5-di-tert-butyl-4-hydroxyphenyl)propionyloxymethyl]methane",
        "BP 101",
        "3,5-Di-tert-butyl-4-hydroxy-hydrocinnamicacineopentanetetraylester",
        "229-722-6",
        "EC 229-722-6",
        "Irganox 1040",
        "PENTAERYTHRITOL 3-(4-HYDROXY-3,5-DI-TERT-BUTYLPHENYL)PROPIONATE (1:4)",
        "irganox1010",
        "Hydrocinnamic acid, 3,5-di-tert-butyl-4-hydroxy-, tetraester with pentaerythritol",
        "MARK AO 60",
        "Anox 20AM",
        "Antioxidant 1010 Solution in Hexane, 1000mug/mL",
        "Ralox 630",
        "PENTAERYTHRITOL TETRAKIS ESTER WITH 3-(3,5-DI-TERT-BUTYL-4-HYDROXYPHENYL)PROPIONIC ACID",
        "Neopentanetetrayl 3,5-di-tert-butyl-4-hydroxyhydrocinnamate",
        "pentaerythrityl tetrakis (3,5-di-tert-butyl-4-hydroxyhydrocinnamate)",
        "Phenosane 23",
        "Antioxidant 1010 Solution in Hexane, 1000?g/mL",
        "Benzenepropanoic acid, 3,5-bis(1,1-dimethylethyl)-4-hydroxy-, 1,1'-[2,2-bis[[3-[3,5-bis(1,1-dimethylethyl)-4-hydroxyphenyl]-1-oxopropoxy]methyl]-1,3-propanediyl] ester",
        "2,2-Bis[[[3-(3,5-di-tert-butyl-4-hydroxyphenyl)propanoyl]oxy]methyl]propane-1,3-diyl Bis[3-(3,5-di-tert-butyl-4-hydroxyphenyl)propanoate]",
        "Hydrocinnamic acid, 3,5-di-tert-butyl-4-hydroxy-, neopentanetetrayl ester",
        "PLASTIC ADDITIVE 2 [USP-RS]",
        "Irganox 1010FP",
        "Lowinox PP35",
        "AC-15274",
        "AO 60",
        "Pentaerithritol tetrakis(3,5-di-tert-butyl-4-hydroxyhydrocinnamate)",
        "Pentaerythritol tetrakis(3,5-di-tert-butyl-4-hydroxyhydrocinnamate)",
        "SY052363",
        "DTXSID1027633",
        "Tetrakis[methylene-3-(3,5-di-tert-butyl-4-hydroxyphenyl)propionate]methane",
        "RA 1010",
        "STK367172",
        "phenosan-23"
       ],
       "description": "Name:",
       "index": 0,
       "layout": "IPY_MODEL_5d95a1dd2c1f42eaad5b7e751617d525",
       "style": "IPY_MODEL_7726aa9da1d649a283ec9438e78d8784"
      }
     },
     "04f17d7252a74bdb9babf8b1b8c5758e": {
      "model_module": "@jupyter-widgets/controls",
      "model_module_version": "2.0.0",
      "model_name": "TextModel",
      "state": {
       "description": "Substance:",
       "layout": "IPY_MODEL_1fc17f7a5703490f89e3cf6e28189c2f",
       "placeholder": "Enter chemical name or CAS",
       "style": "IPY_MODEL_f3dfbfc5ac0d4978a586185a88fe1325",
       "value": "lindane"
      }
     },
     "052c2c8e10b84abfa7e478b0b41c682c": {
      "model_module": "@jupyter-widgets/controls",
      "model_module_version": "2.0.0",
      "model_name": "TextStyleModel",
      "state": {
       "description_width": "",
       "font_size": null,
       "text_color": null
      }
     },
     "057363af591b43ff90c5fa4e47df925a": {
      "model_module": "@jupyter-widgets/base",
      "model_module_version": "2.0.0",
      "model_name": "LayoutModel",
      "state": {}
     },
     "0636ca8847f945bc9fbcdf36fbef78f2": {
      "model_module": "@jupyter-widgets/output",
      "model_module_version": "1.0.0",
      "model_name": "OutputModel",
      "state": {
       "layout": "IPY_MODEL_669ab8d495744a4ca7758f66c43b33c8"
      }
     },
     "0721fc4015cd4aa080c2c888b3258a36": {
      "model_module": "@jupyter-widgets/controls",
      "model_module_version": "2.0.0",
      "model_name": "TextModel",
      "state": {
       "description": "Instance Name:",
       "layout": "IPY_MODEL_b8e552bbda504ce8818e41f043c258de",
       "style": "IPY_MODEL_7300e2018a7b43ee8add70e49d626c28",
       "value": "shape1"
      }
     },
     "077ac625ba934410b8bf38c928669d3c": {
      "model_module": "@jupyter-widgets/output",
      "model_module_version": "1.0.0",
      "model_name": "OutputModel",
      "state": {
       "layout": "IPY_MODEL_db257fceabca48afa1ad71918929146d"
      }
     },
     "086659518338499da869b5be30db713a": {
      "model_module": "@jupyter-widgets/controls",
      "model_module_version": "2.0.0",
      "model_name": "HBoxModel",
      "state": {
       "children": [
        "IPY_MODEL_b9350779210b4bd58d5355f78e77dd7f",
        "IPY_MODEL_4bf481e16a8f4b2ea2e6c7fd755143b5"
       ],
       "layout": "IPY_MODEL_7d79fd659c3740a18043b468ca7f1973"
      }
     },
     "0b41c5b61bd44a0ba848aba9f871ed0d": {
      "model_module": "@jupyter-widgets/controls",
      "model_module_version": "2.0.0",
      "model_name": "VBoxModel",
      "state": {
       "children": [
        "IPY_MODEL_83b222290ada455a891bcea62c6a1147",
        "IPY_MODEL_cc411d8896a44e69863cd5089c3eac7c",
        "IPY_MODEL_f190503c301046c0826241989266187f",
        "IPY_MODEL_53d58ba2c7c24d86baf7241fed96e3f5"
       ],
       "layout": "IPY_MODEL_584328f327f04b7caab43067a26f1f93"
      }
     },
     "0b707d26181244c4b13e1c0924f5421e": {
      "model_module": "@jupyter-widgets/base",
      "model_module_version": "2.0.0",
      "model_name": "LayoutModel",
      "state": {
       "justify_content": "center"
      }
     },
     "0becb77a307e405596841a4c151fe0b8": {
      "model_module": "@jupyter-widgets/base",
      "model_module_version": "2.0.0",
      "model_name": "LayoutModel",
      "state": {}
     },
     "0c7f215cc1bb41b581d9df640c01c89b": {
      "model_module": "@jupyter-widgets/controls",
      "model_module_version": "2.0.0",
      "model_name": "ButtonModel",
      "state": {
       "button_style": "success",
       "description": "Evaluate Point",
       "layout": "IPY_MODEL_e4ca2434ba1647b5a3fe4bb6cccfdd5b",
       "style": "IPY_MODEL_cd4d37236b4e4c86b0b17d885b123b54",
       "tooltip": null
      }
     },
     "0d70403a6e5e46ca8e209071f2912c45": {
      "model_module": "@jupyter-widgets/controls",
      "model_module_version": "2.0.0",
      "model_name": "HTMLStyleModel",
      "state": {
       "description_width": "",
       "font_size": null,
       "text_color": null
      }
     },
     "0d935f6f43a14ddf9944a6b04b46d25e": {
      "model_module": "@jupyter-widgets/controls",
      "model_module_version": "2.0.0",
      "model_name": "VBoxModel",
      "state": {
       "children": [
        "IPY_MODEL_7daab7209e0247edbf303936f65b7c1d",
        "IPY_MODEL_0e2433d333694a0882d59b00efea93e8"
       ],
       "layout": "IPY_MODEL_04a1a190bdc14f9f884c40aee3bd699a"
      }
     },
     "0df45a88dff34d1db541edd5bcab0f5d": {
      "model_module": "@jupyter-widgets/controls",
      "model_module_version": "2.0.0",
      "model_name": "IntSliderModel",
      "state": {
       "behavior": "drag-tap",
       "continuous_update": false,
       "description": "n_vals:",
       "layout": "IPY_MODEL_50755a17d77a4cbaa31957ca7d9b0bf2",
       "max": 500,
       "min": 3,
       "style": "IPY_MODEL_a573e5172d914782940049b1e8c0e53b",
       "value": 5
      }
     },
     "0e2433d333694a0882d59b00efea93e8": {
      "model_module": "@jupyter-widgets/controls",
      "model_module_version": "2.0.0",
      "model_name": "HBoxModel",
      "state": {
       "children": [
        "IPY_MODEL_71e2a3c972354653a6143c7d8cc87286",
        "IPY_MODEL_be036f3335e346318570afbaa7988a4f"
       ],
       "layout": "IPY_MODEL_61f5fa5994354c98b1fdb19cf798eeae"
      }
     },
     "0e47be7599254a09b31f0c9cc4ca510c": {
      "model_module": "@jupyter-widgets/controls",
      "model_module_version": "2.0.0",
      "model_name": "HBoxModel",
      "state": {
       "children": [
        "IPY_MODEL_6dc90908317b45569332b9b9f7e3d0ba"
       ],
       "layout": "IPY_MODEL_b18469ce907d431d98e4bfae3a31e751"
      }
     },
     "0f0d5301b01e43619f3366941a8bb679": {
      "model_module": "@jupyter-widgets/base",
      "model_module_version": "2.0.0",
      "model_name": "LayoutModel",
      "state": {
       "width": "200px"
      }
     },
     "0f52b5a421fb441b9c83930ab70730ff": {
      "model_module": "@jupyter-widgets/controls",
      "model_module_version": "2.0.0",
      "model_name": "TextModel",
      "state": {
       "description": "Instance Name:",
       "layout": "IPY_MODEL_867b18a7dd3846e0af79995d08f1ef43",
       "style": "IPY_MODEL_1510ad6dd5714b1d8a76ac07a4db94d5",
       "value": "contact1"
      }
     },
     "0fe398269c62454cb8daf6187ac06924": {
      "model_module": "@jupyter-widgets/controls",
      "model_module_version": "2.0.0",
      "model_name": "HTMLStyleModel",
      "state": {
       "description_width": "",
       "font_size": null,
       "text_color": null
      }
     },
     "104e60abccac4b06a54d7ca3d3f01d7d": {
      "model_module": "@jupyter-widgets/base",
      "model_module_version": "2.0.0",
      "model_name": "LayoutModel",
      "state": {}
     },
     "11a34b9ca52341d69c144491d91378c4": {
      "model_module": "@jupyter-widgets/base",
      "model_module_version": "2.0.0",
      "model_name": "LayoutModel",
      "state": {}
     },
     "12d33404b9a24fa1af81e60a70cdeee9": {
      "model_module": "@jupyter-widgets/controls",
      "model_module_version": "2.0.0",
      "model_name": "SliderStyleModel",
      "state": {
       "description_width": ""
      }
     },
     "14515aaad442464cae33f24b5081bb97": {
      "model_module": "@jupyter-widgets/base",
      "model_module_version": "2.0.0",
      "model_name": "LayoutModel",
      "state": {}
     },
     "15098e66510040c3b212cd9879223bcb": {
      "model_module": "@jupyter-widgets/controls",
      "model_module_version": "2.0.0",
      "model_name": "TextStyleModel",
      "state": {
       "description_width": "",
       "font_size": null,
       "text_color": null
      }
     },
     "1510ad6dd5714b1d8a76ac07a4db94d5": {
      "model_module": "@jupyter-widgets/controls",
      "model_module_version": "2.0.0",
      "model_name": "TextStyleModel",
      "state": {
       "description_width": "",
       "font_size": null,
       "text_color": null
      }
     },
     "169a2fc5bfaa4a378cb97f738c193549": {
      "model_module": "@jupyter-widgets/controls",
      "model_module_version": "2.0.0",
      "model_name": "ButtonStyleModel",
      "state": {
       "font_family": null,
       "font_size": null,
       "font_style": null,
       "font_variant": null,
       "font_weight": null,
       "text_color": null,
       "text_decoration": null
      }
     },
     "177c6573577b44f3a51384aa67a8d77a": {
      "model_module": "@jupyter-widgets/controls",
      "model_module_version": "2.0.0",
      "model_name": "TextStyleModel",
      "state": {
       "description_width": "",
       "font_size": null,
       "text_color": null
      }
     },
     "1871a1209aa14925a515da470c70dd7f": {
      "model_module": "@jupyter-widgets/controls",
      "model_module_version": "2.0.0",
      "model_name": "TextModel",
      "state": {
       "description": "Assembly Name:",
       "layout": "IPY_MODEL_f0c959717fc7423cbf656bc3da7210c7",
       "style": "IPY_MODEL_15098e66510040c3b212cd9879223bcb",
       "value": "multilayer1"
      }
     },
     "18f186ad84c740888afa714a1800ae36": {
      "model_module": "@jupyter-widgets/base",
      "model_module_version": "2.0.0",
      "model_name": "LayoutModel",
      "state": {}
     },
     "191519ab97d1468c9152553ec1620352": {
      "model_module": "@jupyter-widgets/controls",
      "model_module_version": "2.0.0",
      "model_name": "VBoxModel",
      "state": {
       "children": [
        "IPY_MODEL_f71b71c28e8d477e85ae623d008e4c78",
        "IPY_MODEL_dcb0c087c0f541e7bda03c882750f726",
        "IPY_MODEL_6a7f2ebe39c242f083eb1a664ff67aa8",
        "IPY_MODEL_9588c5761ce1431ca142cafb47bb38c1"
       ],
       "layout": "IPY_MODEL_3540b1d131da4745bab95b9cee3b5159"
      }
     },
     "195a3bae51704e8aaaea0b2dd67ddf76": {
      "model_module": "@jupyter-widgets/base",
      "model_module_version": "2.0.0",
      "model_name": "LayoutModel",
      "state": {
       "width": "30%"
      }
     },
     "1ace101eaac34a62b1790f7c4f608963": {
      "model_module": "@jupyter-widgets/controls",
      "model_module_version": "2.0.0",
      "model_name": "LabelStyleModel",
      "state": {
       "description_width": "",
       "font_family": null,
       "font_size": null,
       "font_style": null,
       "font_variant": null,
       "font_weight": null,
       "text_color": null,
       "text_decoration": null
      }
     },
     "1b3e859d93f14c6a89c9f585f2698399": {
      "model_module": "@jupyter-widgets/controls",
      "model_module_version": "2.0.0",
      "model_name": "HTMLStyleModel",
      "state": {
       "description_width": "",
       "font_size": null,
       "text_color": null
      }
     },
     "1c7462348b7a4a7e8896fba4504c26de": {
      "model_module": "@jupyter-widgets/controls",
      "model_module_version": "2.0.0",
      "model_name": "DropdownModel",
      "state": {
       "_options_labels": [
        "s",
        "min",
        "h",
        "days",
        "weeks",
        "months",
        "years"
       ],
       "description": "tunit:",
       "index": 3,
       "layout": "IPY_MODEL_d637e5114e4a4e719f897555dd52d7ea",
       "style": "IPY_MODEL_5bea80ddcbbf4ef99ceb2b7328f7a115"
      }
     },
     "1cb9322abea54d2484776593c472b44a": {
      "model_module": "@jupyter-widgets/base",
      "model_module_version": "2.0.0",
      "model_name": "LayoutModel",
      "state": {
       "display": "",
       "width": "55%"
      }
     },
     "1fc17f7a5703490f89e3cf6e28189c2f": {
      "model_module": "@jupyter-widgets/base",
      "model_module_version": "2.0.0",
      "model_name": "LayoutModel",
      "state": {
       "width": "96%"
      }
     },
     "2176cabb2d4947e1aa58b0712d12867d": {
      "model_module": "@jupyter-widgets/controls",
      "model_module_version": "2.0.0",
      "model_name": "DropdownModel",
      "state": {
       "_options_labels": [
        "µm",
        "mm",
        "cm",
        "dm",
        "in"
       ],
       "description": "Unit:",
       "index": 2,
       "layout": "IPY_MODEL_a8ce0ae6638746859559ad49201f1e92",
       "style": "IPY_MODEL_b79aec8a04264e5f9b70376921275f29"
      }
     },
     "2209167273b74fe48f2f44080c3ba9d4": {
      "model_module": "@jupyter-widgets/controls",
      "model_module_version": "2.0.0",
      "model_name": "HBoxModel",
      "state": {
       "children": [
        "IPY_MODEL_9e769534c0bf43e582a7cfa0559caa06",
        "IPY_MODEL_2f36214c14164c3fb13ebc7448da2201",
        "IPY_MODEL_aa9f43359260425e93c71b5b6853407f",
        "IPY_MODEL_962b1185acd4435c9eaeedfde289b3ee"
       ],
       "layout": "IPY_MODEL_6a4a18c29c5d4969bdb9a0715d159de6"
      }
     },
     "2237a71eab984232ba1a3e6219e1460f": {
      "model_module": "@jupyter-widgets/base",
      "model_module_version": "2.0.0",
      "model_name": "LayoutModel",
      "state": {}
     },
     "228a93ac7ef94edbbcb0e2613031f790": {
      "model_module": "@jupyter-widgets/controls",
      "model_module_version": "2.0.0",
      "model_name": "VBoxModel",
      "state": {
       "_dom_classes": [
        "widget-interact"
       ],
       "children": [
        "IPY_MODEL_ef964f921bf44ea4a70e33c447273507",
        "IPY_MODEL_3b6f62dc7d2647619c9c5b57e0394b02",
        "IPY_MODEL_d73032258c784260831545a739ad1cd2"
       ],
       "layout": "IPY_MODEL_a60a28e4db1143248c38773c1c759b84"
      }
     },
     "22add46587cf42e8a461e000b3be22af": {
      "model_module": "@jupyter-widgets/controls",
      "model_module_version": "2.0.0",
      "model_name": "DescriptionStyleModel",
      "state": {
       "description_width": ""
      }
     },
     "24a8cd93015749648f7bfd776cc043ad": {
      "model_module": "@jupyter-widgets/controls",
      "model_module_version": "2.0.0",
      "model_name": "HBoxModel",
      "state": {
       "children": [
        "IPY_MODEL_c0f5ee4e84374dd4bb1cd3f05ce2c802",
        "IPY_MODEL_303fcdf2aed64cfd9e6b4c95d1c8cff2",
        "IPY_MODEL_0df45a88dff34d1db541edd5bcab0f5d"
       ],
       "layout": "IPY_MODEL_5eb1e6fcbf2c42bca313f8589774054a"
      }
     },
     "24c96b965cd140ecba59d43bab8a3e64": {
      "model_module": "@jupyter-widgets/controls",
      "model_module_version": "2.0.0",
      "model_name": "DescriptionStyleModel",
      "state": {
       "description_width": ""
      }
     },
     "2541e8c046da4d3a8062c5da0507ab25": {
      "model_module": "@jupyter-widgets/controls",
      "model_module_version": "2.0.0",
      "model_name": "ButtonModel",
      "state": {
       "icon": "arrow-right",
       "layout": "IPY_MODEL_67d192ff75fc472fbb43223db5d795fd",
       "style": "IPY_MODEL_bba6931f6a8c4193856f75bf84c28a2c",
       "tooltip": null
      }
     },
     "25fde9c99e1246f1925ca5f4821132a3": {
      "model_module": "@jupyter-widgets/controls",
      "model_module_version": "2.0.0",
      "model_name": "TextModel",
      "state": {
       "description": "Substance Name:",
       "layout": "IPY_MODEL_71df8fd91c99489cbf398a0e82060755",
       "style": "IPY_MODEL_b227b8a7dd4e4c4d8a3ce319f28d24dc",
       "value": "m1"
      }
     },
     "26a775aee0f243a9a628d235ffb040cd": {
      "model_module": "@jupyter-widgets/base",
      "model_module_version": "2.0.0",
      "model_name": "LayoutModel",
      "state": {}
     },
     "26baa0be39074a17a91c1fd52529d34a": {
      "model_module": "@jupyter-widgets/controls",
      "model_module_version": "2.0.0",
      "model_name": "ButtonStyleModel",
      "state": {
       "font_family": null,
       "font_size": null,
       "font_style": null,
       "font_variant": null,
       "font_weight": null,
       "text_color": null,
       "text_decoration": null
      }
     },
     "26f3f9dba0474fdfbb014bb115885f71": {
      "model_module": "@jupyter-widgets/controls",
      "model_module_version": "2.0.0",
      "model_name": "HTMLModel",
      "state": {
       "layout": "IPY_MODEL_57e7c08336b947a6aff224eed783d49a",
       "style": "IPY_MODEL_ffe24738cf7b4d2fad1811d43b7f7505",
       "value": "CID: <b><a href=\"https://pubchem.ncbi.nlm.nih.gov/compound/727\" title=\"go to PubChem\" target=\"_blank\">727</a></b>"
      }
     },
     "28e541ea5365433aae2fd1677a5387f8": {
      "model_module": "@jupyter-widgets/controls",
      "model_module_version": "2.0.0",
      "model_name": "HTMLModel",
      "state": {
       "layout": "IPY_MODEL_37ba144d395548ea82a74e676d8e18f9",
       "style": "IPY_MODEL_0fe398269c62454cb8daf6187ac06924",
       "value": "<span style=\"color: Crimson;\">Cramer classification: High (Class III)</span><br><span style=\"color: Crimson;\">CF TTC adult = 1.8 [mg/kg food intake]</span><br><span style=\"color: Crimson;\"><b>⚠️ alert 1: Alert For Sn2 Identified</b></span>"
      }
     },
     "2969d399c30b435b9e2222a1103fbb31": {
      "model_module": "@jupyter-widgets/base",
      "model_module_version": "2.0.0",
      "model_name": "LayoutModel",
      "state": {}
     },
     "29a392ecfc914d379b18cf407664738d": {
      "model_module": "@jupyter-widgets/base",
      "model_module_version": "2.0.0",
      "model_name": "LayoutModel",
      "state": {}
     },
     "2a7a8154709849548b0e6e05cce9383b": {
      "model_module": "@jupyter-widgets/controls",
      "model_module_version": "2.0.0",
      "model_name": "HBoxModel",
      "state": {
       "children": [
        "IPY_MODEL_87a36f3a132b468393e5d5fe38b35940",
        "IPY_MODEL_4bd7a8e13d5740299d74ab87767c818d",
        "IPY_MODEL_2541e8c046da4d3a8062c5da0507ab25"
       ],
       "layout": "IPY_MODEL_66123f4c2762481b97c44ad8da1507ad"
      }
     },
     "2b1439ad23b14bdabd6c4b947504f165": {
      "model_module": "@jupyter-widgets/base",
      "model_module_version": "2.0.0",
      "model_name": "LayoutModel",
      "state": {}
     },
     "2b1e2d3883974c1e8b852a3005b85987": {
      "model_module": "@jupyter-widgets/controls",
      "model_module_version": "2.0.0",
      "model_name": "DescriptionStyleModel",
      "state": {
       "description_width": ""
      }
     },
     "2b2d9d58890040dc8da2da9858f52475": {
      "model_module": "@jupyter-widgets/controls",
      "model_module_version": "2.0.0",
      "model_name": "DescriptionStyleModel",
      "state": {
       "description_width": ""
      }
     },
     "2b3ac79674404c48bdcd7149548a4773": {
      "model_module": "@jupyter-widgets/controls",
      "model_module_version": "2.0.0",
      "model_name": "HBoxModel",
      "state": {
       "children": [
        "IPY_MODEL_b7d06b787de94270b3f0943606e5a170",
        "IPY_MODEL_8f881391e3774f72a6e1c497328a8c83",
        "IPY_MODEL_fe8740b9772c4e3390ee43d7f97280be"
       ],
       "layout": "IPY_MODEL_75f5c45965a34111bbcc5ea8fbf91149"
      }
     },
     "2be837137856412c8d337cbfc88ea65c": {
      "model_module": "@jupyter-widgets/base",
      "model_module_version": "2.0.0",
      "model_name": "LayoutModel",
      "state": {}
     },
     "2c14fb365b3a40658cf43e6daccb64be": {
      "model_module": "@jupyter-widgets/base",
      "model_module_version": "2.0.0",
      "model_name": "LayoutModel",
      "state": {}
     },
     "2c25fc58ebc64ab5b57da276c41c21f9": {
      "model_module": "@jupyter-widgets/controls",
      "model_module_version": "2.0.0",
      "model_name": "VBoxModel",
      "state": {
       "children": [
        "IPY_MODEL_04f17d7252a74bdb9babf8b1b8c5758e",
        "IPY_MODEL_9c501f5fe2264986a571ebc0b7fef2ff",
        "IPY_MODEL_b284662e471c45fe84c7607b5da91f0b",
        "IPY_MODEL_cc4021d3f3764924aa91e834d16128ce"
       ],
       "layout": "IPY_MODEL_954e8dd9d24049da9cba71e9621747e0"
      }
     },
     "2cd5a644ed7f4c88978430ecd83e9c5e": {
      "model_module": "@jupyter-widgets/base",
      "model_module_version": "2.0.0",
      "model_name": "LayoutModel",
      "state": {}
     },
     "2ce5f64fca3744778d173cba31ca8b18": {
      "model_module": "@jupyter-widgets/controls",
      "model_module_version": "2.0.0",
      "model_name": "DescriptionStyleModel",
      "state": {
       "description_width": ""
      }
     },
     "2d5fd0233ba04fab8b118f952dc82474": {
      "model_module": "@jupyter-widgets/base",
      "model_module_version": "2.0.0",
      "model_name": "LayoutModel",
      "state": {
       "width": "20%"
      }
     },
     "2d8e2b23510244c7a2e4f88526929533": {
      "model_module": "@jupyter-widgets/controls",
      "model_module_version": "2.0.0",
      "model_name": "HTMLStyleModel",
      "state": {
       "description_width": "",
       "font_size": null,
       "text_color": null
      }
     },
     "2e82035734f4481d872f0ad77744424d": {
      "model_module": "@jupyter-widgets/controls",
      "model_module_version": "2.0.0",
      "model_name": "DescriptionStyleModel",
      "state": {
       "description_width": ""
      }
     },
     "2f36214c14164c3fb13ebc7448da2201": {
      "model_module": "@jupyter-widgets/controls",
      "model_module_version": "2.0.0",
      "model_name": "DropdownModel",
      "state": {
       "_options_labels": [
        "liquid",
        "semisolid",
        "solid"
       ],
       "description": "Level 2:",
       "index": 0,
       "layout": "IPY_MODEL_7e33b80a280446d18d97e6f1e89558d9",
       "style": "IPY_MODEL_22add46587cf42e8a461e000b3be22af"
      }
     },
     "303fcdf2aed64cfd9e6b4c95d1c8cff2": {
      "model_module": "@jupyter-widgets/controls",
      "model_module_version": "2.0.0",
      "model_name": "FloatTextModel",
      "state": {
       "description": "t_max:",
       "layout": "IPY_MODEL_0347958b65e14884ba3db7848d7739ab",
       "step": null,
       "style": "IPY_MODEL_42683ced8862493ca9c245db408311fd",
       "value": 10
      }
     },
     "33663ec28d9e473fa3e84c288751eeb6": {
      "model_module": "@jupyter-widgets/controls",
      "model_module_version": "2.0.0",
      "model_name": "SliderStyleModel",
      "state": {
       "description_width": "150px"
      }
     },
     "33ea4b9aa36c4f1b8fdc2368062ddd71": {
      "model_module": "@jupyter-widgets/controls",
      "model_module_version": "2.0.0",
      "model_name": "TextStyleModel",
      "state": {
       "description_width": "",
       "font_size": null,
       "text_color": null
      }
     },
     "34985eb1a602475983a43b2013a75b8b": {
      "model_module": "@jupyter-widgets/controls",
      "model_module_version": "2.0.0",
      "model_name": "DescriptionStyleModel",
      "state": {
       "description_width": ""
      }
     },
     "3540b1d131da4745bab95b9cee3b5159": {
      "model_module": "@jupyter-widgets/base",
      "model_module_version": "2.0.0",
      "model_name": "LayoutModel",
      "state": {}
     },
     "35801bc2fdb4407d929224685d775981": {
      "model_module": "@jupyter-widgets/base",
      "model_module_version": "2.0.0",
      "model_name": "LayoutModel",
      "state": {}
     },
     "365bda008114410985623972eba3326c": {
      "model_module": "@jupyter-widgets/controls",
      "model_module_version": "2.0.0",
      "model_name": "IntSliderModel",
      "state": {
       "behavior": "drag-tap",
       "continuous_update": false,
       "description": "Num Layers:",
       "layout": "IPY_MODEL_65399c5dab504fcb89c14bdc4642e714",
       "max": 10,
       "min": 1,
       "style": "IPY_MODEL_a751a59a7be54482ac0eacc76c0f15bc",
       "value": 1
      }
     },
     "37ba144d395548ea82a74e676d8e18f9": {
      "model_module": "@jupyter-widgets/base",
      "model_module_version": "2.0.0",
      "model_name": "LayoutModel",
      "state": {}
     },
     "37d9caaf522a4e4d88f19bb20cbcb32c": {
      "model_module": "@jupyter-widgets/controls",
      "model_module_version": "2.0.0",
      "model_name": "HTMLModel",
      "state": {
       "layout": "IPY_MODEL_0becb77a307e405596841a4c151fe0b8",
       "style": "IPY_MODEL_537ab2ca5add4b61a68fe4179139feb6",
       "value": "<h3>Migration Simulation Evaluation</h3>"
      }
     },
     "37f1614a3c584695803603f4eb59aec0": {
      "model_module": "@jupyter-widgets/controls",
      "model_module_version": "2.0.0",
      "model_name": "HBoxModel",
      "state": {
       "children": [
        "IPY_MODEL_a5a76715e9a14710a11efede890e00f5",
        "IPY_MODEL_a1620338614842ef8a00e5006cb92b6f"
       ],
       "layout": "IPY_MODEL_c196c8bd23324475ba66ed5f2d79e11b"
      }
     },
     "380664d0f3c3422c929a5dfedff26462": {
      "model_module": "@jupyter-widgets/controls",
      "model_module_version": "2.0.0",
      "model_name": "DropdownModel",
      "state": {
       "_options_labels": [
        "contact1"
       ],
       "description": "Contact:",
       "index": 0,
       "layout": "IPY_MODEL_59c5f37cb7494f458d602023da52f828",
       "style": "IPY_MODEL_cd326eda2a9d458ba13be6bdcb5ed939"
      }
     },
     "3958c7a0779e4b6794587dbe9adf67a1": {
      "model_module": "@jupyter-widgets/controls",
      "model_module_version": "2.0.0",
      "model_name": "HTMLModel",
      "state": {
       "layout": "IPY_MODEL_8e1ce155c8c947cc9a05cdf4877d61f6",
       "style": "IPY_MODEL_d0f5f53c8db7462bae7b80804974e1e8",
       "value": "Formula: <b>C6H6Cl6</b>"
      }
     },
     "39acac22bf9143e0af1db0c7d8977ae9": {
      "model_module": "@jupyter-widgets/output",
      "model_module_version": "1.0.0",
      "model_name": "OutputModel",
      "state": {
       "layout": "IPY_MODEL_400fc46d171543429271ca335d70501c"
      }
     },
     "3b6f62dc7d2647619c9c5b57e0394b02": {
      "model_module": "@jupyter-widgets/controls",
      "model_module_version": "2.0.0",
      "model_name": "IntSliderModel",
      "state": {
       "behavior": "drag-tap",
       "description": "Size (%)",
       "layout": "IPY_MODEL_f634702a6ec74ccc96079a0019e43405",
       "max": 120,
       "min": 10,
       "step": 2,
       "style": "IPY_MODEL_12d33404b9a24fa1af81e60a70cdeee9",
       "value": 40
      }
     },
     "3c0b0103cfa7472fb4fcf3024b354a14": {
      "model_module": "@jupyter-widgets/controls",
      "model_module_version": "2.0.0",
      "model_name": "DropdownModel",
      "state": {
       "_options_labels": [
        "cylinder",
        "cone",
        "rectangular_prism",
        "sphere",
        "square_pyramid",
        "hemisphere",
        "cube",
        "bottle"
       ],
       "description": "Shape:",
       "index": 0,
       "layout": "IPY_MODEL_c4a742ce201b45428fb583a763ea3edb",
       "style": "IPY_MODEL_8daec3777351415bb1318027b5a94dbb"
      }
     },
     "3d29d2863157408f93976abc057f5ef2": {
      "model_module": "@jupyter-widgets/base",
      "model_module_version": "2.0.0",
      "model_name": "LayoutModel",
      "state": {}
     },
     "3d6b7d6d2a18441f8387c87803efb556": {
      "model_module": "@jupyter-widgets/base",
      "model_module_version": "2.0.0",
      "model_name": "LayoutModel",
      "state": {}
     },
     "3d7348ffd90043858dcdea5e067821e9": {
      "model_module": "@jupyter-widgets/base",
      "model_module_version": "2.0.0",
      "model_name": "LayoutModel",
      "state": {}
     },
     "3f6f7bfc2d48469d8eaf345cd75f7fcb": {
      "model_module": "@jupyter-widgets/controls",
      "model_module_version": "2.0.0",
      "model_name": "FloatTextModel",
      "state": {
       "description": "Thickness:",
       "layout": "IPY_MODEL_b2da92eebeb642609fbd7998b2aad6c8",
       "step": null,
       "style": "IPY_MODEL_34985eb1a602475983a43b2013a75b8b",
       "value": 100
      }
     },
     "3fb36b181cd146eb9db947d5343df998": {
      "model_module": "@jupyter-widgets/controls",
      "model_module_version": "2.0.0",
      "model_name": "ButtonStyleModel",
      "state": {
       "font_family": null,
       "font_size": null,
       "font_style": null,
       "font_variant": null,
       "font_weight": null,
       "text_color": null,
       "text_decoration": null
      }
     },
     "400fc46d171543429271ca335d70501c": {
      "model_module": "@jupyter-widgets/base",
      "model_module_version": "2.0.0",
      "model_name": "LayoutModel",
      "state": {}
     },
     "4053da0a4439468abea7bea7c19976ff": {
      "model_module": "@jupyter-widgets/base",
      "model_module_version": "2.0.0",
      "model_name": "LayoutModel",
      "state": {}
     },
     "41514dfc53614cababcc497c51e986ae": {
      "model_module": "@jupyter-widgets/base",
      "model_module_version": "2.0.0",
      "model_name": "LayoutModel",
      "state": {}
     },
     "42683ced8862493ca9c245db408311fd": {
      "model_module": "@jupyter-widgets/controls",
      "model_module_version": "2.0.0",
      "model_name": "DescriptionStyleModel",
      "state": {
       "description_width": ""
      }
     },
     "42e500a2c68c4f38b3944e266fe19e30": {
      "model_module": "@jupyter-widgets/output",
      "model_module_version": "1.0.0",
      "model_name": "OutputModel",
      "state": {
       "layout": "IPY_MODEL_d954fb25d69f41debebab9fae266e038",
       "outputs": [
        {
         "data": {
          "image/png": "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",
          "text/plain": "<PrintableFigure size 800x600 with 1 Axes>"
         },
         "metadata": {},
         "output_type": "display_data"
        }
       ]
      }
     },
     "433008fad6d94ad48c289c221a693185": {
      "model_module": "@jupyter-widgets/controls",
      "model_module_version": "2.0.0",
      "model_name": "VBoxModel",
      "state": {
       "children": [
        "IPY_MODEL_3c0b0103cfa7472fb4fcf3024b354a14",
        "IPY_MODEL_d3260b824b364065af48afa1ac1cf0a6",
        "IPY_MODEL_0d935f6f43a14ddf9944a6b04b46d25e",
        "IPY_MODEL_0721fc4015cd4aa080c2c888b3258a36",
        "IPY_MODEL_c1c5b29fd3e14d5c86daff2aea28e7a4",
        "IPY_MODEL_be4076b212f840469fed82ba5d34d8b7"
       ],
       "layout": "IPY_MODEL_8b95fff878284e8494c679b46423e8fd"
      }
     },
     "4605858761344e34bbf208e6130ee75a": {
      "model_module": "@jupyter-widgets/base",
      "model_module_version": "2.0.0",
      "model_name": "LayoutModel",
      "state": {}
     },
     "4631a3732b5244b789edec88e9887ed5": {
      "model_module": "@jupyter-widgets/controls",
      "model_module_version": "2.0.0",
      "model_name": "HTMLModel",
      "state": {
       "layout": "IPY_MODEL_2b1439ad23b14bdabd6c4b947504f165",
       "style": "IPY_MODEL_de8004aec5c945b395c4a8a5a3fd0882",
       "value": "InChiKey: <b>JLYXXMFPNIAWKQ-UHFFFAOYSA-N</b>"
      }
     },
     "4756c39909814021842039a8584dc4ca": {
      "model_module": "@jupyter-widgets/controls",
      "model_module_version": "2.0.0",
      "model_name": "HTMLModel",
      "state": {
       "layout": "IPY_MODEL_14515aaad442464cae33f24b5081bb97",
       "style": "IPY_MODEL_d8989425c85b42e3ad099a98879e8331",
       "value": "<hr>"
      }
     },
     "48c3a16063db4b81bf91ccfd6a90a76e": {
      "model_module": "@jupyter-widgets/base",
      "model_module_version": "2.0.0",
      "model_name": "LayoutModel",
      "state": {}
     },
     "49f6c5af8ec6413fb9a33c1a651cfc17": {
      "model_module": "@jupyter-widgets/base",
      "model_module_version": "2.0.0",
      "model_name": "LayoutModel",
      "state": {
       "width": "60%"
      }
     },
     "4a97e96b9ffb4060a18e11c29f704486": {
      "model_module": "@jupyter-widgets/controls",
      "model_module_version": "2.0.0",
      "model_name": "TextStyleModel",
      "state": {
       "description_width": "",
       "font_size": null,
       "text_color": null
      }
     },
     "4b1cc3ce1551493e8bd8b159bca805c8": {
      "model_module": "@jupyter-widgets/base",
      "model_module_version": "2.0.0",
      "model_name": "LayoutModel",
      "state": {}
     },
     "4bd7a8e13d5740299d74ab87767c818d": {
      "model_module": "@jupyter-widgets/controls",
      "model_module_version": "2.0.0",
      "model_name": "LabelModel",
      "state": {
       "layout": "IPY_MODEL_f2ef10148a904142bde53fc1cfb4bd89",
       "style": "IPY_MODEL_1ace101eaac34a62b1790f7c4f608963",
       "value": "Layer 1 of 1"
      }
     },
     "4bf481e16a8f4b2ea2e6c7fd755143b5": {
      "model_module": "@jupyter-widgets/controls",
      "model_module_version": "2.0.0",
      "model_name": "ButtonModel",
      "state": {
       "button_style": "warning",
       "description": "Save Cx",
       "layout": "IPY_MODEL_634e0d8a74f740979e23378707a00b36",
       "style": "IPY_MODEL_f3f470adcb534974b40adeb1de6ab52b",
       "tooltip": null
      }
     },
     "4c70e30520f34540ab8a944b90ae62db": {
      "model_module": "@jupyter-widgets/controls",
      "model_module_version": "2.0.0",
      "model_name": "HTMLStyleModel",
      "state": {
       "description_width": "",
       "font_size": null,
       "text_color": null
      }
     },
     "4d860b7ba9064874a21155bc65ec3472": {
      "model_module": "@jupyter-widgets/controls",
      "model_module_version": "2.0.0",
      "model_name": "HTMLModel",
      "state": {
       "layout": "IPY_MODEL_41514dfc53614cababcc497c51e986ae",
       "style": "IPY_MODEL_0d70403a6e5e46ca8e209071f2912c45",
       "value": "<hr>"
      }
     },
     "4e6b94995db94149be06aff55d536862": {
      "model_module": "@jupyter-widgets/controls",
      "model_module_version": "2.0.0",
      "model_name": "DropdownModel",
      "state": {
       "_options_labels": [
        "m1"
       ],
       "description": "Substance:",
       "index": 0,
       "layout": "IPY_MODEL_0f0d5301b01e43619f3366941a8bb679",
       "style": "IPY_MODEL_d6901dbce7224aa9a9e56e40d9c4caa6"
      }
     },
     "4ee5c3eb7c944471a721dfff14333cc4": {
      "model_module": "@jupyter-widgets/base",
      "model_module_version": "2.0.0",
      "model_name": "LayoutModel",
      "state": {}
     },
     "505d76520b664d0b9272b3d554c40524": {
      "model_module": "@jupyter-widgets/base",
      "model_module_version": "2.0.0",
      "model_name": "LayoutModel",
      "state": {
       "width": "200px"
      }
     },
     "50755a17d77a4cbaa31957ca7d9b0bf2": {
      "model_module": "@jupyter-widgets/base",
      "model_module_version": "2.0.0",
      "model_name": "LayoutModel",
      "state": {
       "width": "250px"
      }
     },
     "50e979fa98d64ae8869b3391dd305456": {
      "model_module": "@jupyter-widgets/controls",
      "model_module_version": "2.0.0",
      "model_name": "VBoxModel",
      "state": {
       "children": [
        "IPY_MODEL_78c88a7ed779400f8194d6b3094dfda2",
        "IPY_MODEL_59cb6daaadd04b3685e4e7d4166acc36",
        "IPY_MODEL_cc5b70a4645f48a391d4f74722687afa",
        "IPY_MODEL_26f3f9dba0474fdfbb014bb115885f71",
        "IPY_MODEL_3958c7a0779e4b6794587dbe9adf67a1",
        "IPY_MODEL_4631a3732b5244b789edec88e9887ed5",
        "IPY_MODEL_7e04e306360c457e85522683dc586741",
        "IPY_MODEL_e9b1c6912fee4968ac9b651a3d90bac1",
        "IPY_MODEL_28e541ea5365433aae2fd1677a5387f8",
        "IPY_MODEL_25fde9c99e1246f1925ca5f4821132a3",
        "IPY_MODEL_63994f9ea79846f3b495c1c7f1e3a4cd",
        "IPY_MODEL_54afa230367d42b89a626683cd8e01e1"
       ],
       "layout": "IPY_MODEL_1cb9322abea54d2484776593c472b44a"
      }
     },
     "50ffaf519f114211aa33015c9403e583": {
      "model_module": "@jupyter-widgets/base",
      "model_module_version": "2.0.0",
      "model_name": "LayoutModel",
      "state": {}
     },
     "537ab2ca5add4b61a68fe4179139feb6": {
      "model_module": "@jupyter-widgets/controls",
      "model_module_version": "2.0.0",
      "model_name": "HTMLStyleModel",
      "state": {
       "description_width": "",
       "font_size": null,
       "text_color": null
      }
     },
     "537adb512ad3411c9d889eccb840ac93": {
      "model_module": "@jupyter-widgets/controls",
      "model_module_version": "2.0.0",
      "model_name": "FloatTextModel",
      "state": {
       "description": "radius:",
       "layout": "IPY_MODEL_65556e20fd4b4a1e89af16d46360ed21",
       "step": null,
       "style": "IPY_MODEL_9af9f2eabffd4ca6a93ff3b6dd0fa795",
       "value": 5
      }
     },
     "53d58ba2c7c24d86baf7241fed96e3f5": {
      "model_module": "@jupyter-widgets/output",
      "model_module_version": "1.0.0",
      "model_name": "OutputModel",
      "state": {
       "layout": "IPY_MODEL_4605858761344e34bbf208e6130ee75a",
       "outputs": [
        {
         "name": "stdout",
         "output_type": "stream",
         "text": "Simulation 'mig1' launched successfully.\nResult: <SensPatankarResult:senspatantkar:OzIEP7: CF(60 [days]) = 0.782 [a.u.]>\nCurrent simulations: ['mig1']\n"
        }
       ]
      }
     },
     "54afa230367d42b89a626683cd8e01e1": {
      "model_module": "@jupyter-widgets/output",
      "model_module_version": "1.0.0",
      "model_name": "OutputModel",
      "state": {
       "layout": "IPY_MODEL_9bb1fda4005b4dc582f41f2334dd1f07"
      }
     },
     "5538a65de12b4e3fa85404fd84f630cf": {
      "model_module": "@jupyter-widgets/controls",
      "model_module_version": "2.0.0",
      "model_name": "VBoxModel",
      "state": {
       "children": [
        "IPY_MODEL_a1935a7d172e4384a697405eefb0a3ca",
        "IPY_MODEL_0c7f215cc1bb41b581d9df640c01c89b",
        "IPY_MODEL_0636ca8847f945bc9fbcdf36fbef78f2"
       ],
       "layout": "IPY_MODEL_7f3accd88cb247af80a17d9c1457e230"
      }
     },
     "565b4c487dbb44858bca1cc1ed477968": {
      "model_module": "@jupyter-widgets/controls",
      "model_module_version": "2.0.0",
      "model_name": "SliderStyleModel",
      "state": {
       "description_width": "150px"
      }
     },
     "57882d9fd40c4a6dbc6cb0d4f64b7e17": {
      "model_module": "@jupyter-widgets/controls",
      "model_module_version": "2.0.0",
      "model_name": "TextStyleModel",
      "state": {
       "description_width": "",
       "font_size": null,
       "text_color": null
      }
     },
     "5790e7be164c4721a5bbeafa313e1281": {
      "model_module": "@jupyter-widgets/base",
      "model_module_version": "2.0.0",
      "model_name": "LayoutModel",
      "state": {}
     },
     "57e7c08336b947a6aff224eed783d49a": {
      "model_module": "@jupyter-widgets/base",
      "model_module_version": "2.0.0",
      "model_name": "LayoutModel",
      "state": {}
     },
     "584328f327f04b7caab43067a26f1f93": {
      "model_module": "@jupyter-widgets/base",
      "model_module_version": "2.0.0",
      "model_name": "LayoutModel",
      "state": {}
     },
     "597a50e83e624aa4ad493ebb2ab13f6b": {
      "model_module": "@jupyter-widgets/base",
      "model_module_version": "2.0.0",
      "model_name": "LayoutModel",
      "state": {}
     },
     "59932d443f1b4e528e8a2940dab70e57": {
      "model_module": "@jupyter-widgets/controls",
      "model_module_version": "2.0.0",
      "model_name": "TextStyleModel",
      "state": {
       "description_width": "",
       "font_size": null,
       "text_color": null
      }
     },
     "59c5f37cb7494f458d602023da52f828": {
      "model_module": "@jupyter-widgets/base",
      "model_module_version": "2.0.0",
      "model_name": "LayoutModel",
      "state": {
       "width": "200px"
      }
     },
     "59cb6daaadd04b3685e4e7d4166acc36": {
      "model_module": "@jupyter-widgets/controls",
      "model_module_version": "2.0.0",
      "model_name": "HTMLModel",
      "state": {
       "layout": "IPY_MODEL_18f186ad84c740888afa714a1800ae36",
       "style": "IPY_MODEL_fd26633bccde43958418ba726e65ff1d",
       "value": "Compound: <b>lindane</b>"
      }
     },
     "5a0e848b84f34a3bb944101ec18f072a": {
      "model_module": "@jupyter-widgets/controls",
      "model_module_version": "2.0.0",
      "model_name": "DropdownModel",
      "state": {
       "_options_labels": [
        "shape1"
       ],
       "description": "Packaging:",
       "index": 0,
       "layout": "IPY_MODEL_70bf09d34dd94390bbb25ad9801b5756",
       "style": "IPY_MODEL_a0510a1fd9d44a3aa5b9cf4c205b4f4a"
      }
     },
     "5a76d13473d448caaa9b40da14c7c4ae": {
      "model_module": "@jupyter-widgets/output",
      "model_module_version": "1.0.0",
      "model_name": "OutputModel",
      "state": {
       "layout": "IPY_MODEL_ec6a53051daa49009bc165a6ae21b1ee",
       "outputs": [
        {
         "name": "stdout",
         "output_type": "stream",
         "text": "Instantiated Layers:\n  P1: <PP with 1 layer: ['layer in PP']>\n\nAssembly 'multilayer1' has been created and stored in 'mymaterials'.\n"
        }
       ]
      }
     },
     "5ad50f67554047828c5e6d3a7292f299": {
      "model_module": "@jupyter-widgets/controls",
      "model_module_version": "2.0.0",
      "model_name": "VBoxModel",
      "state": {
       "children": [
        "IPY_MODEL_24a8cd93015749648f7bfd776cc043ad",
        "IPY_MODEL_67b41b30898c49e7a92280af68b57d97",
        "IPY_MODEL_39acac22bf9143e0af1db0c7d8977ae9"
       ],
       "layout": "IPY_MODEL_acdcfa73ff26444cbaa884e76d24621d"
      }
     },
     "5bc466cada6d4bc4a863a7c52cf2ca06": {
      "model_module": "@jupyter-widgets/base",
      "model_module_version": "2.0.0",
      "model_name": "LayoutModel",
      "state": {}
     },
     "5bea80ddcbbf4ef99ceb2b7328f7a115": {
      "model_module": "@jupyter-widgets/controls",
      "model_module_version": "2.0.0",
      "model_name": "DescriptionStyleModel",
      "state": {
       "description_width": ""
      }
     },
     "5bfa9f83b07248edb61073119d0efacb": {
      "model_module": "@jupyter-widgets/base",
      "model_module_version": "2.0.0",
      "model_name": "LayoutModel",
      "state": {}
     },
     "5c72300ea235477a80fb373673d21d29": {
      "model_module": "@jupyter-widgets/base",
      "model_module_version": "2.0.0",
      "model_name": "LayoutModel",
      "state": {
       "width": "60%"
      }
     },
     "5c9710f04ef0452983353b8706d71ec2": {
      "model_module": "@jupyter-widgets/controls",
      "model_module_version": "2.0.0",
      "model_name": "ButtonStyleModel",
      "state": {
       "font_family": null,
       "font_size": null,
       "font_style": null,
       "font_variant": null,
       "font_weight": null,
       "text_color": null,
       "text_decoration": null
      }
     },
     "5d95a1dd2c1f42eaad5b7e751617d525": {
      "model_module": "@jupyter-widgets/base",
      "model_module_version": "2.0.0",
      "model_name": "LayoutModel",
      "state": {
       "width": "60%"
      }
     },
     "5eb1e6fcbf2c42bca313f8589774054a": {
      "model_module": "@jupyter-widgets/base",
      "model_module_version": "2.0.0",
      "model_name": "LayoutModel",
      "state": {}
     },
     "5ee091a06dda44c685f719d247dbebee": {
      "model_module": "@jupyter-widgets/base",
      "model_module_version": "2.0.0",
      "model_name": "LayoutModel",
      "state": {
       "width": "50%"
      }
     },
     "617ac758e27341de9fc75dcbab225762": {
      "model_module": "@jupyter-widgets/controls",
      "model_module_version": "2.0.0",
      "model_name": "ButtonStyleModel",
      "state": {
       "font_family": null,
       "font_size": null,
       "font_style": null,
       "font_variant": null,
       "font_weight": null,
       "text_color": null,
       "text_decoration": null
      }
     },
     "61b169af957441bcac4835f4381df353": {
      "model_module": "@jupyter-widgets/base",
      "model_module_version": "2.0.0",
      "model_name": "LayoutModel",
      "state": {
       "height": "40px",
       "width": "90%"
      }
     },
     "61f5fa5994354c98b1fdb19cf798eeae": {
      "model_module": "@jupyter-widgets/base",
      "model_module_version": "2.0.0",
      "model_name": "LayoutModel",
      "state": {}
     },
     "62b09a51c7ef46c9a9eb982fcdc6a25d": {
      "model_module": "@jupyter-widgets/controls",
      "model_module_version": "2.0.0",
      "model_name": "DropdownModel",
      "state": {
       "_options_labels": [
        "multilayer1"
       ],
       "description": "Material:",
       "index": 0,
       "layout": "IPY_MODEL_b2c79897131f456ca253dcfe8ec5d962",
       "style": "IPY_MODEL_aaae995be5cc46ec8ed46ae64cd1fdc0"
      }
     },
     "6315e82b5f494c0c9f866d2e1544b893": {
      "model_module": "@jupyter-widgets/base",
      "model_module_version": "2.0.0",
      "model_name": "LayoutModel",
      "state": {}
     },
     "634e0d8a74f740979e23378707a00b36": {
      "model_module": "@jupyter-widgets/base",
      "model_module_version": "2.0.0",
      "model_name": "LayoutModel",
      "state": {}
     },
     "635e9e9e55cc42bb9134b605e9c9c3a2": {
      "model_module": "@jupyter-widgets/base",
      "model_module_version": "2.0.0",
      "model_name": "LayoutModel",
      "state": {}
     },
     "63994f9ea79846f3b495c1c7f1e3a4cd": {
      "model_module": "@jupyter-widgets/controls",
      "model_module_version": "2.0.0",
      "model_name": "HBoxModel",
      "state": {
       "children": [
        "IPY_MODEL_816549a3dd84489189fa174adb850780",
        "IPY_MODEL_c8e1b40579774ff18b9efecbee6a865b"
       ],
       "layout": "IPY_MODEL_c506509ef2914355ad57d985e1f72a5c"
      }
     },
     "63b5f6d1ffb5435786f31f044fc66136": {
      "model_module": "@jupyter-widgets/base",
      "model_module_version": "2.0.0",
      "model_name": "LayoutModel",
      "state": {
       "width": "600px"
      }
     },
     "6416015bc77b453b9bc6bd03bfc87fbf": {
      "model_module": "@jupyter-widgets/base",
      "model_module_version": "2.0.0",
      "model_name": "LayoutModel",
      "state": {
       "width": "300px"
      }
     },
     "65399c5dab504fcb89c14bdc4642e714": {
      "model_module": "@jupyter-widgets/base",
      "model_module_version": "2.0.0",
      "model_name": "LayoutModel",
      "state": {
       "width": "50%"
      }
     },
     "65556e20fd4b4a1e89af16d46360ed21": {
      "model_module": "@jupyter-widgets/base",
      "model_module_version": "2.0.0",
      "model_name": "LayoutModel",
      "state": {
       "width": "40%"
      }
     },
     "65b09380fc1b4fe0b552b34c07db9805": {
      "model_module": "@jupyter-widgets/controls",
      "model_module_version": "2.0.0",
      "model_name": "DescriptionStyleModel",
      "state": {
       "description_width": ""
      }
     },
     "65ea1e86868948ad997ae6b07ff458ee": {
      "model_module": "@jupyter-widgets/controls",
      "model_module_version": "2.0.0",
      "model_name": "LabelModel",
      "state": {
       "layout": "IPY_MODEL_635e9e9e55cc42bb9134b605e9c9c3a2",
       "style": "IPY_MODEL_f7c35a5e3e6f4262afc92db611d97c47",
       "value": " >> "
      }
     },
     "66123f4c2762481b97c44ad8da1507ad": {
      "model_module": "@jupyter-widgets/base",
      "model_module_version": "2.0.0",
      "model_name": "LayoutModel",
      "state": {}
     },
     "669ab8d495744a4ca7758f66c43b33c8": {
      "model_module": "@jupyter-widgets/base",
      "model_module_version": "2.0.0",
      "model_name": "LayoutModel",
      "state": {}
     },
     "676deb752e0245d592b57ed890f89c82": {
      "model_module": "@jupyter-widgets/base",
      "model_module_version": "2.0.0",
      "model_name": "LayoutModel",
      "state": {}
     },
     "67916cd6631e4a98b8bf539b061c88fc": {
      "model_module": "@jupyter-widgets/controls",
      "model_module_version": "2.0.0",
      "model_name": "ButtonModel",
      "state": {
       "button_style": "success",
       "description": "Instantiate Custom Condition",
       "layout": "IPY_MODEL_2be837137856412c8d337cbfc88ea65c",
       "style": "IPY_MODEL_617ac758e27341de9fc75dcbab225762",
       "tooltip": null
      }
     },
     "67b41b30898c49e7a92280af68b57d97": {
      "model_module": "@jupyter-widgets/controls",
      "model_module_version": "2.0.0",
      "model_name": "ButtonModel",
      "state": {
       "button_style": "success",
       "description": "Generate Table",
       "layout": "IPY_MODEL_96e86004861a42f79892d225e95fb8b8",
       "style": "IPY_MODEL_169a2fc5bfaa4a378cb97f738c193549",
       "tooltip": null
      }
     },
     "67d192ff75fc472fbb43223db5d795fd": {
      "model_module": "@jupyter-widgets/base",
      "model_module_version": "2.0.0",
      "model_name": "LayoutModel",
      "state": {}
     },
     "682e7623332d4f568f59f017ec4d2c34": {
      "model_module": "@jupyter-widgets/controls",
      "model_module_version": "2.0.0",
      "model_name": "LabelStyleModel",
      "state": {
       "description_width": "",
       "font_family": null,
       "font_size": null,
       "font_style": null,
       "font_variant": null,
       "font_weight": null,
       "text_color": null,
       "text_decoration": null
      }
     },
     "6a4a18c29c5d4969bdb9a0715d159de6": {
      "model_module": "@jupyter-widgets/base",
      "model_module_version": "2.0.0",
      "model_name": "LayoutModel",
      "state": {}
     },
     "6a7f2ebe39c242f083eb1a664ff67aa8": {
      "model_module": "@jupyter-widgets/controls",
      "model_module_version": "2.0.0",
      "model_name": "HBoxModel",
      "state": {
       "children": [
        "IPY_MODEL_3f6f7bfc2d48469d8eaf345cd75f7fcb",
        "IPY_MODEL_f76c81d7ca8f4127801967c197334e70"
       ],
       "layout": "IPY_MODEL_ba2c4b8eec4f4373828c3f8218c6b838"
      }
     },
     "6afebade823f47a4afa0ee787d059e3d": {
      "model_module": "@jupyter-widgets/controls",
      "model_module_version": "2.0.0",
      "model_name": "ButtonStyleModel",
      "state": {
       "font_family": null,
       "font_size": null,
       "font_style": null,
       "font_variant": null,
       "font_weight": null,
       "text_color": null,
       "text_decoration": null
      }
     },
     "6bd2a72f7cb1492d8d39dacbec23a027": {
      "model_module": "@jupyter-widgets/controls",
      "model_module_version": "2.0.0",
      "model_name": "ButtonModel",
      "state": {
       "button_style": "success",
       "description": "Instantiate All Layers",
       "layout": "IPY_MODEL_3d29d2863157408f93976abc057f5ef2",
       "style": "IPY_MODEL_d3a35acc006e4573b71f1c3bb765bf69",
       "tooltip": "Click to instantiate all layers"
      }
     },
     "6da9a46312dd4b29a9f365bcd2fe87df": {
      "model_module": "@jupyter-widgets/controls",
      "model_module_version": "2.0.0",
      "model_name": "DescriptionStyleModel",
      "state": {
       "description_width": ""
      }
     },
     "6dc90908317b45569332b9b9f7e3d0ba": {
      "buffers": [
       {
        "data": "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",
        "encoding": "base64",
        "path": [
         "value"
        ]
       }
      ],
      "model_module": "@jupyter-widgets/controls",
      "model_module_version": "2.0.0",
      "model_name": "ImageModel",
      "state": {
       "height": "300",
       "layout": "IPY_MODEL_c886fea6eb0a4308bca3af38b7cf45d5",
       "width": "300"
      }
     },
     "6e7073c1466e41358139f486393c91c5": {
      "model_module": "@jupyter-widgets/base",
      "model_module_version": "2.0.0",
      "model_name": "LayoutModel",
      "state": {}
     },
     "6f8aadf3ac6b4108a898111c4e8667fd": {
      "model_module": "@jupyter-widgets/controls",
      "model_module_version": "2.0.0",
      "model_name": "DescriptionStyleModel",
      "state": {
       "description_width": ""
      }
     },
     "6fe9220d054e48518920f6d811765648": {
      "model_module": "@jupyter-widgets/base",
      "model_module_version": "2.0.0",
      "model_name": "LayoutModel",
      "state": {
       "width": "20%"
      }
     },
     "7095fd6ac9564abeb4044f9b11b9e64a": {
      "model_module": "@jupyter-widgets/base",
      "model_module_version": "2.0.0",
      "model_name": "LayoutModel",
      "state": {}
     },
     "70bf09d34dd94390bbb25ad9801b5756": {
      "model_module": "@jupyter-widgets/base",
      "model_module_version": "2.0.0",
      "model_name": "LayoutModel",
      "state": {
       "width": "200px"
      }
     },
     "719a4d3a18684871a762fb9581b8b22c": {
      "model_module": "@jupyter-widgets/controls",
      "model_module_version": "2.0.0",
      "model_name": "SliderStyleModel",
      "state": {
       "description_width": ""
      }
     },
     "71df8fd91c99489cbf398a0e82060755": {
      "model_module": "@jupyter-widgets/base",
      "model_module_version": "2.0.0",
      "model_name": "LayoutModel",
      "state": {
       "width": "50%"
      }
     },
     "71e2a3c972354653a6143c7d8cc87286": {
      "model_module": "@jupyter-widgets/controls",
      "model_module_version": "2.0.0",
      "model_name": "FloatTextModel",
      "state": {
       "description": "height:",
       "layout": "IPY_MODEL_b09609a65bde4e209f27809f3f551ef5",
       "step": null,
       "style": "IPY_MODEL_85715e7eab954074ab381eca0cf690b8",
       "value": 5
      }
     },
     "7300e2018a7b43ee8add70e49d626c28": {
      "model_module": "@jupyter-widgets/controls",
      "model_module_version": "2.0.0",
      "model_name": "TextStyleModel",
      "state": {
       "description_width": "",
       "font_size": null,
       "text_color": null
      }
     },
     "73293c0b5dfe48138ea264f4c8797d9c": {
      "model_module": "@jupyter-widgets/base",
      "model_module_version": "2.0.0",
      "model_name": "LayoutModel",
      "state": {}
     },
     "755fa7c708ba4d6f99444152c5913d6f": {
      "model_module": "@jupyter-widgets/controls",
      "model_module_version": "2.0.0",
      "model_name": "FloatTextModel",
      "state": {
       "description": "Contact Time:",
       "layout": "IPY_MODEL_4b1cc3ce1551493e8bd8b159bca805c8",
       "step": null,
       "style": "IPY_MODEL_7fc03fb9be3346b3bdf109c941b05de9",
       "value": 60
      }
     },
     "75f5c45965a34111bbcc5ea8fbf91149": {
      "model_module": "@jupyter-widgets/base",
      "model_module_version": "2.0.0",
      "model_name": "LayoutModel",
      "state": {}
     },
     "770df206dc9b4695bf71261cbe4fb415": {
      "model_module": "@jupyter-widgets/controls",
      "model_module_version": "2.0.0",
      "model_name": "ButtonStyleModel",
      "state": {
       "font_family": null,
       "font_size": null,
       "font_style": null,
       "font_variant": null,
       "font_weight": null,
       "text_color": null,
       "text_decoration": null
      }
     },
     "7726aa9da1d649a283ec9438e78d8784": {
      "model_module": "@jupyter-widgets/controls",
      "model_module_version": "2.0.0",
      "model_name": "DescriptionStyleModel",
      "state": {
       "description_width": ""
      }
     },
     "78c88a7ed779400f8194d6b3094dfda2": {
      "model_module": "@jupyter-widgets/controls",
      "model_module_version": "2.0.0",
      "model_name": "DropdownModel",
      "state": {
       "_options_labels": [
        "gamma-col",
        "Gamacide 20",
        "Detmol Extrakt",
        "Cyclohexane, 1,2,3,4,5,6-hexachloro-, .gamma.-",
        "Lindex",
        "UNII-YM80ODM9PD",
        "alpha-HCH [Hexachlorocyclohexanes]",
        "BHC .alpha.",
        ".delta.-BHC",
        "beta-HCH",
        "Tox21_111294",
        "beta-Hexachloran",
        "Latka 666",
        "delta-HCH 10 microg/mL in Cyclohexane",
        "Benzene hexachloride, all isomers",
        ".ALPHA.-666",
        "NS00066938",
        "NCI-C00204",
        "gamma-Hexachlorzyklohexan",
        "HSDB 1606",
        "NCGC00259839-01",
        "Chloresene",
        "zeta-Hexachlorocyclohexane",
        "Agrisol G-20",
        "HSDB 6183",
        "Dolmix",
        "Hexachlorocyclohexanes",
        "(1s,2R,3R,4s,5S,6S)-1,2,3,4,5,6-hexachlorocyclohexane",
        "Sang-gamma",
        "a-Hexachlorocyclohexane (HCH, BHC)",
        "DTXSID2020684",
        "CHEBI:39095",
        "Hexatox",
        "1,2,3,4,5,6-.gamma.-Hexachlorocyclohexane",
        "AKOS015914103",
        "1.alpha.,2.alpha.,3.alpha.,4.beta.,5.alpha.,6.beta.-Hexachlorocyclohexane",
        "KBio2_005032",
        "NCGC00258230-01",
        ".delta.-Benzene hexachloride",
        "Lindalo",
        "Cyclohexane, 1,2,3,4,5,6-hexachloro-, (1alpha,2alpha,3beta,4alpha,5alpha,6beta)-",
        "Pepsin",
        "NSC11807",
        "(+)-alpha-HCH",
        ".delta.,2,3,4,5,6-Hexachlorocyclohexane",
        "Agrocide 7",
        "Q6445839",
        "Cyclohexane, 1,2,3,4,5,6-hexachloro-, delta-isomer",
        "NSC-11807",
        "Forst-nexen",
        "Benzene hexachloride-.alpha.-isomer",
        "BHC, .ALPHA.-",
        "gamma-HCH [Hexachlorocyclohexanes]",
        "Murfume grain store smoke",
        "Isatox",
        "alpha-Hexachlorcyclohexane",
        "gamma-HCH or gamma-BHC",
        "?-HCH",
        "SBI-0051430.P003",
        "Lorexane",
        "Cyclohexane, 1,2,3,4,5,6-hexachloro-",
        "HSDB 6184",
        "Omnitox",
        "ENT 9,232",
        "Agrocide 2",
        "gamma-Hexachlorane",
        "Agrocide WP",
        "NSC-7909",
        "Borer Spray",
        ".delta.-(aeeee)-1,3,4,5,6-Hexachlorocyclohexane",
        "Benzene hexachloride gamma",
        "Cyclohexane, 1,2,3,4,5,6-hexachloro-, alpha-",
        "Novigam",
        "Kwell-R",
        "Gamtox",
        ".delta.,1,2,3,4,5,6-Hexachlorocyclohexane",
        "Lindagam",
        "delta-(Aeeeee)-1,2,3,4,5,6-hexachlorocyclohexane",
        "HCH-.alpha.",
        "BHC-.alpha. isomer",
        "CHEMBL1714528",
        "Gamma-HCH [ISO]",
        "BBH",
        "Benhexol",
        "CHEMBL15891",
        "NCGC00348372-01",
        "Spruehpflanzol",
        "Spectrum2_001864",
        "Lindatox",
        "BHC, mixture of isomers (alpha:beta:gamma:delta=1:1:1:1)",
        "HCH, technical grade",
        "LINDANE [HSDB]",
        "NCGC00254855-01",
        "SCHEMBL8469477",
        "gamma-HCH 1000 microg/mL in Toluene",
        "AI3-09234",
        ".BETA.-LINDANE",
        "Milbol 49",
        "LINDANE [USP-RS]",
        "Forlin",
        "AB00052031_02",
        "LINDANE [IARC]",
        "Benzene-1,2,3,4,5,6-hexachloride (Ambiguous)",
        "Lindan",
        "Hexachlorocyclohexane (z-isomer)",
        "beta-HCH 100 microg/mL in Toluene",
        "LINDANUM [WHO-IP LATIN]",
        "GAMMA-HEXACHLORO-CYCLOHEXANE",
        "BRN 1907331",
        "SCHEMBL9120917",
        "epsilon-Hexachlorocyclohexane",
        "SR-05000001837",
        ".delta.-(aeeee)-1,2,3,4,5,6-Hexachlorocyclohexane",
        "Cyclohexane, 1,2,3,4,5,6-hexachloro-, gamma-isomer",
        "Hexachloran",
        "KCA55682",
        "NCGC00248792-01",
        "gamma-1,2,3,4,5,6-Hexachlorocyclohexane",
        "delta-HCH 100 microg/mL in Cyclohexane",
        "Silvanol",
        "1-.alpha.,2-.alpha.,3-.beta.,4-.alpha.,5-.beta.,6-.beta.-Hexachlorocyclohexane",
        "MLS001333088",
        "BHC(.gamma.)",
        "gamma-BHC, analytical standard",
        "Lendine",
        "NCGC00094546-04",
        "Hexapoudre",
        "Technical HCH",
        "BIDD:ER0090",
        ".alpha.-BHC",
        "Agrocide 6G",
        "Entomoxan",
        "SCHEMBL140812",
        ".BETA.-666",
        "theta-Hexachlorocyclohexane",
        "G-HEXACHLOROCYCLOHEXANE",
        "NS00066921",
        "Benzene Hexachloride (gamma-Isomer)",
        "Nexen fb",
        "1,2,3,4,5,6-Hexachlorocyclohexane (.gamma.)",
        "(1.ALPHA.,2.ALPHA.,3.BETA.,4.ALPHA.,5.ALPHA.,6.BETA.)-1,2,3,4,5,6-HEXACHLOROCYCLOHEXANE",
        "319-85-7",
        "Hexachlorzyklohexan",
        "119911-69-2",
        "Lindaterra",
        "Hexachlorocyclohexane (technical grade)",
        ".gamma.-1,2,3,4,5,6-Hexachlorocyclohexane",
        "Q23014122",
        "Tox21_202069",
        "Aparasin",
        "CCRIS 329",
        "Isotox",
        "gamma-BHC Benhexachlor",
        "DTXSID7020687",
        "(+/-)-.BETA.-HEXACHLOROCYCLOHEXANE",
        "Lindano",
        "HCH-.delta.",
        "KBioGR_001199",
        "HCC",
        "1a,2b,3a,4b,5a,6b-hexachlorocyclohexane",
        "KBio3_001979",
        "(1alpha,2alpha,3alpha,4alpha,5alpha,6beta)-1,2,3,4,5,6-Hexachlorocyclohexane",
        "LINDANE [INN]",
        "(1r,2c,3c,4t,5c,6t)-1,2,3,4,5,6-hexachlorocyclohexane",
        "(1alpha,2alpha,3alpha,4alpha,5alpha,6alpha)-1,2,3,4,5,6-Hexachlorocyclohexane",
        "Cyclohexane, 1,2,3,4,5,6-hexachloro-, .beta.-",
        "DTXSID5024134",
        "NCGC00094546-08",
        "Tox21_201777",
        "CHEMBL1200921",
        "Gammaterr",
        "1,2,3,4,5,6-hexachlorocyclohexane",
        "DELTA-HEXACHLOROCYCLOHEXANE",
        "NCGC00163943-04",
        "Rcra waste number U129",
        "Kokotine",
        "C06988",
        "Agrocide III",
        "BHC, .delta.",
        "alpha-Benzenehexachloride",
        "Hexachlorocyclohexane, technical grade",
        "JLYXXMFPNIAWKQ-GPIVLXJGSA-N",
        "HSDB 6029",
        ".ALPHA.-BENZENEHEXACHLORIDE",
        ".delta.-Lindane",
        "4-05-00-00056 (Beilstein Handbook Reference)",
        "LINDANE [MART.]",
        "EINECS 228-068-9",
        "NINDS_000701",
        "Drilltox-Spezial Aglukon",
        "alpha-HCH 100 microg/mL in Acetone",
        "Hexachlorocyclohexane, gamma-",
        "NCGC00159386-02",
        "WLN: L6TJ AG BG CG DG EG FG .delta.",
        "alpha-Hexachlorane",
        "Scabene",
        "(1r,2R,3S,4r,5R,6S)-1,2,3,4,5,6-hexachlorocyclohexane",
        "SCHEMBL75689",
        "BHC or HCH",
        "AI3-08601",
        "UNII-5477B350EK",
        "epsilon-HCH",
        ".DELTA.-1,2,3,4,5,6-HEXACHLOROCYCLOHEXANE",
        "1,2,3,4,5,6-Hexachlorocyclohexane (all stereo isomers)",
        "TRI-6",
        "Verindal ultra",
        "Detmol-extrakt",
        "ALPHA-HEXACHLOROCYCLOHEXANE",
        "HCH (mixture of isomers)-d6",
        "Tox21_200676",
        "Spritz-rapidin",
        "Cyclohexane, .alpha.-1,2,3,4,5,6-hexachloro-",
        "1alpha,2alpha,3beta,4alpha,5alpha,6beta-Hexachlorocyclohexane",
        "NCGC00094546-03",
        "4-05-00-00058 (Beilstein Handbook Reference)",
        "lindane (Gama-HCH)",
        "YV2D256Z3N",
        "BHC-.delta. isomer",
        "MSK20023",
        "epsilon-HCH 100 microg/mL in Methanol",
        "Lacco HI lin",
        "DTXSID7020685",
        "Lindane, PESTANAL(R), analytical standard",
        "Trives-T",
        "JLYXXMFPNIAWKQ-LKPKBOIGSA-N",
        "Cyclohexane, 1,2,3,4,5,6-hexachloro-, (1alpha,2alpha,3beta,4alpha,5beta,6beta)-",
        "(1R,2S,3r,4R,5S,6r)-1,2,3,4,5,6-hexachlorocyclohexane",
        "AI3-15109",
        "alpha-HCH",
        "alpha-HCH 100 microg/mL in Cyclohexane",
        "SCHEMBL10795898",
        "CAS-319-84-6",
        "technical Hexachlorocyclohexane",
        "(1r,2c,3t,4c,5c,6t)-1,2,3,4,5,6-hexachlorocyclohexane",
        "Benzenehexachloride-alpha-isomer",
        "HCH (technical) 10 microg/mL in Isooctane",
        "AI3-09233",
        "HMS502D03",
        "Hexachlorcyclohexan [German]",
        "gamma BHC",
        "Lindane [USAN:USP:INN:BAN]",
        "Benzex",
        ".gamma.-Hexachlorane",
        "(1alpha,2alpha,3alpha,4alpha,5beta,6beta)-1,2,3,4,5,6-Hexachlorocyclohexane",
        "NSC7909",
        "NCGC00256383-01",
        ".beta.-Hexachlorocyclohexane",
        "CHEBI:28428",
        "lindane",
        "beta-HCH 1000 microg/mL in Toluene",
        "gamma-Benzene hexachloride",
        "Owadziak",
        "Cyclohexane, 1,2,3,4,5,6-hexachloro-, (1alpha,2beta,3alpha,4beta,5alpha,6beta)-",
        "DTXSID901310407",
        "beta-Benzene hexachloride",
        "G-BHC-.delta.",
        "epsilon-HCH 10 microg/mL in Cyclohexane",
        "BSPBio_002479",
        "1,3,4,5,6-Hexachlorocyclohexane, .gamma. isomer",
        "1,2,3,4,5,6-Hexachlorocyclohexane (all stereo isomers, including lindane)",
        "Cyclohexane, 1,2,3,4,5,6-hexachloro-, (1alpha,2alpha,3alpha,4alpha,5alpha,6alpha)-",
        "Beta-1,2,3,4,5,6-hexachlorocyclohexane",
        "Linvur",
        "1,2,3,4,5,6-Hexachlorocyclohexane; BHC; HCH; NSC 11807; NSC 7909; NSC 8093",
        "Hexachlorocyclohexane technical",
        "Lindafor",
        "H0056",
        ".gamma.-Lindane",
        "NCGC00254541-01",
        "alpha-HCH, PESTANAL(R), analytical standard",
        "beta-BHC",
        "Lindane, 97%",
        "gamma-HCH 10 microg/mL in Cyclohexane",
        "Benzene hexachloride",
        "Hexachlorocyclohexane, beta-",
        ".alpha.-1,2,3,4,5,6-Hexachlorocyclohexane",
        "gamma hexachlor",
        "DTXSID0024135",
        "Caswell No. 527",
        "BETA-HEXACHLOROCYCLOHEXANE",
        "C18738",
        "DTXCID00196533",
        "HGI",
        ".gamma.-Hexachlorobenzene",
        "?-1,2,3,4,5,6-Hexachlorocyclohexane-d6",
        "LINDANE [USP MONOGRAPH]",
        ".alpha.-Benzene hexachloride",
        "delta-Lindane",
        "RCRA waste no. U129",
        "AKOS024390982",
        "BETA-HEXACHLOROCYCLOHEXANE [HSDB]",
        ".gamma.-Benzene hexachloride",
        "alpha-Lindane",
        "Drill tox-spezial aglukon",
        "(1alpha,2alpha,3beta,4alpha,5beta,6beta)-1,2,3,4,5,6-Hexachlorocyclohexane",
        "SR-05000001837-4",
        "Cyclohexane, l,2,3,4,5,6-hexachloro-, (1alpha,2alpha,3beta,4alpha,5beta,6beta)-",
        "b-hexachlorocyclohexane",
        "Geolin G 3",
        "HCH, technical grade [Hexachlorocyclohexanes]",
        "(1R,2r,3S,4R,5s,6S)-1,2,3,4,5,6-hexachlorocyclohexane",
        "BHC (mixture of hexachlorocyclohexanes)",
        "Gammexane",
        "BIDD:ER0558",
        "gamma-hexachlorocyclohexane",
        "AI3-09232",
        "BIDD:PXR0097",
        "Cyclohexane, 1,2,3,4,5,6-hexachloro-, delta-",
        "Cyclohexane, beta-1,2,3,4,5,6-hexachloro-",
        "Cyclohexane,1,2,3,4,5,6-hexachloro-",
        "NCGC00163943-01",
        "MLS001361319",
        "NCGC00163943-02",
        "Aficide",
        "EINECS 206-272-9",
        "(1alpha,2alpha,3beta,4alpha,5alpha,6beta)-1,2,3,4,5,6-hexachlorocyclohexane",
        "ENT 9,234",
        "MSK20022-1000H",
        "BIDD:GT0634",
        "Cyclohexane, .delta.,1,2,3,4,5,6-hexachloro-",
        "Bentox 10",
        "Hilbeech",
        "LINDANE [USP IMPURITY]",
        "H27770",
        "NSC-11808",
        "hecoltox",
        "gamma Benzene hexachloride",
        "CHEBI:32888",
        ".alpha.-Hexachlorane",
        "Cyclohexane, 1,2,3,4,5,6-hexachloro-, alpha-isomer",
        "gamma-HCH Solution in Hexane, 1000ug/mL",
        "Cyclohexane, 1,2,3,4,5,6-hexachloro-, (1alpha,2alpha,3alpha,4beta,5beta,6beta)-",
        "Hungaria L7",
        "Cyclohexane,2,3,4,5,6-hexachloro-, .delta.-",
        "alpha-1,2,3,4,5,6-Hexachlorocyclohexane, 99%",
        ".BETA.-1,2,3,4,5,6-HEXACHLOROCYCLOHEXANE",
        "Benzene hexachloride (Ambiguous)",
        "SCHEMBL7647849",
        "Lindane [Hexachlorocyclohexanes]",
        "AAA31985",
        "beta-BHC, analytical standard",
        "Latka 666 [Czech]",
        "gamma-Lindane",
        "BHC (insecticide)",
        "Neo-scabicidol",
        "g-1,2,3,4,5,6-Hexachlorocyclohexane",
        "Geobilan",
        ".alpha.-1,2,3,4,5,6-Hexachlorcyclohexane",
        "beta-HCH 10 microg/mL in Cyclohexane",
        "EPSILON-1,2,3,4,5,6-HEXACHLOROCYCLOHEXANE",
        "HCH [BSI]",
        "LINDANE [WHO-IP]",
        "1.ALPHA.,2.ALPHA.,3.BETA.,4.ALPHA.,5.ALPHA.,6.BETA.-HEXACHLOROCYCLOHEXANE",
        "?-BHC",
        "NSC-755895",
        "Hcch",
        "epsilon-Benzenehexachloride",
        "CS-0450994",
        "DTXCID30687",
        "Lindane, Pharmaceutical Secondary Standard; Certified Reference Material",
        "Tox21_303873",
        "1,2,3,4,5,6-hexachlorocyclohexane (1alpha,2alpha,3beta,4alpha,5alpha,6beta)",
        "ENT 7,796",
        "Hexachlorcyclohexan",
        "SPBio_001708",
        "1-alpha,2-alpha,3-alpha,4-beta,5-alpha,6-beta-Hexachlorocyclohexane",
        "Arcotal S",
        "ENT 8,601",
        "Lintox",
        "epsilon-HCH 100 microg/mL in Cyclohexane",
        "trans-alpha-Benzenehexachloride",
        "6108-13-0",
        "BHC, .BETA.-",
        "InChI=1/C6H6Cl6/c7-1-2(8)4(10)6(12)5(11)3(1)9/h1-6",
        "SCHEMBL25895",
        "Agrocide",
        "SCHEMBL140813",
        "Cyclohexane, 1,2,3,4,5,6-hexachloro-, (1.alpha.,2.alpha.,3.beta.,4.alpha.,5.beta.,6.beta.)-",
        ".ALPHA.-BENZOHEXACHLORIDE",
        "BRD-K93814253-001-05-0",
        "Kanodane",
        "Lindane, United States Pharmacopeia (USP) Reference Standard",
        "DB00431",
        "Lindamul",
        "delta-BHC, vial of 100 mg, analytical standard",
        "IVM9A2N49K",
        "DTXSID2020686",
        ".EPSILON.-LINDANE",
        "HSDB 646",
        "Inexit",
        "1,2,3,4,5,6-Hexachlorocyclohexane gamma isomer",
        "NS00002327",
        "CHEMBL1874247",
        "benzene hexachloride-gamma-isomer",
        "(1alpha,2beta,3alpha,4beta,5alpha,6beta)-1,2,3,4,5,6-Hexachlorocyclohexane",
        "Lindagrain",
        "MSK20635-10T",
        "PD129943",
        "Cyclohexane, 1,2,3,4,5,6-hexachloro-, .gamma.-isomer",
        "Hexachlorocyclohexane, gamma isomer",
        "Lentox",
        ".DELTA.-666",
        "BRN 3195880",
        "HCH [ISO]",
        "Gammahexachlorcyclohexane",
        "Lindane (USP/INN)",
        "zeta-HCH",
        "EINECS 206-270-8",
        "NCGC00159386-05",
        "Hexachlorocyclohexane [h-isomer]",
        "NSC11808",
        "UNII-IVM9A2N49K",
        "gamma-HCH",
        "BHC, DELTA-",
        "Spectrum_001929",
        ".gamma.-BHC",
        "Hexaverm",
        "Caswell No. 079",
        "AI3-07796",
        "DOL GRANULE",
        "Nexit Stark",
        "KWELL (TN)",
        "trans-1,2,3,4,5,6-hexachlorocyclohexane",
        "KBio2_002464",
        "delta-HCH 1000 microg/mL in Toluene",
        "Hexamul",
        "BRN 1907337",
        "UNII-YV2D256Z3N",
        "Lindane,(S)",
        "Pflanzol",
        "BRD-K93814253-001-04-3",
        "59NEE7PCAB",
        "Spectrum3_000860",
        "(1r,2t,3c,4t,5c,6t)-1,2,3,4,5,6-hexachlorocyclohexane",
        "beta-Hexachlorobenzene",
        "nexen-fb",
        "Cyclohexane, 1,2,3,4,5,6-hexachloro-, .delta.-isomer",
        "Spectrum5_001586",
        "Agronexit",
        "Mszycol",
        ".alpha.-HCH",
        "Lindosep",
        "NCGC00094546-06",
        "UNII-59NEE7PCAB",
        "(1R,2R,3S,4S,5S,6S)-1,2,3,4,5,6-hexachlorocyclohexane",
        "5477B350EK",
        "Beta-HCH Solution in Toluene, 10ug/mL",
        "Devoran",
        "Hexachlorocyclohexane, gamma-isomer",
        "Cyclohexane, 1,2,3,4,5,6-hexachloro-, beta-isomer",
        "Cyclohexane, 1,2,3,4,5,6-hexachloro-, (1alpha,2alpha,3alpha,4alpha,5alpha,6beta)-",
        "Gammahexane",
        "Hexachlorane",
        "LINDANE [USAN]",
        "NCGC00163943-03",
        "Ameisenmittel merck",
        "MSK20020",
        "NS00066928",
        ".beta.-BHC",
        "Submar",
        "Tox21_202290",
        "alpha-HCH 10 microg/mL in Cyclohexane",
        "Lasochron",
        "608-73-1",
        "Jacutin",
        ".alpha.-Hexachloran",
        "Kwell",
        "?-HCH 1000 microg/mL in Methanol",
        "4-05-00-00060 (Beilstein Handbook Reference)",
        "Hexcidum",
        "CCRIS 328",
        "Heclotox",
        "1,2,3,4,5,6-Hexachlorocyclohexane, (1.alpha.,2.alpha.,3.beta.,4.alpha.,5.beta.,6.beta.)-",
        "AAA31986",
        "Fenoform forte",
        "Q10860138",
        "55963-79-6",
        "HMS1923K17",
        "alpha-Benzene hexachloride",
        "benzene-cis-hexachloride",
        "58-89-9",
        "Arbitex",
        "H.C.H.",
        "NCGC00094546-02",
        "a-hexachlorocyclohexane",
        "lindane (gamma-HCH)",
        "Gamacide",
        "Ameisenatod",
        "CHEMBL389022",
        "(1r,2r,3r,4r,5r,6r)-1,2,3,4,5,6-hexachlorocyclohexane",
        "beta-Lindane",
        ".delta.-HCH",
        "Hexachlorocyclohexane",
        "Nexit",
        "1ST20510D6",
        "NCGC00094546-11",
        "NCGC00159386-04",
        "Cyclohexane, 1,2,3,4,5,6-hexachloro-, (1.alpha.,2.alpha.,3.alpha.,4.beta.,5.alpha.,6.beta.)-",
        "NCGC00094546-05",
        "1,3,4,5,6-Hexachlorcyclohexane, .beta. isomer",
        "BHC, mixture of isomers (a:b:gamma:delta=1:1:1:1)",
        "delta-HCH, PESTANAL(R), analytical standard",
        "Quellada",
        "Gamacarbatox",
        "NCGC00163943-05",
        "DTXCID20196535",
        "DTXSID80891695",
        "Gallogama",
        "eta-HCH",
        "CHEBI:24536",
        "delta-1,2,3,4,5,6-Hexachlorocyclohexane",
        "Lindano [INN-Spanish]",
        "Codechine",
        "HCH (technical)",
        "Tox21_302925",
        "Cyclohexane, 1,2,3,4,5,6-hexachloro-, (1.alpha.,2.alpha.,3.alpha.,4.beta.,5.beta.,6.beta.)-",
        "UNII-88RHN9KHN8",
        "Lindanum [INN-Latin]",
        "Gamiso",
        "SMR000875266",
        ".BETA.-HEXACHLOROBENZENE",
        "TAP 85",
        "Gamene",
        "(1R,2R,3R,4R,5S,6S)-1,2,3,4,5,6-hexachlorocyclohexane",
        ".gamma.-Hexachlorocyclohexane",
        "6108-11-8",
        "GAMMAHEXACHLORCYCLOHEXANE [WHO-IP]",
        "Gyben",
        "NSC 11808",
        "HMS2230C24",
        "Exagama",
        "ENT 9,233",
        "SCHEMBL472088",
        "2-05-00-00011 (Beilstein Handbook Reference)",
        "Cyclohexane,2,3,4,5,6-hexachloro-",
        "CCRIS 1449",
        "Gammalin 20",
        "Lidenal",
        "NSC-8093",
        "CCG-39862",
        "(+/-)-.ALPHA.-HEXACHLOROCYCLOHEXANE",
        "delta-BHC, analytical standard",
        "Hexachlorocyclohexane, delta-",
        "(1alpha,2alpha,3alpha,4beta,5alpha,6beta)-1,2,3,4,5,6-Hexachlorocyclohexane",
        "(1.alpha.,3.beta.,4.alpha.,5.alpha.,6.beta)-1,2,3,4,5,6-Hexachlorocyclohexane",
        "gamma-Hexachlorcyclohexanum",
        "4-05-00-00061 (Beilstein Handbook Reference)",
        "Mglawik L",
        "Benzene Hexachloride, .gamma.",
        "Pharmakon1600-00330071",
        "LINDANE [MI]",
        "Hexachlorocyclohexane,.gamma.-isomer",
        "LINDANE [WHO-DD]",
        "Gammaxene",
        "C07075",
        "Celanex",
        "Gexane",
        "KBioSS_002471",
        "delta-1,2,3,4,5,6-Hexachlorocyclohexane (Technical Grade)",
        "Ameisentod",
        "Benzene Hexachloride, gamma",
        "CAS-608-73-1",
        "Gammahexa",
        "Lindanum",
        "Sang-.gamma.",
        ".EPSILON.-BENZENE HEXACHLORIDE",
        "Q282003",
        "Gamma-mean 400",
        "alpha-1,2,3,4,5,6-Hexachlorocyclohexane",
        "CAS-319-86-8",
        "DTXCID60196534",
        "beta-HCH, PESTANAL(R), analytical standard",
        "Bexol",
        "NCGC00094546-07",
        "BHC, EPSILON-",
        "CAS-319-85-7",
        "(+)-I+/--Hexachlorocyclohexane",
        "AC-11679",
        "HMS2231A06",
        "Hortex",
        "Cyclohexane, 1,2,3,4,5,6-hexachloro-, (1.alpha.,2.beta.,3.alpha.,4.beta.,5.alpha.,6.beta.)-",
        "(1r,2c,3t,4t,5c,6t)-1,2,3,4,5,6-hexachlorocyclohexane",
        "88RHN9KHN8",
        "NCGC00259618-01",
        "Gammallin",
        "1,2,3,4,5,6-Hexachlorocyclohexane (gamma-Isomer)",
        "Ovadziak",
        "NS00108471",
        "(1.alpha.,3.alpha.,4.beta.,5.alpha.,6.beta.)-1,2,3,4,5,6-Hexachlorocyclohexane",
        "Novigan",
        "delta-Benzene hexachloride",
        "1,2,3,4,5,6-Hexachlorocyclohexane, (1.alpha.,2.alpha.,3.alpha.,4.beta.,5.alpha.,6.beta.)-",
        "(1alpha,2alpha,3alpha,4beta,5beta,6beta)-1,2,3,4,5,6-Hexachlorocyclohexane",
        "Gammex",
        "Cyclohexane,2,3,4,5,6-hexachloro-, .delta.-isomer",
        "Hexachloride, Benzene",
        "alpha-HCH, certified reference material, TraceCERT(R)",
        "NSC 755895",
        "YM80ODM9PD",
        "KBio2_007600",
        "Hexicide",
        "DTXCID40196532",
        "Viton",
        "Cyclohexane, 1,2,3,4,5,6-hexachloro-, (1alpha,2alpha,3alpha,4beta,5alpha,6beta)-",
        "Aplidal",
        "CHEMBL2272381",
        "Tox21_300953",
        "MFCD00135947",
        "Nexol E",
        "Gammopaz",
        ".BETA.-HEXACHLORAN",
        "Benhexachlor",
        "HMS2091E05",
        "CAS-58-89-9",
        "Lindapoudre",
        "1,2,3,4,5,6-Hexachlorocyclohexane",
        "Cyclohexane, 1,2,3,4,5,6-hexachloro-, (1.alpha.,2.alpha.,3.beta.,4.alpha.,5.alpha.,6.beta.)-",
        "gamma-Benzohexachloride",
        "gamma-BHC",
        "Pedraczak",
        "BIDD:ER0449",
        "Cyclohexane, 1,2,3,4,5,6-hexachloro-, .delta.-",
        "NS00073947",
        "(+/-)-.ALPHA.-HCH",
        "(1alpha,2alpha,3beta,4beta,5alpha,6beta)-1,2,3,4,5,6-hexachlorocyclohexane",
        "SCHEMBL25896",
        ".alpha.-Lindane",
        "epsilon-Benzene hexachloride",
        "Sang gamma",
        "NSC8093",
        "gamma-Benzenehexachloride",
        ".EPSILON.-BHC",
        "Cyclohexane, 1,2,3,4,5,6-hexachloro-, (1alpha,2alpha,3alpha,4alpha,5beta,6beta)-",
        ".BETA.-BENZENE HEXACHLORIDE",
        "6108-10-7",
        ".epsilon.-Hexachlorocyclohexane",
        "Benzanex",
        "Cyclohexane,2,3,4,5,6-hexachloro-, (1.alpha.,2.alpha.,3.alpha.,4.beta.,5.alpha.,6.beta.)-",
        "Detox 25",
        "NCGC00094546-01",
        "NCGC00094546-10",
        "Hexachlor",
        "SPECTRUM330071",
        "(.+/-.)-.alpha.-Hexachlorocyclohexane",
        "MLS001335969",
        "gamma-Hexachlorocyclohexane [Lindane and other hexachlorocyclohexane isomers]",
        "BDBM50410525",
        "Gamma Benzene Hydrochloride",
        "KBio1_000701",
        "BRN 1907334",
        "1,2,3,4,5,6-hexachloro-cyclohexane",
        "(1r,2R,3S,4s,5R,6S)-1,2,3,4,5,6-hexachlorocyclohexane",
        "Cyclohexane, 1,2,3,4,5,6-hexachloro-, .alpha.-isomer",
        "Hexachlorocyclohexane, alpha-",
        "Benzene hexachloride-alpha-isomer",
        "alpha-BHC",
        "delta-Benzenehexachloride",
        "HY-A0085",
        "1a,2a,3b,4a,5b,6b-Hexachlorocyclohexane",
        "NCGC00094546-09",
        "eta-Hexachlorocyclohexane",
        "Nexol-E",
        "DivK1c_000701",
        ".EPSILON.-1,2,3,4,5,6-HEXACHLOROCYCLOHEXANE",
        "Hexachlorocyclohexane (q-isomer)",
        "delta -BHC",
        "Cyclohexane, 1,2,3,4,5,6-hexachloro-, gamma-",
        "1alpha,2alpha,3beta,4alpha,5beta,6beta-Hexachlorocyclohexane",
        "Aalindan",
        "EINECS 200-401-2",
        "GAMMA BENZENE HEXACHLORIDE [WHO-IP]",
        "Scabecid",
        "Nicochloran",
        "Lindagranox",
        "319-84-6",
        "Hexyclan",
        "SR-05000001837-1",
        "HMS3369J21",
        "gamma-Hexachlorobenzene",
        "NCGC00159386-03",
        "Atlas steward",
        "6108-12-9",
        "Streunex",
        "319-86-8",
        "Gammalin",
        "1,2,3,4,5,6-Hexachlorocyclohexane, gamma-isomer",
        ".gamma.-Hexachloran",
        ".gamma.-Benzohexachloride",
        "Ben-Hex",
        "CHEBI:39096",
        "NCGC00259326-01",
        ".alpha.-Hexachlorcyclohexane",
        "Benzene hexachloride-gamma isomer",
        "delta-BHC",
        "D00360",
        "Gamaphex",
        "t-HCH",
        "gamma-HCH 100 microg/mL in Cyclohexane",
        "Cyclohexane, 1,2,3,4,5,6-hexachloro-, .alpha.-",
        "NCGC00163943-06",
        "IDI1_000701",
        "Hexablanc",
        ".gamma.-HCH",
        "Hexachlorocyclohexane (all isomers)",
        "Aphtiria",
        "SMR000857321",
        "NSC755895",
        "EINECS 210-168-9",
        "theta-HCH",
        ".alpha.-Hexachlorocyclohexane",
        "Gamacid",
        "alpha-Hexachloran",
        "917-697-0",
        ".delta.-Hexachlorocyclohexane",
        "delta-HCH",
        "Cyclohexane, delta-1,2,3,4,5,6-hexachloro-",
        "Spritzlindane",
        "1-alpha,2-beta,3-alpha,4-beta,5-alpha,6-beta-Hexachlorocyclohexane",
        "EN300-7480879",
        "Esoderm",
        "Tox21_300624",
        "NCGC00357135-01",
        "MSK20021",
        "alpha-HCH 1000 microg/mL in Toluene",
        "Nexit-stark",
        "d-BHC",
        "AAA31984",
        "MLS001335970",
        "HCH",
        "beta-HCH [Hexachlorocyclohexanes]",
        "BIDD:ER0091",
        ".BETA.-HCH",
        "FL164923",
        "Aphtitria",
        "CCRIS 327",
        "EINECS 206-271-3",
        "LINDANE [ORANGE BOOK]",
        "BRN 1907338",
        "AKOS015903494",
        "EPA Pesticide Chemical Code 009001",
        "Spectrum4_000700"
       ],
       "description": "Name:",
       "index": 0,
       "layout": "IPY_MODEL_be17e35cb05c4a60a6fe9f89d4c1ac73",
       "style": "IPY_MODEL_2e82035734f4481d872f0ad77744424d"
      }
     },
     "7970b43bf4144bdfb29d4b6a23334b82": {
      "model_module": "@jupyter-widgets/controls",
      "model_module_version": "2.0.0",
      "model_name": "FloatSliderModel",
      "state": {
       "behavior": "drag-tap",
       "continuous_update": false,
       "description": "log10(D) with D in m²/s - doffisvity in the first layer",
       "layout": "IPY_MODEL_63b5f6d1ffb5435786f31f044fc66136",
       "max": -10,
       "min": -21,
       "step": 0.2,
       "style": "IPY_MODEL_565b4c487dbb44858bca1cc1ed477968",
       "value": -15
      }
     },
     "79d79e2e57cc46a7a9f6866fb4a6039c": {
      "model_module": "@jupyter-widgets/base",
      "model_module_version": "2.0.0",
      "model_name": "LayoutModel",
      "state": {}
     },
     "7bc6f847a7cf4fbda9b105a9b16f4b15": {
      "model_module": "@jupyter-widgets/controls",
      "model_module_version": "2.0.0",
      "model_name": "HTMLStyleModel",
      "state": {
       "description_width": "",
       "font_size": null,
       "text_color": null
      }
     },
     "7c1004af371f453682f2eecb3759ed39": {
      "model_module": "@jupyter-widgets/controls",
      "model_module_version": "2.0.0",
      "model_name": "LabelStyleModel",
      "state": {
       "description_width": "",
       "font_family": null,
       "font_size": null,
       "font_style": null,
       "font_variant": null,
       "font_weight": null,
       "text_color": null,
       "text_decoration": null
      }
     },
     "7d3b006d9b464536a38470200f90c5a8": {
      "model_module": "@jupyter-widgets/controls",
      "model_module_version": "2.0.0",
      "model_name": "DropdownModel",
      "state": {
       "_options_labels": [
        "mig1"
       ],
       "description": "Sim:",
       "index": 0,
       "layout": "IPY_MODEL_505d76520b664d0b9272b3d554c40524",
       "style": "IPY_MODEL_6da9a46312dd4b29a9f365bcd2fe87df"
      }
     },
     "7d79fd659c3740a18043b468ca7f1973": {
      "model_module": "@jupyter-widgets/base",
      "model_module_version": "2.0.0",
      "model_name": "LayoutModel",
      "state": {}
     },
     "7daab7209e0247edbf303936f65b7c1d": {
      "model_module": "@jupyter-widgets/controls",
      "model_module_version": "2.0.0",
      "model_name": "HBoxModel",
      "state": {
       "children": [
        "IPY_MODEL_537adb512ad3411c9d889eccb840ac93",
        "IPY_MODEL_2176cabb2d4947e1aa58b0712d12867d"
       ],
       "layout": "IPY_MODEL_2c14fb365b3a40658cf43e6daccb64be"
      }
     },
     "7e04e306360c457e85522683dc586741": {
      "model_module": "@jupyter-widgets/controls",
      "model_module_version": "2.0.0",
      "model_name": "TextareaModel",
      "state": {
       "_dom_classes": [
        "no-resize"
       ],
       "disabled": true,
       "layout": "IPY_MODEL_61b169af957441bcac4835f4381df353",
       "style": "IPY_MODEL_33ea4b9aa36c4f1b8fdc2368062ddd71",
       "value": "SMILES: C1(C(C(C(C(C1Cl)Cl)Cl)Cl)Cl)Cl"
      }
     },
     "7e33b80a280446d18d97e6f1e89558d9": {
      "model_module": "@jupyter-widgets/base",
      "model_module_version": "2.0.0",
      "model_name": "LayoutModel",
      "state": {}
     },
     "7e66bc2d00d0404f80174dc8ce56f561": {
      "model_module": "@jupyter-widgets/controls",
      "model_module_version": "2.0.0",
      "model_name": "VBoxModel",
      "state": {
       "children": [
        "IPY_MODEL_e57914b091f94e54b8f5ae7b1ee0ddd8",
        "IPY_MODEL_2b3ac79674404c48bdcd7149548a4773",
        "IPY_MODEL_42e500a2c68c4f38b3944e266fe19e30"
       ],
       "layout": "IPY_MODEL_d4dd1362cbef4280bc1b852fa809881c"
      }
     },
     "7f3accd88cb247af80a17d9c1457e230": {
      "model_module": "@jupyter-widgets/base",
      "model_module_version": "2.0.0",
      "model_name": "LayoutModel",
      "state": {}
     },
     "7fc03fb9be3346b3bdf109c941b05de9": {
      "model_module": "@jupyter-widgets/controls",
      "model_module_version": "2.0.0",
      "model_name": "DescriptionStyleModel",
      "state": {
       "description_width": ""
      }
     },
     "8084c65290944f3db77a16c7892a6649": {
      "model_module": "@jupyter-widgets/controls",
      "model_module_version": "2.0.0",
      "model_name": "CheckboxModel",
      "state": {
       "description": "Plot SML",
       "disabled": false,
       "layout": "IPY_MODEL_bb72a9e5dced41fda7a3fe2ff4996776",
       "style": "IPY_MODEL_d44ecde48e78420983d8528b25322ba9",
       "value": true
      }
     },
     "816549a3dd84489189fa174adb850780": {
      "model_module": "@jupyter-widgets/controls",
      "model_module_version": "2.0.0",
      "model_name": "ButtonModel",
      "state": {
       "button_style": "success",
       "description": "Instantiate Substance",
       "layout": "IPY_MODEL_4ee5c3eb7c944471a721dfff14333cc4",
       "style": "IPY_MODEL_8f381955e124440ea751333195094b6a",
       "tooltip": null
      }
     },
     "82e9e1efe9874ac7b9d0434b126a256b": {
      "model_module": "@jupyter-widgets/base",
      "model_module_version": "2.0.0",
      "model_name": "LayoutModel",
      "state": {
       "width": "600px"
      }
     },
     "83b222290ada455a891bcea62c6a1147": {
      "model_module": "@jupyter-widgets/controls",
      "model_module_version": "2.0.0",
      "model_name": "HBoxModel",
      "state": {
       "children": [
        "IPY_MODEL_4e6b94995db94149be06aff55d536862",
        "IPY_MODEL_ef6348feb4954a159349c9f52265e604",
        "IPY_MODEL_380664d0f3c3422c929a5dfedff26462",
        "IPY_MODEL_e8a9384b853e4a78b30ae59d12a456cc",
        "IPY_MODEL_5a0e848b84f34a3bb944101ec18f072a",
        "IPY_MODEL_65ea1e86868948ad997ae6b07ff458ee",
        "IPY_MODEL_62b09a51c7ef46c9a9eb982fcdc6a25d"
       ],
       "layout": "IPY_MODEL_29a392ecfc914d379b18cf407664738d"
      }
     },
     "85715e7eab954074ab381eca0cf690b8": {
      "model_module": "@jupyter-widgets/controls",
      "model_module_version": "2.0.0",
      "model_name": "DescriptionStyleModel",
      "state": {
       "description_width": ""
      }
     },
     "867b18a7dd3846e0af79995d08f1ef43": {
      "model_module": "@jupyter-widgets/base",
      "model_module_version": "2.0.0",
      "model_name": "LayoutModel",
      "state": {}
     },
     "868f9e2b30cc4bc6ada593bb0764705a": {
      "model_module": "@jupyter-widgets/controls",
      "model_module_version": "2.0.0",
      "model_name": "VBoxModel",
      "state": {
       "children": [
        "IPY_MODEL_2209167273b74fe48f2f44080c3ba9d4",
        "IPY_MODEL_a1100a628c2b4b9d821c4819b9749f9e",
        "IPY_MODEL_0f52b5a421fb441b9c83930ab70730ff",
        "IPY_MODEL_67916cd6631e4a98b8bf539b061c88fc",
        "IPY_MODEL_dae54e482aea4b3b9102bcb17935fc14"
       ],
       "layout": "IPY_MODEL_c59577b56268419ebeb5b17e5c59bd0d"
      }
     },
     "8738dfd8114049c491f73db2d97eb037": {
      "model_module": "@jupyter-widgets/base",
      "model_module_version": "2.0.0",
      "model_name": "LayoutModel",
      "state": {}
     },
     "8743d0a0a51742a19e531ef04c81e565": {
      "model_module": "@jupyter-widgets/base",
      "model_module_version": "2.0.0",
      "model_name": "LayoutModel",
      "state": {}
     },
     "87a36f3a132b468393e5d5fe38b35940": {
      "model_module": "@jupyter-widgets/controls",
      "model_module_version": "2.0.0",
      "model_name": "ButtonModel",
      "state": {
       "icon": "arrow-left",
       "layout": "IPY_MODEL_b90547b525654821a0c66710c5b60f70",
       "style": "IPY_MODEL_5c9710f04ef0452983353b8706d71ec2",
       "tooltip": null
      }
     },
     "889fb0ff92f6432f9b39c4fb827e6dc9": {
      "model_module": "@jupyter-widgets/controls",
      "model_module_version": "2.0.0",
      "model_name": "VBoxModel",
      "state": {
       "children": [
        "IPY_MODEL_37d9caaf522a4e4d88f19bb20cbcb32c",
        "IPY_MODEL_7e66bc2d00d0404f80174dc8ce56f561",
        "IPY_MODEL_4756c39909814021842039a8584dc4ca",
        "IPY_MODEL_5538a65de12b4e3fa85404fd84f630cf",
        "IPY_MODEL_cb413a81c1de47d7a6455bc8ab069289",
        "IPY_MODEL_5ad50f67554047828c5e6d3a7292f299",
        "IPY_MODEL_4d860b7ba9064874a21155bc65ec3472",
        "IPY_MODEL_c217d829fe63449799b0575d8e02b06a"
       ],
       "layout": "IPY_MODEL_e31630a0e42941c09dde4ce59047bc67"
      }
     },
     "8a8b66f48cb9432db54f1ca23ad537b0": {
      "model_module": "@jupyter-widgets/controls",
      "model_module_version": "2.0.0",
      "model_name": "DropdownModel",
      "state": {
       "_options_labels": [
        "s",
        "min",
        "h",
        "days",
        "months",
        "years"
       ],
       "description": "Time Unit:",
       "index": 3,
       "layout": "IPY_MODEL_6315e82b5f494c0c9f866d2e1544b893",
       "style": "IPY_MODEL_faecdc76e55e4652ac7b43b4d8ea96f7"
      }
     },
     "8b95fff878284e8494c679b46423e8fd": {
      "model_module": "@jupyter-widgets/base",
      "model_module_version": "2.0.0",
      "model_name": "LayoutModel",
      "state": {}
     },
     "8c30838cc6064f20bccf4de0e3210560": {
      "model_module": "@jupyter-widgets/base",
      "model_module_version": "2.0.0",
      "model_name": "LayoutModel",
      "state": {
       "width": "50%"
      }
     },
     "8c56eb5e98a342d2ad43555c7d9d1fca": {
      "model_module": "@jupyter-widgets/controls",
      "model_module_version": "2.0.0",
      "model_name": "HTMLStyleModel",
      "state": {
       "description_width": "",
       "font_size": null,
       "text_color": null
      }
     },
     "8daec3777351415bb1318027b5a94dbb": {
      "model_module": "@jupyter-widgets/controls",
      "model_module_version": "2.0.0",
      "model_name": "DescriptionStyleModel",
      "state": {
       "description_width": ""
      }
     },
     "8e1ce155c8c947cc9a05cdf4877d61f6": {
      "model_module": "@jupyter-widgets/base",
      "model_module_version": "2.0.0",
      "model_name": "LayoutModel",
      "state": {}
     },
     "8e89841f54204b79b972ff0d765a3538": {
      "model_module": "@jupyter-widgets/controls",
      "model_module_version": "2.0.0",
      "model_name": "DropdownModel",
      "state": {
       "_options_labels": [
        "degC",
        "K"
       ],
       "description": "Temp Unit:",
       "index": 0,
       "layout": "IPY_MODEL_2969d399c30b435b9e2222a1103fbb31",
       "style": "IPY_MODEL_65b09380fc1b4fe0b552b34c07db9805"
      }
     },
     "8f381955e124440ea751333195094b6a": {
      "model_module": "@jupyter-widgets/controls",
      "model_module_version": "2.0.0",
      "model_name": "ButtonStyleModel",
      "state": {
       "font_family": null,
       "font_size": null,
       "font_style": null,
       "font_variant": null,
       "font_weight": null,
       "text_color": null,
       "text_decoration": null
      }
     },
     "8f881391e3774f72a6e1c497328a8c83": {
      "model_module": "@jupyter-widgets/controls",
      "model_module_version": "2.0.0",
      "model_name": "IntSliderModel",
      "state": {
       "behavior": "drag-tap",
       "continuous_update": false,
       "description": "nmax:",
       "layout": "IPY_MODEL_90a7517e50954824bc04d7364d58d59c",
       "max": 30,
       "min": 5,
       "style": "IPY_MODEL_719a4d3a18684871a762fb9581b8b22c",
       "value": 15
      }
     },
     "90a7517e50954824bc04d7364d58d59c": {
      "model_module": "@jupyter-widgets/base",
      "model_module_version": "2.0.0",
      "model_name": "LayoutModel",
      "state": {
       "width": "200px"
      }
     },
     "926d5ce15405419cb0ff34441d00a5c6": {
      "model_module": "@jupyter-widgets/controls",
      "model_module_version": "2.0.0",
      "model_name": "ButtonStyleModel",
      "state": {
       "font_family": null,
       "font_size": null,
       "font_style": null,
       "font_variant": null,
       "font_weight": null,
       "text_color": null,
       "text_decoration": null
      }
     },
     "94515029cafc41c698ec3f5fcbf1450d": {
      "model_module": "@jupyter-widgets/controls",
      "model_module_version": "2.0.0",
      "model_name": "HBoxModel",
      "state": {
       "children": [
        "IPY_MODEL_ae231850810a436682442b8057114edb",
        "IPY_MODEL_d454b5424d434609bd35ec4f6220eca7"
       ],
       "layout": "IPY_MODEL_e066bb17e35a423780f1404dbc7ad48e"
      }
     },
     "954e8dd9d24049da9cba71e9621747e0": {
      "model_module": "@jupyter-widgets/base",
      "model_module_version": "2.0.0",
      "model_name": "LayoutModel",
      "state": {
       "width": "45%"
      }
     },
     "9588c5761ce1431ca142cafb47bb38c1": {
      "model_module": "@jupyter-widgets/controls",
      "model_module_version": "2.0.0",
      "model_name": "FloatTextModel",
      "state": {
       "description": "C0:",
       "layout": "IPY_MODEL_195a3bae51704e8aaaea0b2dd67ddf76",
       "step": null,
       "style": "IPY_MODEL_b9170e1cb5b34c5db5855a79d743b6c9",
       "value": 1000
      }
     },
     "962b1185acd4435c9eaeedfde289b3ee": {
      "model_module": "@jupyter-widgets/controls",
      "model_module_version": "2.0.0",
      "model_name": "DropdownModel",
      "state": {
       "_options_labels": [
        "ambient",
        "frozen",
        "chilled",
        "boiling",
        "pasteurization",
        "sterilization",
        "oven",
        "frying",
        "hotoven"
       ],
       "description": "Level 4:",
       "index": 0,
       "layout": "IPY_MODEL_676deb752e0245d592b57ed890f89c82",
       "style": "IPY_MODEL_e6c2ad0eda3245a787bcaec788466e23"
      }
     },
     "96e86004861a42f79892d225e95fb8b8": {
      "model_module": "@jupyter-widgets/base",
      "model_module_version": "2.0.0",
      "model_name": "LayoutModel",
      "state": {}
     },
     "9af9f2eabffd4ca6a93ff3b6dd0fa795": {
      "model_module": "@jupyter-widgets/controls",
      "model_module_version": "2.0.0",
      "model_name": "DescriptionStyleModel",
      "state": {
       "description_width": ""
      }
     },
     "9bb1fda4005b4dc582f41f2334dd1f07": {
      "model_module": "@jupyter-widgets/base",
      "model_module_version": "2.0.0",
      "model_name": "LayoutModel",
      "state": {}
     },
     "9c501f5fe2264986a571ebc0b7fef2ff": {
      "model_module": "@jupyter-widgets/controls",
      "model_module_version": "2.0.0",
      "model_name": "ButtonModel",
      "state": {
       "button_style": "primary",
       "description": "Search Substance",
       "layout": "IPY_MODEL_35801bc2fdb4407d929224685d775981",
       "style": "IPY_MODEL_a0f2cc076e2644d189b1a99c5623845e",
       "tooltip": null
      }
     },
     "9e1c3481093b4f06b872ed5f904b0c53": {
      "buffers": [
       {
        "data": "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",
        "encoding": "base64",
        "path": [
         "value"
        ]
       }
      ],
      "model_module": "@jupyter-widgets/controls",
      "model_module_version": "2.0.0",
      "model_name": "ImageModel",
      "state": {
       "height": "300",
       "layout": "IPY_MODEL_5790e7be164c4721a5bbeafa313e1281",
       "width": "261"
      }
     },
     "9e769534c0bf43e582a7cfa0559caa06": {
      "model_module": "@jupyter-widgets/controls",
      "model_module_version": "2.0.0",
      "model_name": "DropdownModel",
      "state": {
       "_options_labels": [
        "realfood",
        "simulant",
        "setoff",
        "stacked",
        "rolled",
        "nofood",
        "yogurt"
       ],
       "description": "Level 1:",
       "index": 0,
       "layout": "IPY_MODEL_057363af591b43ff90c5fa4e47df925a",
       "style": "IPY_MODEL_aaa653eb233c43bc8fbdd7f64fcaef84"
      }
     },
     "9eb9d808c5484dc8a7e4ccbfca7657ad": {
      "model_module": "@jupyter-widgets/base",
      "model_module_version": "2.0.0",
      "model_name": "LayoutModel",
      "state": {}
     },
     "a0510a1fd9d44a3aa5b9cf4c205b4f4a": {
      "model_module": "@jupyter-widgets/controls",
      "model_module_version": "2.0.0",
      "model_name": "DescriptionStyleModel",
      "state": {
       "description_width": ""
      }
     },
     "a0f2cc076e2644d189b1a99c5623845e": {
      "model_module": "@jupyter-widgets/controls",
      "model_module_version": "2.0.0",
      "model_name": "ButtonStyleModel",
      "state": {
       "font_family": null,
       "font_size": null,
       "font_style": null,
       "font_variant": null,
       "font_weight": null,
       "text_color": null,
       "text_decoration": null
      }
     },
     "a1100a628c2b4b9d821c4819b9749f9e": {
      "model_module": "@jupyter-widgets/controls",
      "model_module_version": "2.0.0",
      "model_name": "HBoxModel",
      "state": {
       "children": [
        "IPY_MODEL_755fa7c708ba4d6f99444152c5913d6f",
        "IPY_MODEL_8a8b66f48cb9432db54f1ca23ad537b0",
        "IPY_MODEL_b45d0893b6944d3c9faad41c0fdcb555",
        "IPY_MODEL_8e89841f54204b79b972ff0d765a3538"
       ],
       "layout": "IPY_MODEL_79d79e2e57cc46a7a9f6866fb4a6039c"
      }
     },
     "a113ec486c66494fb2d40068c17b8948": {
      "model_module": "@jupyter-widgets/controls",
      "model_module_version": "2.0.0",
      "model_name": "TextStyleModel",
      "state": {
       "description_width": "",
       "font_size": null,
       "text_color": null
      }
     },
     "a1620338614842ef8a00e5006cb92b6f": {
      "model_module": "@jupyter-widgets/output",
      "model_module_version": "1.0.0",
      "model_name": "OutputModel",
      "state": {
       "layout": "IPY_MODEL_6e7073c1466e41358139f486393c91c5",
       "outputs": [
        {
         "data": {
          "image/jpeg": "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",
          "image/png": "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",
          "text/plain": "<PIL.Image.Image image mode=RGB size=71x311>"
         },
         "metadata": {},
         "output_type": "display_data"
        }
       ]
      }
     },
     "a1935a7d172e4384a697405eefb0a3ca": {
      "model_module": "@jupyter-widgets/controls",
      "model_module_version": "2.0.0",
      "model_name": "HBoxModel",
      "state": {
       "children": [
        "IPY_MODEL_e215cdbe15bf482685cd57c2ee540664",
        "IPY_MODEL_1c7462348b7a4a7e8896fba4504c26de"
       ],
       "layout": "IPY_MODEL_b5359f57e6f941c28531a77be245b018"
      }
     },
     "a1b1630fce104a6c81bce607b603d27b": {
      "model_module": "@jupyter-widgets/base",
      "model_module_version": "2.0.0",
      "model_name": "LayoutModel",
      "state": {}
     },
     "a573e5172d914782940049b1e8c0e53b": {
      "model_module": "@jupyter-widgets/controls",
      "model_module_version": "2.0.0",
      "model_name": "SliderStyleModel",
      "state": {
       "description_width": ""
      }
     },
     "a5a76715e9a14710a11efede890e00f5": {
      "model_module": "@jupyter-widgets/output",
      "model_module_version": "1.0.0",
      "model_name": "OutputModel",
      "state": {
       "layout": "IPY_MODEL_2237a71eab984232ba1a3e6219e1460f",
       "outputs": [
        {
         "name": "stdout",
         "output_type": "stream",
         "text": "<migrantToxtree object>\n         Compound: 4-[1-(4-hydroxypheny [...] -methyl-ethyl]phenol\n             Name: 4-[2-(4-hydroxyphenyl)propan-2-yl]phenol\n              cid: 6623\n              CAS: 80-05-7\n          M (min): 228.29\n          M_array: [228.29]\n          formula: C15H16O2\n           smiles: CC(C)(C1=CC=C(C=C1)O)C2=CC=C(C=C2)O\n         InChiKey: IISBACLAFKSPIT-UHFFFAOYSA-N\n             logP: [3.3]\n        P' (calc): [0.]\n   --- EC 10/2011: ---------------\n              SML: 0.05 [mg/kg]\n       EC|FCM|REF: 201-245-8|151|1348013607\n      --- ToxTree: ---------------\n       Toxicology: High (Class III)\n              TTC: 30 [µg/kg bw/day]\n           CF TTC: 1.8 [mg/kg food intake]\n"
        },
        {
         "data": {
          "text/plain": "<migrantToxtree: AKOS000119022 - M=228.29 g/mol>"
         },
         "metadata": {},
         "output_type": "display_data"
        }
       ]
      }
     },
     "a60a28e4db1143248c38773c1c759b84": {
      "model_module": "@jupyter-widgets/base",
      "model_module_version": "2.0.0",
      "model_name": "LayoutModel",
      "state": {}
     },
     "a751a59a7be54482ac0eacc76c0f15bc": {
      "model_module": "@jupyter-widgets/controls",
      "model_module_version": "2.0.0",
      "model_name": "SliderStyleModel",
      "state": {
       "description_width": ""
      }
     },
     "a8ce0ae6638746859559ad49201f1e92": {
      "model_module": "@jupyter-widgets/base",
      "model_module_version": "2.0.0",
      "model_name": "LayoutModel",
      "state": {
       "width": "20%"
      }
     },
     "aa9f43359260425e93c71b5b6853407f": {
      "model_module": "@jupyter-widgets/controls",
      "model_module_version": "2.0.0",
      "model_name": "DropdownModel",
      "state": {
       "_options_labels": [
        "fat",
        "aqueous",
        "intermediate"
       ],
       "description": "Level 3:",
       "index": 0,
       "layout": "IPY_MODEL_b13aa28d850143ca94f1adb387c2d8fa",
       "style": "IPY_MODEL_f0d0e2967b26474481b5f1475b2b117b"
      }
     },
     "aaa653eb233c43bc8fbdd7f64fcaef84": {
      "model_module": "@jupyter-widgets/controls",
      "model_module_version": "2.0.0",
      "model_name": "DescriptionStyleModel",
      "state": {
       "description_width": ""
      }
     },
     "aaae995be5cc46ec8ed46ae64cd1fdc0": {
      "model_module": "@jupyter-widgets/controls",
      "model_module_version": "2.0.0",
      "model_name": "DescriptionStyleModel",
      "state": {
       "description_width": ""
      }
     },
     "acbd0be55f3d42ee894961f07e466230": {
      "model_module": "@jupyter-widgets/controls",
      "model_module_version": "2.0.0",
      "model_name": "VBoxModel",
      "state": {
       "_dom_classes": [
        "widget-interact"
       ],
       "children": [
        "IPY_MODEL_02bdf6e90b07437381b35390cba53522",
        "IPY_MODEL_e961dd94860f466b947e3f19b39e690e"
       ],
       "layout": "IPY_MODEL_ff350972e032485ab78f45803df010a6"
      }
     },
     "acdcfa73ff26444cbaa884e76d24621d": {
      "model_module": "@jupyter-widgets/base",
      "model_module_version": "2.0.0",
      "model_name": "LayoutModel",
      "state": {}
     },
     "ae231850810a436682442b8057114edb": {
      "model_module": "@jupyter-widgets/controls",
      "model_module_version": "2.0.0",
      "model_name": "TextModel",
      "state": {
       "description": "Filename:",
       "layout": "IPY_MODEL_6416015bc77b453b9bc6bd03bfc87fbf",
       "style": "IPY_MODEL_a113ec486c66494fb2d40068c17b8948",
       "value": "mig1"
      }
     },
     "b09609a65bde4e209f27809f3f551ef5": {
      "model_module": "@jupyter-widgets/base",
      "model_module_version": "2.0.0",
      "model_name": "LayoutModel",
      "state": {
       "width": "40%"
      }
     },
     "b13aa28d850143ca94f1adb387c2d8fa": {
      "model_module": "@jupyter-widgets/base",
      "model_module_version": "2.0.0",
      "model_name": "LayoutModel",
      "state": {}
     },
     "b18469ce907d431d98e4bfae3a31e751": {
      "model_module": "@jupyter-widgets/base",
      "model_module_version": "2.0.0",
      "model_name": "LayoutModel",
      "state": {
       "justify_content": "center"
      }
     },
     "b227b8a7dd4e4c4d8a3ce319f28d24dc": {
      "model_module": "@jupyter-widgets/controls",
      "model_module_version": "2.0.0",
      "model_name": "TextStyleModel",
      "state": {
       "description_width": "",
       "font_size": null,
       "text_color": null
      }
     },
     "b284662e471c45fe84c7607b5da91f0b": {
      "model_module": "@jupyter-widgets/controls",
      "model_module_version": "2.0.0",
      "model_name": "HBoxModel",
      "state": {
       "children": [
        "IPY_MODEL_9e1c3481093b4f06b872ed5f904b0c53"
       ],
       "layout": "IPY_MODEL_0b707d26181244c4b13e1c0924f5421e"
      }
     },
     "b2c79897131f456ca253dcfe8ec5d962": {
      "model_module": "@jupyter-widgets/base",
      "model_module_version": "2.0.0",
      "model_name": "LayoutModel",
      "state": {
       "width": "200px"
      }
     },
     "b2da92eebeb642609fbd7998b2aad6c8": {
      "model_module": "@jupyter-widgets/base",
      "model_module_version": "2.0.0",
      "model_name": "LayoutModel",
      "state": {
       "width": "30%"
      }
     },
     "b34f71c7c0474b83bde48fa255e05976": {
      "model_module": "@jupyter-widgets/base",
      "model_module_version": "2.0.0",
      "model_name": "LayoutModel",
      "state": {}
     },
     "b45d0893b6944d3c9faad41c0fdcb555": {
      "model_module": "@jupyter-widgets/controls",
      "model_module_version": "2.0.0",
      "model_name": "FloatTextModel",
      "state": {
       "description": "Contact Temp:",
       "layout": "IPY_MODEL_fdfca00830574a8dab462c6376466a37",
       "step": null,
       "style": "IPY_MODEL_2b1e2d3883974c1e8b852a3005b85987",
       "value": 25
      }
     },
     "b49fc2998a614def92bc6674a1aecc79": {
      "model_module": "@jupyter-widgets/controls",
      "model_module_version": "2.0.0",
      "model_name": "VBoxModel",
      "state": {
       "_dom_classes": [
        "widget-interact"
       ],
       "children": [
        "IPY_MODEL_7970b43bf4144bdfb29d4b6a23334b82",
        "IPY_MODEL_cad3ed91c58f43a88fac6485b0ee01b2",
        "IPY_MODEL_d97911172d7e47039088b28658408dc9"
       ],
       "layout": "IPY_MODEL_8743d0a0a51742a19e531ef04c81e565"
      }
     },
     "b5359f57e6f941c28531a77be245b018": {
      "model_module": "@jupyter-widgets/base",
      "model_module_version": "2.0.0",
      "model_name": "LayoutModel",
      "state": {}
     },
     "b755642b51764637845e5b314b817d3d": {
      "model_module": "@jupyter-widgets/base",
      "model_module_version": "2.0.0",
      "model_name": "LayoutModel",
      "state": {
       "width": "400px"
      }
     },
     "b79aec8a04264e5f9b70376921275f29": {
      "model_module": "@jupyter-widgets/controls",
      "model_module_version": "2.0.0",
      "model_name": "DescriptionStyleModel",
      "state": {
       "description_width": ""
      }
     },
     "b7d06b787de94270b3f0943606e5a170": {
      "model_module": "@jupyter-widgets/controls",
      "model_module_version": "2.0.0",
      "model_name": "ButtonModel",
      "state": {
       "button_style": "info",
       "description": "Plot CF",
       "layout": "IPY_MODEL_3d7348ffd90043858dcdea5e067821e9",
       "style": "IPY_MODEL_6afebade823f47a4afa0ee787d059e3d",
       "tooltip": null
      }
     },
     "b8e552bbda504ce8818e41f043c258de": {
      "model_module": "@jupyter-widgets/base",
      "model_module_version": "2.0.0",
      "model_name": "LayoutModel",
      "state": {
       "width": "50%"
      }
     },
     "b90547b525654821a0c66710c5b60f70": {
      "model_module": "@jupyter-widgets/base",
      "model_module_version": "2.0.0",
      "model_name": "LayoutModel",
      "state": {}
     },
     "b9170e1cb5b34c5db5855a79d743b6c9": {
      "model_module": "@jupyter-widgets/controls",
      "model_module_version": "2.0.0",
      "model_name": "DescriptionStyleModel",
      "state": {
       "description_width": ""
      }
     },
     "b9350779210b4bd58d5355f78e77dd7f": {
      "model_module": "@jupyter-widgets/controls",
      "model_module_version": "2.0.0",
      "model_name": "ButtonModel",
      "state": {
       "button_style": "warning",
       "description": "Save CF",
       "layout": "IPY_MODEL_fef7033be0be447786a7377ee36e3529",
       "style": "IPY_MODEL_26baa0be39074a17a91c1fd52529d34a",
       "tooltip": null
      }
     },
     "ba2c4b8eec4f4373828c3f8218c6b838": {
      "model_module": "@jupyter-widgets/base",
      "model_module_version": "2.0.0",
      "model_name": "LayoutModel",
      "state": {}
     },
     "bb72a9e5dced41fda7a3fe2ff4996776": {
      "model_module": "@jupyter-widgets/base",
      "model_module_version": "2.0.0",
      "model_name": "LayoutModel",
      "state": {}
     },
     "bba6931f6a8c4193856f75bf84c28a2c": {
      "model_module": "@jupyter-widgets/controls",
      "model_module_version": "2.0.0",
      "model_name": "ButtonStyleModel",
      "state": {
       "font_family": null,
       "font_size": null,
       "font_style": null,
       "font_variant": null,
       "font_weight": null,
       "text_color": null,
       "text_decoration": null
      }
     },
     "be036f3335e346318570afbaa7988a4f": {
      "model_module": "@jupyter-widgets/controls",
      "model_module_version": "2.0.0",
      "model_name": "DropdownModel",
      "state": {
       "_options_labels": [
        "µm",
        "mm",
        "cm",
        "dm",
        "in"
       ],
       "description": "Unit:",
       "index": 2,
       "layout": "IPY_MODEL_6fe9220d054e48518920f6d811765648",
       "style": "IPY_MODEL_c175a63f2d1d4cceaafcb79af1c215d4"
      }
     },
     "be17e35cb05c4a60a6fe9f89d4c1ac73": {
      "model_module": "@jupyter-widgets/base",
      "model_module_version": "2.0.0",
      "model_name": "LayoutModel",
      "state": {
       "width": "60%"
      }
     },
     "be4076b212f840469fed82ba5d34d8b7": {
      "model_module": "@jupyter-widgets/output",
      "model_module_version": "1.0.0",
      "model_name": "OutputModel",
      "state": {
       "layout": "IPY_MODEL_e0560ca03ace438ca02a854b7841133a",
       "outputs": [
        {
         "name": "stdout",
         "output_type": "stream",
         "text": "Packaging instance 'shape1' created:\n<Packaging3D: cylinder>\nVolume: 0.0003927 m³, Surface Area: 0.03142 m²\n\nCurrent packaging instances: ['shape1']\n"
        }
       ]
      }
     },
     "bf7f7d4c8dd54a279f4d7b05d72a43d2": {
      "model_module": "@jupyter-widgets/base",
      "model_module_version": "2.0.0",
      "model_name": "LayoutModel",
      "state": {
       "width": "300px"
      }
     },
     "c05b6efb439640a494ecefeac7c466bf": {
      "model_module": "@jupyter-widgets/base",
      "model_module_version": "2.0.0",
      "model_name": "LayoutModel",
      "state": {}
     },
     "c0f5ee4e84374dd4bb1cd3f05ce2c802": {
      "model_module": "@jupyter-widgets/controls",
      "model_module_version": "2.0.0",
      "model_name": "FloatTextModel",
      "state": {
       "description": "t_min:",
       "layout": "IPY_MODEL_50ffaf519f114211aa33015c9403e583",
       "step": null,
       "style": "IPY_MODEL_2b2d9d58890040dc8da2da9858f52475"
      }
     },
     "c175a63f2d1d4cceaafcb79af1c215d4": {
      "model_module": "@jupyter-widgets/controls",
      "model_module_version": "2.0.0",
      "model_name": "DescriptionStyleModel",
      "state": {
       "description_width": ""
      }
     },
     "c196c8bd23324475ba66ed5f2d79e11b": {
      "model_module": "@jupyter-widgets/base",
      "model_module_version": "2.0.0",
      "model_name": "LayoutModel",
      "state": {}
     },
     "c1c5b29fd3e14d5c86daff2aea28e7a4": {
      "model_module": "@jupyter-widgets/controls",
      "model_module_version": "2.0.0",
      "model_name": "ButtonModel",
      "state": {
       "button_style": "success",
       "description": "Create Packaging",
       "layout": "IPY_MODEL_5bc466cada6d4bc4a863a7c52cf2ca06",
       "style": "IPY_MODEL_c69164817ed44c3f85627f820f16f5e3",
       "tooltip": "Click to create Packaging3D instance"
      }
     },
     "c217d829fe63449799b0575d8e02b06a": {
      "model_module": "@jupyter-widgets/controls",
      "model_module_version": "2.0.0",
      "model_name": "VBoxModel",
      "state": {
       "children": [
        "IPY_MODEL_c34681fd551140a781d380d23907fef5",
        "IPY_MODEL_94515029cafc41c698ec3f5fcbf1450d",
        "IPY_MODEL_086659518338499da869b5be30db713a",
        "IPY_MODEL_077ac625ba934410b8bf38c928669d3c"
       ],
       "layout": "IPY_MODEL_5bfa9f83b07248edb61073119d0efacb"
      }
     },
     "c34681fd551140a781d380d23907fef5": {
      "model_module": "@jupyter-widgets/controls",
      "model_module_version": "2.0.0",
      "model_name": "HTMLModel",
      "state": {
       "layout": "IPY_MODEL_7095fd6ac9564abeb4044f9b11b9e64a",
       "style": "IPY_MODEL_2d8e2b23510244c7a2e4f88526929533",
       "value": "<h4>Save Simulation Data</h4>"
      }
     },
     "c4a742ce201b45428fb583a763ea3edb": {
      "model_module": "@jupyter-widgets/base",
      "model_module_version": "2.0.0",
      "model_name": "LayoutModel",
      "state": {
       "width": "50%"
      }
     },
     "c506509ef2914355ad57d985e1f72a5c": {
      "model_module": "@jupyter-widgets/base",
      "model_module_version": "2.0.0",
      "model_name": "LayoutModel",
      "state": {}
     },
     "c59577b56268419ebeb5b17e5c59bd0d": {
      "model_module": "@jupyter-widgets/base",
      "model_module_version": "2.0.0",
      "model_name": "LayoutModel",
      "state": {}
     },
     "c69164817ed44c3f85627f820f16f5e3": {
      "model_module": "@jupyter-widgets/controls",
      "model_module_version": "2.0.0",
      "model_name": "ButtonStyleModel",
      "state": {
       "font_family": null,
       "font_size": null,
       "font_style": null,
       "font_variant": null,
       "font_weight": null,
       "text_color": null,
       "text_decoration": null
      }
     },
     "c886fea6eb0a4308bca3af38b7cf45d5": {
      "model_module": "@jupyter-widgets/base",
      "model_module_version": "2.0.0",
      "model_name": "LayoutModel",
      "state": {}
     },
     "c8e1b40579774ff18b9efecbee6a865b": {
      "model_module": "@jupyter-widgets/controls",
      "model_module_version": "2.0.0",
      "model_name": "ButtonModel",
      "state": {
       "description": "Back",
       "layout": "IPY_MODEL_48c3a16063db4b81bf91ccfd6a90a76e",
       "style": "IPY_MODEL_770df206dc9b4695bf71261cbe4fb415",
       "tooltip": null
      }
     },
     "cad3ed91c58f43a88fac6485b0ee01b2": {
      "model_module": "@jupyter-widgets/controls",
      "model_module_version": "2.0.0",
      "model_name": "FloatSliderModel",
      "state": {
       "behavior": "drag-tap",
       "continuous_update": false,
       "description": "log10(k) with k in a.u. (k/k0)=Food-to-pack partition coefficient",
       "layout": "IPY_MODEL_82e9e1efe9874ac7b9d0434b126a256b",
       "max": 4,
       "min": -4,
       "step": 0.2,
       "style": "IPY_MODEL_33663ec28d9e473fa3e84c288751eeb6"
      }
     },
     "cb413a81c1de47d7a6455bc8ab069289": {
      "model_module": "@jupyter-widgets/controls",
      "model_module_version": "2.0.0",
      "model_name": "HTMLModel",
      "state": {
       "layout": "IPY_MODEL_73293c0b5dfe48138ea264f4c8797d9c",
       "style": "IPY_MODEL_8c56eb5e98a342d2ad43555c7d9d1fca",
       "value": "<hr>"
      }
     },
     "cc4021d3f3764924aa91e834d16128ce": {
      "model_module": "@jupyter-widgets/output",
      "model_module_version": "1.0.0",
      "model_name": "OutputModel",
      "state": {
       "layout": "IPY_MODEL_a1b1630fce104a6c81bce607b603d27b",
       "outputs": [
        {
         "name": "stdout",
         "output_type": "stream",
         "text": "⚠️Warning: No 🇪🇺10/2011/EC record found for PubChem cid 727.\n"
        }
       ]
      }
     },
     "cc411d8896a44e69863cd5089c3eac7c": {
      "model_module": "@jupyter-widgets/controls",
      "model_module_version": "2.0.0",
      "model_name": "TextModel",
      "state": {
       "description": "Sim Name:",
       "layout": "IPY_MODEL_bf7f7d4c8dd54a279f4d7b05d72a43d2",
       "style": "IPY_MODEL_57882d9fd40c4a6dbc6cb0d4f64b7e17",
       "value": "mig1"
      }
     },
     "cc5b70a4645f48a391d4f74722687afa": {
      "model_module": "@jupyter-widgets/controls",
      "model_module_version": "2.0.0",
      "model_name": "HTMLModel",
      "state": {
       "layout": "IPY_MODEL_26a775aee0f243a9a628d235ffb040cd",
       "style": "IPY_MODEL_1b3e859d93f14c6a89c9f585f2698399",
       "value": "CAS: <b>['319-85-7', '119911-69-2', '6108-11-8', '319-86-8', '6108-12-9', '58-89-9', '55963-79-6', '6108-10-7', '6108-13-0', '319-84-6', '608-73-1']</b>"
      }
     },
     "cd326eda2a9d458ba13be6bdcb5ed939": {
      "model_module": "@jupyter-widgets/controls",
      "model_module_version": "2.0.0",
      "model_name": "DescriptionStyleModel",
      "state": {
       "description_width": ""
      }
     },
     "cd4d37236b4e4c86b0b17d885b123b54": {
      "model_module": "@jupyter-widgets/controls",
      "model_module_version": "2.0.0",
      "model_name": "ButtonStyleModel",
      "state": {
       "font_family": null,
       "font_size": null,
       "font_style": null,
       "font_variant": null,
       "font_weight": null,
       "text_color": null,
       "text_decoration": null
      }
     },
     "cdf1a0e09ab14239a4f2f31da4bd08c7": {
      "model_module": "@jupyter-widgets/base",
      "model_module_version": "2.0.0",
      "model_name": "LayoutModel",
      "state": {}
     },
     "cf0594c8cca64e9ea526342b11824c4e": {
      "model_module": "@jupyter-widgets/base",
      "model_module_version": "2.0.0",
      "model_name": "LayoutModel",
      "state": {}
     },
     "cf67d56dab2345308f25ddeea766f719": {
      "model_module": "@jupyter-widgets/controls",
      "model_module_version": "2.0.0",
      "model_name": "TextStyleModel",
      "state": {
       "description_width": "",
       "font_size": null,
       "text_color": null
      }
     },
     "d0f5f53c8db7462bae7b80804974e1e8": {
      "model_module": "@jupyter-widgets/controls",
      "model_module_version": "2.0.0",
      "model_name": "HTMLStyleModel",
      "state": {
       "description_width": "",
       "font_size": null,
       "text_color": null
      }
     },
     "d3260b824b364065af48afa1ac1cf0a6": {
      "model_module": "@jupyter-widgets/controls",
      "model_module_version": "2.0.0",
      "model_name": "HTMLModel",
      "state": {
       "layout": "IPY_MODEL_2cd5a644ed7f4c88978430ecd83e9c5e",
       "style": "IPY_MODEL_7bc6f847a7cf4fbda9b105a9b16f4b15",
       "value": "<b>Cylinder</b>: A standard cylinder with top and bottom faces.\nVolume = π r² h. Surface area includes top and bottom disks."
      }
     },
     "d3a35acc006e4573b71f1c3bb765bf69": {
      "model_module": "@jupyter-widgets/controls",
      "model_module_version": "2.0.0",
      "model_name": "ButtonStyleModel",
      "state": {
       "font_family": null,
       "font_size": null,
       "font_style": null,
       "font_variant": null,
       "font_weight": null,
       "text_color": null,
       "text_decoration": null
      }
     },
     "d3c3a2bee3894673849b1dc208a1551a": {
      "model_module": "@jupyter-widgets/base",
      "model_module_version": "2.0.0",
      "model_name": "LayoutModel",
      "state": {
       "display": "none"
      }
     },
     "d41c10a2f39e4212a158f9594aaa4f54": {
      "model_module": "@jupyter-widgets/base",
      "model_module_version": "2.0.0",
      "model_name": "LayoutModel",
      "state": {}
     },
     "d44ecde48e78420983d8528b25322ba9": {
      "model_module": "@jupyter-widgets/controls",
      "model_module_version": "2.0.0",
      "model_name": "CheckboxStyleModel",
      "state": {
       "description_width": ""
      }
     },
     "d454b5424d434609bd35ec4f6220eca7": {
      "model_module": "@jupyter-widgets/controls",
      "model_module_version": "2.0.0",
      "model_name": "TextModel",
      "state": {
       "description": "Destination:",
       "layout": "IPY_MODEL_b755642b51764637845e5b314b817d3d",
       "style": "IPY_MODEL_177c6573577b44f3a51384aa67a8d77a",
       "value": "/home/olivi/natacha/python/notebooks"
      }
     },
     "d4dd1362cbef4280bc1b852fa809881c": {
      "model_module": "@jupyter-widgets/base",
      "model_module_version": "2.0.0",
      "model_name": "LayoutModel",
      "state": {}
     },
     "d637e5114e4a4e719f897555dd52d7ea": {
      "model_module": "@jupyter-widgets/base",
      "model_module_version": "2.0.0",
      "model_name": "LayoutModel",
      "state": {}
     },
     "d6901dbce7224aa9a9e56e40d9c4caa6": {
      "model_module": "@jupyter-widgets/controls",
      "model_module_version": "2.0.0",
      "model_name": "DescriptionStyleModel",
      "state": {
       "description_width": ""
      }
     },
     "d6ff9851c6994a3ca35f382d97da7e76": {
      "model_module": "@jupyter-widgets/controls",
      "model_module_version": "2.0.0",
      "model_name": "VBoxModel",
      "state": {
       "children": [
        "IPY_MODEL_365bda008114410985623972eba3326c",
        "IPY_MODEL_2a7a8154709849548b0e6e05cce9383b",
        "IPY_MODEL_191519ab97d1468c9152553ec1620352",
        "IPY_MODEL_1871a1209aa14925a515da470c70dd7f",
        "IPY_MODEL_6bd2a72f7cb1492d8d39dacbec23a027",
        "IPY_MODEL_5a76d13473d448caaa9b40da14c7c4ae"
       ],
       "layout": "IPY_MODEL_4053da0a4439468abea7bea7c19976ff"
      }
     },
     "d73032258c784260831545a739ad1cd2": {
      "model_module": "@jupyter-widgets/output",
      "model_module_version": "1.0.0",
      "model_name": "OutputModel",
      "state": {
       "layout": "IPY_MODEL_dc634dead094416e9b6d9777ea3058b6",
       "outputs": [
        {
         "data": {
          "application/vnd.jupyter.widget-view+json": {
           "model_id": "37f1614a3c584695803603f4eb59aec0",
           "version_major": 2,
           "version_minor": 0
          },
          "text/plain": "HBox(children=(Output(), Output()))"
         },
         "metadata": {},
         "output_type": "display_data"
        }
       ]
      }
     },
     "d8989425c85b42e3ad099a98879e8331": {
      "model_module": "@jupyter-widgets/controls",
      "model_module_version": "2.0.0",
      "model_name": "HTMLStyleModel",
      "state": {
       "description_width": "",
       "font_size": null,
       "text_color": null
      }
     },
     "d954fb25d69f41debebab9fae266e038": {
      "model_module": "@jupyter-widgets/base",
      "model_module_version": "2.0.0",
      "model_name": "LayoutModel",
      "state": {}
     },
     "d97911172d7e47039088b28658408dc9": {
      "model_module": "@jupyter-widgets/output",
      "model_module_version": "1.0.0",
      "model_name": "OutputModel",
      "state": {
       "layout": "IPY_MODEL_f0cef2ff0af14194a82bdbe883625eea",
       "outputs": [
        {
         "data": {
          "image/png": "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",
          "text/plain": "<PrintableFigure size 800x600 with 1 Axes>"
         },
         "metadata": {},
         "output_type": "display_data"
        }
       ]
      }
     },
     "dae54e482aea4b3b9102bcb17935fc14": {
      "model_module": "@jupyter-widgets/output",
      "model_module_version": "1.0.0",
      "model_name": "OutputModel",
      "state": {
       "layout": "IPY_MODEL_104e60abccac4b06a54d7ca3d3f01d7d",
       "outputs": [
        {
         "name": "stdout",
         "output_type": "stream",
         "text": "Instantiated custom condition 'contact1':\n<CustomFood: generic food layer>\n\nCurrent conditions: ['contact1']\n"
        }
       ]
      }
     },
     "db257fceabca48afa1ad71918929146d": {
      "model_module": "@jupyter-widgets/base",
      "model_module_version": "2.0.0",
      "model_name": "LayoutModel",
      "state": {}
     },
     "dc634dead094416e9b6d9777ea3058b6": {
      "model_module": "@jupyter-widgets/base",
      "model_module_version": "2.0.0",
      "model_name": "LayoutModel",
      "state": {}
     },
     "dcb0c087c0f541e7bda03c882750f726": {
      "model_module": "@jupyter-widgets/controls",
      "model_module_version": "2.0.0",
      "model_name": "DropdownModel",
      "state": {
       "_options_labels": [
        "HDPE: High-Density Polyethylene",
        "HIPS: High-Impact Polystyrene",
        "LDPE: Low-Density Polyethylene",
        "LLDPE: Linear Low-Density Polyethylene",
        "PA6: Polyamide 6",
        "PA66: Polyamide 6,6",
        "PBT: Polybutylene Terephthalate",
        "PEN: Polyethylene Naphthalate",
        "PMMA: Polymethyl Methacrylate",
        "PP: Polypropylene",
        "PPrubber: Atactic Polypropylene (Rubbery)",
        "PS: Polystyrene",
        "PVAc: Polyvinyl Acetate",
        "SBS: Styrene-Butadiene-Styrene",
        "gPET: Glassy Polyethylene Terephthalate",
        "oPP: Oriented Polypropylene",
        "plasticizedPVC: Plasticized Polyvinyl Chloride",
        "rHIPS: Rubbery High-Impact Polystyrene",
        "rPET: Rubbery Polyethylene Terephthalate",
        "rPS: Rubbery Polystyrene",
        "rigidPVC: Rigid Polyvinyl Chloride",
        "wPET: Wet (Plasticized) Polyethylene Terephthalate"
       ],
       "description": "Polymer:",
       "index": 9,
       "layout": "IPY_MODEL_8c30838cc6064f20bccf4de0e3210560",
       "style": "IPY_MODEL_6f8aadf3ac6b4108a898111c4e8667fd"
      }
     },
     "de8004aec5c945b395c4a8a5a3fd0882": {
      "model_module": "@jupyter-widgets/controls",
      "model_module_version": "2.0.0",
      "model_name": "HTMLStyleModel",
      "state": {
       "description_width": "",
       "font_size": null,
       "text_color": null
      }
     },
     "e0560ca03ace438ca02a854b7841133a": {
      "model_module": "@jupyter-widgets/base",
      "model_module_version": "2.0.0",
      "model_name": "LayoutModel",
      "state": {}
     },
     "e066bb17e35a423780f1404dbc7ad48e": {
      "model_module": "@jupyter-widgets/base",
      "model_module_version": "2.0.0",
      "model_name": "LayoutModel",
      "state": {}
     },
     "e215cdbe15bf482685cd57c2ee540664": {
      "model_module": "@jupyter-widgets/controls",
      "model_module_version": "2.0.0",
      "model_name": "FloatTextModel",
      "state": {
       "description": "ttarget:",
       "layout": "IPY_MODEL_11a34b9ca52341d69c144491d91378c4",
       "step": null,
       "style": "IPY_MODEL_f9564f4322544b96ae934a517eae2bee",
       "value": 1
      }
     },
     "e31630a0e42941c09dde4ce59047bc67": {
      "model_module": "@jupyter-widgets/base",
      "model_module_version": "2.0.0",
      "model_name": "LayoutModel",
      "state": {}
     },
     "e4ca2434ba1647b5a3fe4bb6cccfdd5b": {
      "model_module": "@jupyter-widgets/base",
      "model_module_version": "2.0.0",
      "model_name": "LayoutModel",
      "state": {}
     },
     "e57914b091f94e54b8f5ae7b1ee0ddd8": {
      "model_module": "@jupyter-widgets/controls",
      "model_module_version": "2.0.0",
      "model_name": "HBoxModel",
      "state": {
       "children": [
        "IPY_MODEL_7d3b006d9b464536a38470200f90c5a8",
        "IPY_MODEL_8084c65290944f3db77a16c7892a6649"
       ],
       "layout": "IPY_MODEL_597a50e83e624aa4ad493ebb2ab13f6b"
      }
     },
     "e6c2ad0eda3245a787bcaec788466e23": {
      "model_module": "@jupyter-widgets/controls",
      "model_module_version": "2.0.0",
      "model_name": "DescriptionStyleModel",
      "state": {
       "description_width": ""
      }
     },
     "e814571f723e45f48327104e765fe368": {
      "model_module": "@jupyter-widgets/base",
      "model_module_version": "2.0.0",
      "model_name": "LayoutModel",
      "state": {}
     },
     "e8a9384b853e4a78b30ae59d12a456cc": {
      "model_module": "@jupyter-widgets/controls",
      "model_module_version": "2.0.0",
      "model_name": "LabelModel",
      "state": {
       "layout": "IPY_MODEL_b34f71c7c0474b83bde48fa255e05976",
       "style": "IPY_MODEL_7c1004af371f453682f2eecb3759ed39",
       "value": " << "
      }
     },
     "e961dd94860f466b947e3f19b39e690e": {
      "model_module": "@jupyter-widgets/output",
      "model_module_version": "1.0.0",
      "model_name": "OutputModel",
      "state": {
       "layout": "IPY_MODEL_cdf1a0e09ab14239a4f2f31da4bd08c7",
       "outputs": [
        {
         "name": "stdout",
         "output_type": "stream",
         "text": "<migrantToxtree object>\n      Compound: anisole\n          Name: anisole\n           cid: 7519\n           CAS: ['100-66-3']\n       M (min): 108.14\n       M_array: [108.14]\n       formula: C7H8O\n        smiles: COC1=CC=CC=C1\n      InChiKey: RDOXTESZEPMUJZ-UHFFFAOYSA-N\n          logP: [2.1]\n     P' (calc): [1.41652803]\n   --- ToxTree: ---------------\n    Toxicology: Low (Class I)\n           TTC: 1.5 [µg/kg bw/day]\n        CF TTC: 0.09 [mg/kg food intake]\n"
        },
        {
         "data": {
          "image/jpeg": "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",
          "image/png": "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",
          "text/plain": "<PIL.PngImagePlugin.PngImageFile image mode=RGB size=167x337>"
         },
         "metadata": {},
         "output_type": "display_data"
        }
       ]
      }
     },
     "e9b1c6912fee4968ac9b651a3d90bac1": {
      "model_module": "@jupyter-widgets/controls",
      "model_module_version": "2.0.0",
      "model_name": "HTMLModel",
      "state": {
       "layout": "IPY_MODEL_ea23bf8110ab4bdf869201e726cd975a",
       "style": "IPY_MODEL_4c70e30520f34540ab8a944b90ae62db",
       "value": "M: <b>290.8</b> [g/mol]"
      }
     },
     "ea23bf8110ab4bdf869201e726cd975a": {
      "model_module": "@jupyter-widgets/base",
      "model_module_version": "2.0.0",
      "model_name": "LayoutModel",
      "state": {}
     },
     "ec6a53051daa49009bc165a6ae21b1ee": {
      "model_module": "@jupyter-widgets/base",
      "model_module_version": "2.0.0",
      "model_name": "LayoutModel",
      "state": {}
     },
     "ef6348feb4954a159349c9f52265e604": {
      "model_module": "@jupyter-widgets/controls",
      "model_module_version": "2.0.0",
      "model_name": "LabelModel",
      "state": {
       "layout": "IPY_MODEL_e814571f723e45f48327104e765fe368",
       "style": "IPY_MODEL_682e7623332d4f568f59f017ec4d2c34",
       "value": " % "
      }
     },
     "ef964f921bf44ea4a70e33c447273507": {
      "model_module": "@jupyter-widgets/controls",
      "model_module_version": "2.0.0",
      "model_name": "TextModel",
      "state": {
       "description": "substance",
       "layout": "IPY_MODEL_9eb9d808c5484dc8a7e4ccbfca7657ad",
       "style": "IPY_MODEL_cf67d56dab2345308f25ddeea766f719",
       "value": "BPA"
      }
     },
     "f0c959717fc7423cbf656bc3da7210c7": {
      "model_module": "@jupyter-widgets/base",
      "model_module_version": "2.0.0",
      "model_name": "LayoutModel",
      "state": {
       "width": "20%"
      }
     },
     "f0cef2ff0af14194a82bdbe883625eea": {
      "model_module": "@jupyter-widgets/base",
      "model_module_version": "2.0.0",
      "model_name": "LayoutModel",
      "state": {}
     },
     "f0d0e2967b26474481b5f1475b2b117b": {
      "model_module": "@jupyter-widgets/controls",
      "model_module_version": "2.0.0",
      "model_name": "DescriptionStyleModel",
      "state": {
       "description_width": ""
      }
     },
     "f1025fc926e6458a91f4198218ab73f3": {
      "model_module": "@jupyter-widgets/controls",
      "model_module_version": "2.0.0",
      "model_name": "HBoxModel",
      "state": {
       "children": [
        "IPY_MODEL_2c25fc58ebc64ab5b57da276c41c21f9",
        "IPY_MODEL_50e979fa98d64ae8869b3391dd305456"
       ],
       "layout": "IPY_MODEL_8738dfd8114049c491f73db2d97eb037"
      }
     },
     "f190503c301046c0826241989266187f": {
      "model_module": "@jupyter-widgets/controls",
      "model_module_version": "2.0.0",
      "model_name": "ButtonModel",
      "state": {
       "button_style": "success",
       "description": "Launch Simulation",
       "layout": "IPY_MODEL_3d6b7d6d2a18441f8387c87803efb556",
       "style": "IPY_MODEL_926d5ce15405419cb0ff34441d00a5c6",
       "tooltip": "Click to launch the simulation"
      }
     },
     "f1c288229b784e15952e89f064d7f354": {
      "model_module": "@jupyter-widgets/controls",
      "model_module_version": "2.0.0",
      "model_name": "TextModel",
      "state": {
       "description": "Name:",
       "disabled": true,
       "layout": "IPY_MODEL_49f6c5af8ec6413fb9a33c1a651cfc17",
       "style": "IPY_MODEL_4a97e96b9ffb4060a18e11c29f704486"
      }
     },
     "f2ef10148a904142bde53fc1cfb4bd89": {
      "model_module": "@jupyter-widgets/base",
      "model_module_version": "2.0.0",
      "model_name": "LayoutModel",
      "state": {}
     },
     "f3dfbfc5ac0d4978a586185a88fe1325": {
      "model_module": "@jupyter-widgets/controls",
      "model_module_version": "2.0.0",
      "model_name": "TextStyleModel",
      "state": {
       "description_width": "",
       "font_size": null,
       "text_color": null
      }
     },
     "f3f470adcb534974b40adeb1de6ab52b": {
      "model_module": "@jupyter-widgets/controls",
      "model_module_version": "2.0.0",
      "model_name": "ButtonStyleModel",
      "state": {
       "font_family": null,
       "font_size": null,
       "font_style": null,
       "font_variant": null,
       "font_weight": null,
       "text_color": null,
       "text_decoration": null
      }
     },
     "f634702a6ec74ccc96079a0019e43405": {
      "model_module": "@jupyter-widgets/base",
      "model_module_version": "2.0.0",
      "model_name": "LayoutModel",
      "state": {}
     },
     "f71b71c28e8d477e85ae623d008e4c78": {
      "model_module": "@jupyter-widgets/controls",
      "model_module_version": "2.0.0",
      "model_name": "TextModel",
      "state": {
       "description": "Layer Name:",
       "layout": "IPY_MODEL_5ee091a06dda44c685f719d247dbebee",
       "style": "IPY_MODEL_052c2c8e10b84abfa7e478b0b41c682c",
       "value": "P1"
      }
     },
     "f76c81d7ca8f4127801967c197334e70": {
      "model_module": "@jupyter-widgets/controls",
      "model_module_version": "2.0.0",
      "model_name": "DropdownModel",
      "state": {
       "_options_labels": [
        "nm",
        "µm",
        "mm",
        "cm"
       ],
       "description": "Unit:",
       "index": 1,
       "layout": "IPY_MODEL_2d5fd0233ba04fab8b118f952dc82474",
       "style": "IPY_MODEL_2ce5f64fca3744778d173cba31ca8b18"
      }
     },
     "f7c35a5e3e6f4262afc92db611d97c47": {
      "model_module": "@jupyter-widgets/controls",
      "model_module_version": "2.0.0",
      "model_name": "LabelStyleModel",
      "state": {
       "description_width": "",
       "font_family": null,
       "font_size": null,
       "font_style": null,
       "font_variant": null,
       "font_weight": null,
       "text_color": null,
       "text_decoration": null
      }
     },
     "f9564f4322544b96ae934a517eae2bee": {
      "model_module": "@jupyter-widgets/controls",
      "model_module_version": "2.0.0",
      "model_name": "DescriptionStyleModel",
      "state": {
       "description_width": ""
      }
     },
     "faecdc76e55e4652ac7b43b4d8ea96f7": {
      "model_module": "@jupyter-widgets/controls",
      "model_module_version": "2.0.0",
      "model_name": "DescriptionStyleModel",
      "state": {
       "description_width": ""
      }
     },
     "fd26633bccde43958418ba726e65ff1d": {
      "model_module": "@jupyter-widgets/controls",
      "model_module_version": "2.0.0",
      "model_name": "HTMLStyleModel",
      "state": {
       "description_width": "",
       "font_size": null,
       "text_color": null
      }
     },
     "fd8c9eff7b584f4cb2ca975d7141dec3": {
      "model_module": "@jupyter-widgets/controls",
      "model_module_version": "2.0.0",
      "model_name": "DropdownModel",
      "state": {
       "_options_labels": [
        "lind"
       ],
       "description": "Name:",
       "index": 0,
       "layout": "IPY_MODEL_5c72300ea235477a80fb373673d21d29",
       "style": "IPY_MODEL_24c96b965cd140ecba59d43bab8a3e64"
      }
     },
     "fdfca00830574a8dab462c6376466a37": {
      "model_module": "@jupyter-widgets/base",
      "model_module_version": "2.0.0",
      "model_name": "LayoutModel",
      "state": {}
     },
     "fe8740b9772c4e3390ee43d7f97280be": {
      "model_module": "@jupyter-widgets/controls",
      "model_module_version": "2.0.0",
      "model_name": "ButtonModel",
      "state": {
       "button_style": "info",
       "description": "Plot Cx",
       "layout": "IPY_MODEL_d41c10a2f39e4212a158f9594aaa4f54",
       "style": "IPY_MODEL_3fb36b181cd146eb9db947d5343df998",
       "tooltip": null
      }
     },
     "fef7033be0be447786a7377ee36e3529": {
      "model_module": "@jupyter-widgets/base",
      "model_module_version": "2.0.0",
      "model_name": "LayoutModel",
      "state": {}
     },
     "ff350972e032485ab78f45803df010a6": {
      "model_module": "@jupyter-widgets/base",
      "model_module_version": "2.0.0",
      "model_name": "LayoutModel",
      "state": {}
     },
     "ffe24738cf7b4d2fad1811d43b7f7505": {
      "model_module": "@jupyter-widgets/controls",
      "model_module_version": "2.0.0",
      "model_name": "HTMLStyleModel",
      "state": {
       "description_width": "",
       "font_size": null,
       "text_color": null
      }
     }
    },
    "version_major": 2,
    "version_minor": 0
   }
  }
 },
 "nbformat": 4,
 "nbformat_minor": 5
}
