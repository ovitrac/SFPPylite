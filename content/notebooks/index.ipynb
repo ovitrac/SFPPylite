{
  "metadata": {
    "kernelspec": {
      "name": "python",
      "display_name": "Python (Pyodide)",
      "language": "python"
    },
    "language_info": {
      "codemirror_mode": {
        "name": "python",
        "version": 3
      },
      "file_extension": ".py",
      "mimetype": "text/x-python",
      "name": "python",
      "nbconvert_exporter": "python",
      "pygments_lexer": "ipython3",
      "version": "3.8"
    },
    "widgets": {
      "application/vnd.jupyter.widget-state+json": {
        "state": {
          "01daa19ad788406e8837800918aa6018": {
            "model_module": "@jupyter-widgets/base",
            "model_module_version": "2.0.0",
            "model_name": "LayoutModel",
            "state": {}
          },
          "04f095c0b5bc4cbaac5f496139975824": {
            "model_module": "@jupyter-widgets/base",
            "model_module_version": "2.0.0",
            "model_name": "LayoutModel",
            "state": {}
          },
          "0dadf9b607064562aa6be2e05feb7e13": {
            "model_module": "@jupyter-widgets/base",
            "model_module_version": "2.0.0",
            "model_name": "LayoutModel",
            "state": {}
          },
          "0e5a641322c04eb9bf98a894dfd496c5": {
            "model_module": "@jupyter-widgets/controls",
            "model_module_version": "2.0.0",
            "model_name": "ButtonModel",
            "state": {
              "description": "-->",
              "layout": "IPY_MODEL_a8996d47ea264e6fb69613d724a9469c",
              "style": "IPY_MODEL_df22abfe3a0842859b68c626aaecb961",
              "tooltip": null
            }
          },
          "10fbbf40d43941999ad3f550183eee79": {
            "model_module": "@jupyter-widgets/base",
            "model_module_version": "2.0.0",
            "model_name": "LayoutModel",
            "state": {}
          },
          "1128dbb5c8924e8580688637265c1e72": {
            "model_module": "@jupyter-widgets/controls",
            "model_module_version": "2.0.0",
            "model_name": "DescriptionStyleModel",
            "state": {
              "description_width": ""
            }
          },
          "1cc0c3ddb18945528e7f0999766825ce": {
            "model_module": "@jupyter-widgets/controls",
            "model_module_version": "2.0.0",
            "model_name": "ButtonStyleModel",
            "state": {
              "font_family": null,
              "font_size": null,
              "font_style": null,
              "font_variant": null,
              "font_weight": null,
              "text_color": null,
              "text_decoration": null
            }
          },
          "1f28d9ccfd6b423cb66897116a482a42": {
            "model_module": "@jupyter-widgets/base",
            "model_module_version": "2.0.0",
            "model_name": "LayoutModel",
            "state": {}
          },
          "23e8958d6bcf4413883cda6e0234ea98": {
            "model_module": "@jupyter-widgets/base",
            "model_module_version": "2.0.0",
            "model_name": "LayoutModel",
            "state": {}
          },
          "2601af03108a45e0a8b7f6d1ffb5e720": {
            "model_module": "@jupyter-widgets/controls",
            "model_module_version": "2.0.0",
            "model_name": "TextareaModel",
            "state": {
              "description": "Comment:",
              "disabled": true,
              "layout": "IPY_MODEL_9eebdaef205d40ecbf36f4000d552658",
              "style": "IPY_MODEL_a8ff20a79f464bc9b4976e4a952498e3",
              "value": "\n1.4 | List available polymer/material options for packaging.\n\nUse `help_layer()` to display predefined materials.\n\n<details>\n    <summary>Click to expand the list</summary>\n\n| Class Name              | Type     | Material                        | Code    |\n|-------------------------|----------|---------------------------------|---------|\n| AdhesiveAcrylate        | adhesive | acrylate adhesive               | Acryl   |\n| AdhesiveEVA             | adhesive | EVA adhesive                    | EVA     |\n| AdhesiveNaturalRubber   | adhesive | natural rubber adhesive         | rubber  |\n| AdhesivePU              | adhesive | polyurethane adhesive           | PU      |\n| AdhesivePVAC            | adhesive | PVAc adhesive                   | PVAc    |\n| AdhesiveSyntheticRubber | adhesive | synthetic rubber adhesive       | sRubber |\n| AdhesiveVAE             | adhesive | VAE adhesive                    | VAE     |\n| Cardboard               | paper    | cardboard                       | board   |\n| HDPE                    | polymer  | high-density polyethylene       | HDPE    |\n| HIPS                    | polymer  | high-impact polystyrene         | HIPS    |\n| LDPE                    | polymer  | low-density polyethylene        | LDPE    |\n| LLDPE                   | polymer  | linear low-density polyethylene | LLDPE   |\n| PA6                     | polymer  | polyamide 6                     | PA6     |\n| PA66                    | polymer  | polyamide 6,6                   | PA6,6   |\n| PBT                     | polymer  | polybutylene terephthalate      | PBT     |\n| PEN                     | polymer  | polyethylene naphthalate        | PEN     |\n| PP                      | polymer  | isotactic polypropylene         | PP      |\n| PPrubber                | polymer  | atactic polypropylene           | aPP     |\n| PS                      | polymer  | polystyrene                     | PS      |\n| Paper                   | paper    | paper                           | paper   |\n| SBS                     | polymer  | styrene-based polymer SBS       | SBS     |\n| air                     | air      | ideal gas                       | gas     |\n| gPET                    | polymer  | glassy PET                      | PET     |\n| oPP                     | polymer  | bioriented polypropylene        | oPP     |\n| plasticizedPVC          | polymer  | plasticized PVC                 | pPVC    |\n| rPET                    | polymer  | rubbery PET                     | rPET    |\n| rigidPVC                | polymer  | rigid PVC                       | PVC     |\n</details>"
            }
          },
          "28d5f5061ba7438fa867d97ddb12067a": {
            "model_module": "@jupyter-widgets/base",
            "model_module_version": "2.0.0",
            "model_name": "LayoutModel",
            "state": {}
          },
          "2b8ae5d2e8fe448097cb166c15ad1d75": {
            "model_module": "@jupyter-widgets/base",
            "model_module_version": "2.0.0",
            "model_name": "LayoutModel",
            "state": {}
          },
          "2e3d11838d97420692cffc201823f944": {
            "model_module": "@jupyter-widgets/base",
            "model_module_version": "2.0.0",
            "model_name": "LayoutModel",
            "state": {}
          },
          "33104f36c80446c686dc2de5ef56d42b": {
            "model_module": "@jupyter-widgets/base",
            "model_module_version": "2.0.0",
            "model_name": "LayoutModel",
            "state": {}
          },
          "393fa7d1d9d3454fb4f665aa9e4f5efa": {
            "model_module": "@jupyter-widgets/controls",
            "model_module_version": "2.0.0",
            "model_name": "ButtonStyleModel",
            "state": {
              "font_family": null,
              "font_size": null,
              "font_style": null,
              "font_variant": null,
              "font_weight": null,
              "text_color": null,
              "text_decoration": null
            }
          },
          "3aec3300297846da9d1526341012408f": {
            "model_module": "@jupyter-widgets/base",
            "model_module_version": "2.0.0",
            "model_name": "LayoutModel",
            "state": {}
          },
          "3b4174592b4b44aab2fea12aab8d3393": {
            "model_module": "@jupyter-widgets/controls",
            "model_module_version": "2.0.0",
            "model_name": "ButtonStyleModel",
            "state": {
              "font_family": null,
              "font_size": null,
              "font_style": null,
              "font_variant": null,
              "font_weight": null,
              "text_color": null,
              "text_decoration": null
            }
          },
          "3c221a31a3da42019717e30287d2989e": {
            "model_module": "@jupyter-widgets/controls",
            "model_module_version": "2.0.0",
            "model_name": "ButtonModel",
            "state": {
              "description": "Close",
              "layout": "IPY_MODEL_e5dd4a93fb2c4e17965f0c5e2640f81f",
              "style": "IPY_MODEL_86c048578e6b4e4e86949d7f979774da",
              "tooltip": null
            }
          },
          "3e9d396dc2774e9eb1c91a6f7f7fc125": {
            "model_module": "@jupyter-widgets/controls",
            "model_module_version": "2.0.0",
            "model_name": "HTMLStyleModel",
            "state": {
              "description_width": "",
              "font_size": null,
              "text_color": null
            }
          },
          "4141e96fb64c41b18071ee26ffa61aef": {
            "model_module": "@jupyter-widgets/base",
            "model_module_version": "2.0.0",
            "model_name": "LayoutModel",
            "state": {}
          },
          "438f4fef7b314af193048b05fb50f938": {
            "model_module": "@jupyter-widgets/controls",
            "model_module_version": "2.0.0",
            "model_name": "ButtonModel",
            "state": {
              "description": "First",
              "layout": "IPY_MODEL_4cbfdc6c1f0740feb3c3c239443bcf6f",
              "style": "IPY_MODEL_b923e03e095b48199da134a5a27142b2",
              "tooltip": null
            }
          },
          "44f5fe9a53864b5188e1056ce39d9ecb": {
            "model_module": "@jupyter-widgets/controls",
            "model_module_version": "2.0.0",
            "model_name": "HBoxModel",
            "state": {
              "children": [
                "IPY_MODEL_ae9bb696fceb420bb01d3dca3b4a4719",
                "IPY_MODEL_cefb57d663b5486da0411fa2fc12dce8",
                "IPY_MODEL_0e5a641322c04eb9bf98a894dfd496c5",
                "IPY_MODEL_eb604cdfbf934a348fbccf3eddfaffad",
                "IPY_MODEL_c343e31790054402ba1cdfd9ae44459e",
                "IPY_MODEL_9482138e0b034c298ff0fafd94a01fce",
                "IPY_MODEL_7a94ddcb3f5c47b0a6d2609b948f7ecf",
                "IPY_MODEL_a458ee07949b48d4af44762267bc1b65"
              ],
              "layout": "IPY_MODEL_04f095c0b5bc4cbaac5f496139975824"
            }
          },
          "460d7da8dd9a4f069fcce272761cf0b8": {
            "model_module": "@jupyter-widgets/base",
            "model_module_version": "2.0.0",
            "model_name": "LayoutModel",
            "state": {
              "height": "200px",
              "width": "100%"
            }
          },
          "479d12fc226a49dd9c036500608bf18f": {
            "model_module": "@jupyter-widgets/base",
            "model_module_version": "2.0.0",
            "model_name": "LayoutModel",
            "state": {}
          },
          "4a9aac34aeb645568b03c71f61544c06": {
            "model_module": "@jupyter-widgets/controls",
            "model_module_version": "2.0.0",
            "model_name": "ButtonStyleModel",
            "state": {
              "font_family": null,
              "font_size": null,
              "font_style": null,
              "font_variant": null,
              "font_weight": null,
              "text_color": null,
              "text_decoration": null
            }
          },
          "4ca38af6deb74ab78071e183b5df79ac": {
            "model_module": "@jupyter-widgets/base",
            "model_module_version": "2.0.0",
            "model_name": "LayoutModel",
            "state": {}
          },
          "4cbfdc6c1f0740feb3c3c239443bcf6f": {
            "model_module": "@jupyter-widgets/base",
            "model_module_version": "2.0.0",
            "model_name": "LayoutModel",
            "state": {}
          },
          "4d74bb794e1847b6ab066996c80bbfca": {
            "model_module": "@jupyter-widgets/controls",
            "model_module_version": "2.0.0",
            "model_name": "LabelStyleModel",
            "state": {
              "description_width": "",
              "font_family": null,
              "font_size": null,
              "font_style": null,
              "font_variant": null,
              "font_weight": null,
              "text_color": null,
              "text_decoration": null
            }
          },
          "4fb38ad2634d4255905d86efc93bd069": {
            "model_module": "@jupyter-widgets/controls",
            "model_module_version": "2.0.0",
            "model_name": "ButtonStyleModel",
            "state": {
              "font_family": null,
              "font_size": null,
              "font_style": null,
              "font_variant": null,
              "font_weight": null,
              "text_color": null,
              "text_decoration": null
            }
          },
          "50f06cfb92314a39ba5fa36c668cffa3": {
            "model_module": "@jupyter-widgets/controls",
            "model_module_version": "2.0.0",
            "model_name": "ButtonStyleModel",
            "state": {
              "font_family": null,
              "font_size": null,
              "font_style": null,
              "font_variant": null,
              "font_weight": null,
              "text_color": null,
              "text_decoration": null
            }
          },
          "516b073a638540d7ab847b7e99ede237": {
            "model_module": "@jupyter-widgets/controls",
            "model_module_version": "2.0.0",
            "model_name": "DropdownModel",
            "state": {
              "_options_labels": [
                "notebooks/comply.ipynb",
                "notebooks/example1.ipynb",
                "notebooks/example2.ipynb",
                "notebooks/example3.ipynb",
                "notebooks/example4.ipynb",
                "notebooks/gui.ipynb"
              ],
              "description": "Files:",
              "index": 0,
              "layout": "IPY_MODEL_3aec3300297846da9d1526341012408f",
              "style": "IPY_MODEL_938bf939ce60460c813bb1fbb955fcae"
            }
          },
          "53b3f5c0b96d4b94846a8f5d13cde1ac": {
            "model_module": "@jupyter-widgets/controls",
            "model_module_version": "2.0.0",
            "model_name": "LabelModel",
            "state": {
              "layout": "IPY_MODEL_8b22e07ccf1343b6adb01eab98286f88",
              "style": "IPY_MODEL_a70190897b4d4e789201801b92dc30b4",
              "value": "Cell 1/12"
            }
          },
          "53c5f70c7bd34cb8a542a9837f0b9813": {
            "model_module": "@jupyter-widgets/base",
            "model_module_version": "2.0.0",
            "model_name": "LayoutModel",
            "state": {
              "height": "200px",
              "width": "100%"
            }
          },
          "55d21380fdcd496498b40ff609dd23a2": {
            "model_module": "@jupyter-widgets/controls",
            "model_module_version": "2.0.0",
            "model_name": "DropdownModel",
            "state": {
              "_options_labels": [
                "example1.py",
                "example2.py",
                "example3.py",
                "example4.py"
              ],
              "description": "Files:",
              "index": 1,
              "layout": "IPY_MODEL_6e070f1750ce407c9fc6590dbfd98417",
              "style": "IPY_MODEL_1128dbb5c8924e8580688637265c1e72"
            }
          },
          "5dfaf7da0930442790f912b2d7c80039": {
            "model_module": "@jupyter-widgets/controls",
            "model_module_version": "2.0.0",
            "model_name": "VBoxModel",
            "state": {
              "children": [
                "IPY_MODEL_d5b4c3865ebd49979746dc9178668993",
                "IPY_MODEL_8524f5c4b44e47279dace765dc5acb79",
                "IPY_MODEL_d318c5fdccd141f1be6952023f0960c2",
                "IPY_MODEL_f5dc06b1c9704df6ad0ecf564eb48df1"
              ],
              "layout": "IPY_MODEL_b1bafc40531d46d2a49a8166f7c50c35"
            }
          },
          "68606005fd6a4e67b8782e1a8e77cb9b": {
            "model_module": "@jupyter-widgets/controls",
            "model_module_version": "2.0.0",
            "model_name": "DropdownModel",
            "state": {
              "_options_labels": [
                "comply.ipynb",
                "example1.ipynb",
                "example2.ipynb",
                "example3.ipynb",
                "example4.ipynb",
                "gui.ipynb"
              ],
              "description": "Notebook:",
              "index": 3,
              "layout": "IPY_MODEL_1f28d9ccfd6b423cb66897116a482a42",
              "style": "IPY_MODEL_bd86374b984d43789661a5c4139e7f45"
            }
          },
          "6907fbd9926c4e21bdf00561f7cd65ea": {
            "model_module": "@jupyter-widgets/controls",
            "model_module_version": "2.0.0",
            "model_name": "ButtonStyleModel",
            "state": {
              "font_family": null,
              "font_size": null,
              "font_style": null,
              "font_variant": null,
              "font_weight": null,
              "text_color": null,
              "text_decoration": null
            }
          },
          "6d2e86f74d4b4bb7b5a32daa5a576ca9": {
            "model_module": "@jupyter-widgets/controls",
            "model_module_version": "2.0.0",
            "model_name": "ButtonModel",
            "state": {
              "description": "Open Notebook",
              "layout": "IPY_MODEL_ec572a8000d0455c9b5469dabcb00dcc",
              "style": "IPY_MODEL_4a9aac34aeb645568b03c71f61544c06",
              "tooltip": null
            }
          },
          "6e070f1750ce407c9fc6590dbfd98417": {
            "model_module": "@jupyter-widgets/base",
            "model_module_version": "2.0.0",
            "model_name": "LayoutModel",
            "state": {}
          },
          "6e910f796d30405685588ff19392e1ae": {
            "model_module": "@jupyter-widgets/controls",
            "model_module_version": "2.0.0",
            "model_name": "ButtonModel",
            "state": {
              "description": "Copy Comment",
              "layout": "IPY_MODEL_bcbcf13aaedc4a7cba848d1dfd3c65f9",
              "style": "IPY_MODEL_d2439de5f01941c1850698f1afc00336",
              "tooltip": null
            }
          },
          "72167e4804f841dfabd0d364ba0b78ac": {
            "model_module": "@jupyter-widgets/base",
            "model_module_version": "2.0.0",
            "model_name": "LayoutModel",
            "state": {}
          },
          "7a94ddcb3f5c47b0a6d2609b948f7ecf": {
            "model_module": "@jupyter-widgets/controls",
            "model_module_version": "2.0.0",
            "model_name": "ButtonModel",
            "state": {
              "description": "Copy Comment",
              "layout": "IPY_MODEL_10fbbf40d43941999ad3f550183eee79",
              "style": "IPY_MODEL_9e0dfb068033454781ff8eaa1a0f99e3",
              "tooltip": null
            }
          },
          "7c5fb74d8de74ab99ca259b9d7ce7620": {
            "model_module": "@jupyter-widgets/output",
            "model_module_version": "1.0.0",
            "model_name": "OutputModel",
            "state": {
              "layout": "IPY_MODEL_72167e4804f841dfabd0d364ba0b78ac"
            }
          },
          "7ce841aa7cac4c58bc580f3c1301ac47": {
            "model_module": "@jupyter-widgets/controls",
            "model_module_version": "2.0.0",
            "model_name": "ButtonModel",
            "state": {
              "description": "Run Script",
              "layout": "IPY_MODEL_33104f36c80446c686dc2de5ef56d42b",
              "style": "IPY_MODEL_bbbcc25ef2104c1e80de6c9b49f574a9",
              "tooltip": null
            }
          },
          "7f472536ba774c5284d1336c94cfcf4d": {
            "model_module": "@jupyter-widgets/controls",
            "model_module_version": "2.0.0",
            "model_name": "VBoxModel",
            "state": {
              "children": [
                "IPY_MODEL_44f5fe9a53864b5188e1056ce39d9ecb",
                "IPY_MODEL_2601af03108a45e0a8b7f6d1ffb5e720",
                "IPY_MODEL_ce983a1bb4de4dfcaff5bb942f6017c4",
                "IPY_MODEL_c8dadbfa53f446fab18081a31c15636b"
              ],
              "layout": "IPY_MODEL_d2d95caa130a444e9f30a1dfb762d03f"
            }
          },
          "82146ffab9f744219cca38be0e40f2c0": {
            "model_module": "@jupyter-widgets/controls",
            "model_module_version": "2.0.0",
            "model_name": "HTMLStyleModel",
            "state": {
              "description_width": "",
              "font_size": null,
              "text_color": null
            }
          },
          "84a17e10eda14feeaf0b8d00188ee25a": {
            "model_module": "@jupyter-widgets/controls",
            "model_module_version": "2.0.0",
            "model_name": "ButtonStyleModel",
            "state": {
              "font_family": null,
              "font_size": null,
              "font_style": null,
              "font_variant": null,
              "font_weight": null,
              "text_color": null,
              "text_decoration": null
            }
          },
          "8524f5c4b44e47279dace765dc5acb79": {
            "model_module": "@jupyter-widgets/controls",
            "model_module_version": "2.0.0",
            "model_name": "TextareaModel",
            "state": {
              "description": "Comment:",
              "disabled": true,
              "layout": "IPY_MODEL_a8f14166745248a49d2fdb5273b567ff",
              "style": "IPY_MODEL_9aa0fadb79a040d8a65da06973b898a5",
              "value": "Minimal Setup for SFPPy Core 🚀🔧⚙️\n\n> This setup is designed to work on any machine – whether SFPPy is already installed or not.  \n\n<details>\n    <summary>Click to Expand</summary>\n\n> The cell attempts to import the core module `patankar.loadpubchem`.  \n> - If it succeeds, SFPPy is already initialized, and no further action is needed.  \n> - If it fails, the cell will try to run the initialization script `initialize_sfppy.py` (searched from several candidate paths).  \n>   - If the script is found, it will be executed.  \n>   - If not, the repository will be cloned (or refreshed) and then initialized.\n>  \n> After successful initialization, the full path to the SFPPy installation folder is displayed.  \n>  \n> Note: Make sure you are in a directory with access to SFPPy (or that can clone it). In a read-only environment, this cell will help you set up SFPPy temporarily.\n\n</details>"
            }
          },
          "8528eb1d5c2b48eeba74059c53069758": {
            "model_module": "@jupyter-widgets/controls",
            "model_module_version": "2.0.0",
            "model_name": "TextStyleModel",
            "state": {
              "description_width": "",
              "font_size": null,
              "text_color": null
            }
          },
          "8607d624c07e4170ad73f838043c6b8a": {
            "model_module": "@jupyter-widgets/base",
            "model_module_version": "2.0.0",
            "model_name": "LayoutModel",
            "state": {}
          },
          "86c048578e6b4e4e86949d7f979774da": {
            "model_module": "@jupyter-widgets/controls",
            "model_module_version": "2.0.0",
            "model_name": "ButtonStyleModel",
            "state": {
              "font_family": null,
              "font_size": null,
              "font_style": null,
              "font_variant": null,
              "font_weight": null,
              "text_color": null,
              "text_decoration": null
            }
          },
          "8b22e07ccf1343b6adb01eab98286f88": {
            "model_module": "@jupyter-widgets/base",
            "model_module_version": "2.0.0",
            "model_name": "LayoutModel",
            "state": {}
          },
          "924c183a955248b08706469b5c02ba5f": {
            "model_module": "@jupyter-widgets/base",
            "model_module_version": "2.0.0",
            "model_name": "LayoutModel",
            "state": {}
          },
          "938bf939ce60460c813bb1fbb955fcae": {
            "model_module": "@jupyter-widgets/controls",
            "model_module_version": "2.0.0",
            "model_name": "DescriptionStyleModel",
            "state": {
              "description_width": ""
            }
          },
          "9482138e0b034c298ff0fafd94a01fce": {
            "model_module": "@jupyter-widgets/controls",
            "model_module_version": "2.0.0",
            "model_name": "ButtonModel",
            "state": {
              "description": "Copy Code",
              "layout": "IPY_MODEL_b973e4e0cf6e4cacae7aa43d06b4b00c",
              "style": "IPY_MODEL_c587de5039af414283c3132f01645340",
              "tooltip": null
            }
          },
          "948d8597b414427898b117a4ed9e5a61": {
            "model_module": "@jupyter-widgets/base",
            "model_module_version": "2.0.0",
            "model_name": "LayoutModel",
            "state": {}
          },
          "9622620d07024dc498ac2b3acc3c2f13": {
            "model_module": "@jupyter-widgets/controls",
            "model_module_version": "2.0.0",
            "model_name": "HTMLStyleModel",
            "state": {
              "description_width": "",
              "font_size": null,
              "text_color": null
            }
          },
          "9aa0fadb79a040d8a65da06973b898a5": {
            "model_module": "@jupyter-widgets/controls",
            "model_module_version": "2.0.0",
            "model_name": "TextStyleModel",
            "state": {
              "description_width": "",
              "font_size": null,
              "text_color": null
            }
          },
          "9e0dfb068033454781ff8eaa1a0f99e3": {
            "model_module": "@jupyter-widgets/controls",
            "model_module_version": "2.0.0",
            "model_name": "ButtonStyleModel",
            "state": {
              "font_family": null,
              "font_size": null,
              "font_style": null,
              "font_variant": null,
              "font_weight": null,
              "text_color": null,
              "text_decoration": null
            }
          },
          "9eebdaef205d40ecbf36f4000d552658": {
            "model_module": "@jupyter-widgets/base",
            "model_module_version": "2.0.0",
            "model_name": "LayoutModel",
            "state": {
              "height": "80px",
              "width": "100%"
            }
          },
          "9fd288e82fbe42359cedbd6233099668": {
            "model_module": "@jupyter-widgets/controls",
            "model_module_version": "2.0.0",
            "model_name": "ButtonStyleModel",
            "state": {
              "font_family": null,
              "font_size": null,
              "font_style": null,
              "font_variant": null,
              "font_weight": null,
              "text_color": null,
              "text_decoration": null
            }
          },
          "a13f6c8cea9d456abb8bf5aab141a1ce": {
            "model_module": "@jupyter-widgets/base",
            "model_module_version": "2.0.0",
            "model_name": "LayoutModel",
            "state": {}
          },
          "a458ee07949b48d4af44762267bc1b65": {
            "model_module": "@jupyter-widgets/controls",
            "model_module_version": "2.0.0",
            "model_name": "ButtonModel",
            "state": {
              "description": "Close",
              "layout": "IPY_MODEL_23e8958d6bcf4413883cda6e0234ea98",
              "style": "IPY_MODEL_1cc0c3ddb18945528e7f0999766825ce",
              "tooltip": null
            }
          },
          "a49d997a29db4449aa9c7e8967df6b7e": {
            "model_module": "@jupyter-widgets/base",
            "model_module_version": "2.0.0",
            "model_name": "LayoutModel",
            "state": {}
          },
          "a70190897b4d4e789201801b92dc30b4": {
            "model_module": "@jupyter-widgets/controls",
            "model_module_version": "2.0.0",
            "model_name": "LabelStyleModel",
            "state": {
              "description_width": "",
              "font_family": null,
              "font_size": null,
              "font_style": null,
              "font_variant": null,
              "font_weight": null,
              "text_color": null,
              "text_decoration": null
            }
          },
          "a8996d47ea264e6fb69613d724a9469c": {
            "model_module": "@jupyter-widgets/base",
            "model_module_version": "2.0.0",
            "model_name": "LayoutModel",
            "state": {}
          },
          "a8f14166745248a49d2fdb5273b567ff": {
            "model_module": "@jupyter-widgets/base",
            "model_module_version": "2.0.0",
            "model_name": "LayoutModel",
            "state": {
              "height": "80px",
              "width": "100%"
            }
          },
          "a8ff20a79f464bc9b4976e4a952498e3": {
            "model_module": "@jupyter-widgets/controls",
            "model_module_version": "2.0.0",
            "model_name": "TextStyleModel",
            "state": {
              "description_width": "",
              "font_size": null,
              "text_color": null
            }
          },
          "a91e70e91a1948c0870ec636bc2c1cd0": {
            "model_module": "@jupyter-widgets/controls",
            "model_module_version": "2.0.0",
            "model_name": "ButtonStyleModel",
            "state": {
              "font_family": null,
              "font_size": null,
              "font_style": null,
              "font_variant": null,
              "font_weight": null,
              "text_color": null,
              "text_decoration": null
            }
          },
          "a9d3895e3d544879a74e9b1987b2957c": {
            "model_module": "@jupyter-widgets/base",
            "model_module_version": "2.0.0",
            "model_name": "LayoutModel",
            "state": {}
          },
          "adc586c5e89a47768cb020e65a52a559": {
            "model_module": "@jupyter-widgets/controls",
            "model_module_version": "2.0.0",
            "model_name": "HTMLModel",
            "state": {
              "layout": "IPY_MODEL_28d5f5061ba7438fa867d97ddb12067a",
              "style": "IPY_MODEL_3e9d396dc2774e9eb1c91a6f7f7fc125",
              "value": "<a href=\"notebooks/comply.ipynb\" target=\"_blank\">Click here to open notebooks/comply.ipynb locally</a>"
            }
          },
          "ae9bb696fceb420bb01d3dca3b4a4719": {
            "model_module": "@jupyter-widgets/controls",
            "model_module_version": "2.0.0",
            "model_name": "ButtonModel",
            "state": {
              "description": "First",
              "layout": "IPY_MODEL_a13f6c8cea9d456abb8bf5aab141a1ce",
              "style": "IPY_MODEL_6907fbd9926c4e21bdf00561f7cd65ea",
              "tooltip": null
            }
          },
          "b1bafc40531d46d2a49a8166f7c50c35": {
            "model_module": "@jupyter-widgets/base",
            "model_module_version": "2.0.0",
            "model_name": "LayoutModel",
            "state": {}
          },
          "b907d8ba34c94b10a8aafbe88f2fc95b": {
            "model_module": "@jupyter-widgets/controls",
            "model_module_version": "2.0.0",
            "model_name": "ButtonModel",
            "state": {
              "description": "<--",
              "layout": "IPY_MODEL_4ca38af6deb74ab78071e183b5df79ac",
              "style": "IPY_MODEL_393fa7d1d9d3454fb4f665aa9e4f5efa",
              "tooltip": null
            }
          },
          "b923e03e095b48199da134a5a27142b2": {
            "model_module": "@jupyter-widgets/controls",
            "model_module_version": "2.0.0",
            "model_name": "ButtonStyleModel",
            "state": {
              "font_family": null,
              "font_size": null,
              "font_style": null,
              "font_variant": null,
              "font_weight": null,
              "text_color": null,
              "text_decoration": null
            }
          },
          "b973e4e0cf6e4cacae7aa43d06b4b00c": {
            "model_module": "@jupyter-widgets/base",
            "model_module_version": "2.0.0",
            "model_name": "LayoutModel",
            "state": {}
          },
          "bbbcc25ef2104c1e80de6c9b49f574a9": {
            "model_module": "@jupyter-widgets/controls",
            "model_module_version": "2.0.0",
            "model_name": "ButtonStyleModel",
            "state": {
              "font_family": null,
              "font_size": null,
              "font_style": null,
              "font_variant": null,
              "font_weight": null,
              "text_color": null,
              "text_decoration": null
            }
          },
          "bc86ae233ab14166baed6cf9c78615e5": {
            "model_module": "@jupyter-widgets/base",
            "model_module_version": "2.0.0",
            "model_name": "LayoutModel",
            "state": {}
          },
          "bcbcf13aaedc4a7cba848d1dfd3c65f9": {
            "model_module": "@jupyter-widgets/base",
            "model_module_version": "2.0.0",
            "model_name": "LayoutModel",
            "state": {}
          },
          "bd86374b984d43789661a5c4139e7f45": {
            "model_module": "@jupyter-widgets/controls",
            "model_module_version": "2.0.0",
            "model_name": "DescriptionStyleModel",
            "state": {
              "description_width": ""
            }
          },
          "c343e31790054402ba1cdfd9ae44459e": {
            "model_module": "@jupyter-widgets/controls",
            "model_module_version": "2.0.0",
            "model_name": "LabelModel",
            "state": {
              "layout": "IPY_MODEL_bc86ae233ab14166baed6cf9c78615e5",
              "style": "IPY_MODEL_4d74bb794e1847b6ab066996c80bbfca",
              "value": "Cell 6/21"
            }
          },
          "c587de5039af414283c3132f01645340": {
            "model_module": "@jupyter-widgets/controls",
            "model_module_version": "2.0.0",
            "model_name": "ButtonStyleModel",
            "state": {
              "font_family": null,
              "font_size": null,
              "font_style": null,
              "font_variant": null,
              "font_weight": null,
              "text_color": null,
              "text_decoration": null
            }
          },
          "c8dadbfa53f446fab18081a31c15636b": {
            "model_module": "@jupyter-widgets/controls",
            "model_module_version": "2.0.0",
            "model_name": "TextareaModel",
            "state": {
              "description": "Code:",
              "disabled": true,
              "layout": "IPY_MODEL_460d7da8dd9a4f069fcce272761cf0b8",
              "style": "IPY_MODEL_8528eb1d5c2b48eeba74059c53069758",
              "value": "# Import material properties\nfrom patankar.layer import help_layer, layer\n\n# Display available polymer options\nhelp_layer()"
            }
          },
          "ca6b394a5bc14902ad37759fc88bbc57": {
            "model_module": "@jupyter-widgets/controls",
            "model_module_version": "2.0.0",
            "model_name": "TextStyleModel",
            "state": {
              "description_width": "",
              "font_size": null,
              "text_color": null
            }
          },
          "cc3ce2ae48aa42b2ba1d0a5bfc6e1196": {
            "model_module": "@jupyter-widgets/controls",
            "model_module_version": "2.0.0",
            "model_name": "ButtonModel",
            "state": {
              "description": "-->",
              "layout": "IPY_MODEL_a49d997a29db4449aa9c7e8967df6b7e",
              "style": "IPY_MODEL_9fd288e82fbe42359cedbd6233099668",
              "tooltip": null
            }
          },
          "ce983a1bb4de4dfcaff5bb942f6017c4": {
            "model_module": "@jupyter-widgets/controls",
            "model_module_version": "2.0.0",
            "model_name": "HTMLModel",
            "state": {
              "layout": "IPY_MODEL_948d8597b414427898b117a4ed9e5a61",
              "style": "IPY_MODEL_82146ffab9f744219cca38be0e40f2c0",
              "value": "<hr>"
            }
          },
          "cefb57d663b5486da0411fa2fc12dce8": {
            "model_module": "@jupyter-widgets/controls",
            "model_module_version": "2.0.0",
            "model_name": "ButtonModel",
            "state": {
              "description": "<--",
              "layout": "IPY_MODEL_0dadf9b607064562aa6be2e05feb7e13",
              "style": "IPY_MODEL_4fb38ad2634d4255905d86efc93bd069",
              "tooltip": null
            }
          },
          "d2439de5f01941c1850698f1afc00336": {
            "model_module": "@jupyter-widgets/controls",
            "model_module_version": "2.0.0",
            "model_name": "ButtonStyleModel",
            "state": {
              "font_family": null,
              "font_size": null,
              "font_style": null,
              "font_variant": null,
              "font_weight": null,
              "text_color": null,
              "text_decoration": null
            }
          },
          "d2d95caa130a444e9f30a1dfb762d03f": {
            "model_module": "@jupyter-widgets/base",
            "model_module_version": "2.0.0",
            "model_name": "LayoutModel",
            "state": {}
          },
          "d318c5fdccd141f1be6952023f0960c2": {
            "model_module": "@jupyter-widgets/controls",
            "model_module_version": "2.0.0",
            "model_name": "HTMLModel",
            "state": {
              "layout": "IPY_MODEL_2e3d11838d97420692cffc201823f944",
              "style": "IPY_MODEL_9622620d07024dc498ac2b3acc3c2f13",
              "value": "<hr>"
            }
          },
          "d5b4c3865ebd49979746dc9178668993": {
            "model_module": "@jupyter-widgets/controls",
            "model_module_version": "2.0.0",
            "model_name": "HBoxModel",
            "state": {
              "children": [
                "IPY_MODEL_438f4fef7b314af193048b05fb50f938",
                "IPY_MODEL_b907d8ba34c94b10a8aafbe88f2fc95b",
                "IPY_MODEL_cc3ce2ae48aa42b2ba1d0a5bfc6e1196",
                "IPY_MODEL_e826a6b1a6aa4aa6bb3d99e01d31139f",
                "IPY_MODEL_53b3f5c0b96d4b94846a8f5d13cde1ac",
                "IPY_MODEL_dc7ee503c1a44586a0d8835d0a67f08b",
                "IPY_MODEL_6e910f796d30405685588ff19392e1ae",
                "IPY_MODEL_3c221a31a3da42019717e30287d2989e"
              ],
              "layout": "IPY_MODEL_8607d624c07e4170ad73f838043c6b8a"
            }
          },
          "dc7ee503c1a44586a0d8835d0a67f08b": {
            "model_module": "@jupyter-widgets/controls",
            "model_module_version": "2.0.0",
            "model_name": "ButtonModel",
            "state": {
              "description": "Copy Code",
              "layout": "IPY_MODEL_479d12fc226a49dd9c036500608bf18f",
              "style": "IPY_MODEL_84a17e10eda14feeaf0b8d00188ee25a",
              "tooltip": null
            }
          },
          "de402b9a84074d59b9696d725077ef64": {
            "model_module": "@jupyter-widgets/output",
            "model_module_version": "1.0.0",
            "model_name": "OutputModel",
            "state": {
              "layout": "IPY_MODEL_4141e96fb64c41b18071ee26ffa61aef",
              "outputs": [
                {
                  "data": {
                    "application/vnd.jupyter.widget-view+json": {
                      "model_id": "7f472536ba774c5284d1336c94cfcf4d",
                      "version_major": 2,
                      "version_minor": 0
                    },
                    "text/plain": "VBox(children=(HBox(children=(Button(description='First', style=ButtonStyle()), Button(description='<--', styl…"
                  },
                  "metadata": {},
                  "output_type": "display_data"
                }
              ]
            }
          },
          "df22abfe3a0842859b68c626aaecb961": {
            "model_module": "@jupyter-widgets/controls",
            "model_module_version": "2.0.0",
            "model_name": "ButtonStyleModel",
            "state": {
              "font_family": null,
              "font_size": null,
              "font_style": null,
              "font_variant": null,
              "font_weight": null,
              "text_color": null,
              "text_decoration": null
            }
          },
          "e2750bbf3e8946a98dc7b57988e35504": {
            "model_module": "@jupyter-widgets/controls",
            "model_module_version": "2.0.0",
            "model_name": "ButtonModel",
            "state": {
              "description": "Open Locally",
              "layout": "IPY_MODEL_01daa19ad788406e8837800918aa6018",
              "style": "IPY_MODEL_fac188c59dd04fb78c05e96ce6d64dd3",
              "tooltip": null
            }
          },
          "e5dd4a93fb2c4e17965f0c5e2640f81f": {
            "model_module": "@jupyter-widgets/base",
            "model_module_version": "2.0.0",
            "model_name": "LayoutModel",
            "state": {}
          },
          "e826a6b1a6aa4aa6bb3d99e01d31139f": {
            "model_module": "@jupyter-widgets/controls",
            "model_module_version": "2.0.0",
            "model_name": "ButtonModel",
            "state": {
              "description": "Last",
              "layout": "IPY_MODEL_924c183a955248b08706469b5c02ba5f",
              "style": "IPY_MODEL_a91e70e91a1948c0870ec636bc2c1cd0",
              "tooltip": null
            }
          },
          "eb604cdfbf934a348fbccf3eddfaffad": {
            "model_module": "@jupyter-widgets/controls",
            "model_module_version": "2.0.0",
            "model_name": "ButtonModel",
            "state": {
              "description": "Last",
              "layout": "IPY_MODEL_2b8ae5d2e8fe448097cb166c15ad1d75",
              "style": "IPY_MODEL_3b4174592b4b44aab2fea12aab8d3393",
              "tooltip": null
            }
          },
          "ec572a8000d0455c9b5469dabcb00dcc": {
            "model_module": "@jupyter-widgets/base",
            "model_module_version": "2.0.0",
            "model_name": "LayoutModel",
            "state": {}
          },
          "f0d3a4ae54cc4e619bc3d5f0f3ec73d0": {
            "model_module": "@jupyter-widgets/controls",
            "model_module_version": "2.0.0",
            "model_name": "ButtonModel",
            "state": {
              "description": "Open on Colab",
              "layout": "IPY_MODEL_a9d3895e3d544879a74e9b1987b2957c",
              "style": "IPY_MODEL_50f06cfb92314a39ba5fa36c668cffa3",
              "tooltip": null
            }
          },
          "f5dc06b1c9704df6ad0ecf564eb48df1": {
            "model_module": "@jupyter-widgets/controls",
            "model_module_version": "2.0.0",
            "model_name": "TextareaModel",
            "state": {
              "description": "Code:",
              "disabled": true,
              "layout": "IPY_MODEL_53c5f70c7bd34cb8a542a9837f0b9813",
              "style": "IPY_MODEL_ca6b394a5bc14902ad37759fc88bbc57",
              "value": "import sys, os, builtins\nimport ipywidgets as widgets\nfrom IPython.display import display, HTML\n\nverbose = True  # Set verbosity flag\nclone = True # True enable cloning from GitHub repo\n\ntry:\n    import patankar.loadpubchem\n    if verbose: print(\"✅ SFPPy is already initialized; skipping initialization.\")\nexcept ImportError:\n    if verbose: print(\"⚠️ SFPPy not detected; attempting initialization.\")\n    base_dirs = [\"./SFPPy/utils\", \"../utils\", \"./utils\", \".\", \"../../utils\", \"../../../utils\"]\n    # Find candidates for the initialization script in various base directories.\n    candidates = [os.path.abspath(os.path.join(d, \"initialize_sfppy.py\"))\n                  for d in base_dirs if os.path.exists(os.path.join(d, \"initialize_sfppy.py\"))]\n    if candidates:\n        if verbose: print(f\"🔍 Running initialization script: {candidates[0]}\")\n        %run -i {candidates[0]} --no-verbose --no-cd\n        try:\n            import patankar.loadpubchem\n            if verbose: print(\"✅ SFPPy successfully initialized.\")\n        except ImportError: print(\"❌ ERROR: Initialization failed; 'patankar.loadpubchem' is still unavailable.\\n\", \"Current sys.path:\\n\", sys.path)\n    elif clone:\n        if not os.path.exists(\"SFPPy\"):\n            if verbose: print(\"📥 SFPPy repository not found. Cloning the repository – please be patient.\")\n            !git clone https://github.com/ovitrac/SFPPy.git  # First time: clone the repository\n        else:\n            if verbose: print(\"🔄 Refreshing the SFPPy repository.\")\n            !git -C SFPPy pull  # Subsequent times: update the repository if needed\n        %cd SFPPy\n        installationscript = os.path.abspath(os.path.join(os.getcwd(), \"utils\", \"initialize_sfppy.py\"))\n        %run -i {installationscript} --no-verbose --no-cd\n        try:\n            import patankar.loadpubchem\n            if verbose:\n                print(\"✅ SFPPy successfully initialized.\")\n        except ImportError: print(\"❌ ERROR: Initialization failed; 'patankar.loadpubchem' is still unavailable.\\n\", \"Current sys.path:\\n\", sys.path)\n    else:\n        raise FileNotFoundError(\"❌ ERROR: Either set clone=True or start the notebook from a valid SFPPy installation.\\n\")\n\nSFPPymainfolder = os.path.abspath(os.path.join(os.path.dirname(patankar.loadpubchem.__file__), \"..\"))\nprint(\"📁 SFPPy installation folder:\", SFPPymainfolder)\nfrom utils.nbutils import create_header_footer, create_logo, create_subtitle, create_disclaimer, create_alert   # SFPPy utilities for notebooks\n(header,footer,separator) = create_header_footer(title=\"SFPPy - GUI 💫\",what=\"all\");\nlogo, alert, disclaimer, subtitle = create_logo(), create_alert(fontsize=14), create_disclaimer(), create_subtitle(\" Code-free interface to SFPPy - ⊹ ࣪ ﹏𓊝﹏𓂁﹏⊹ ࣪ ˖\")\ndisplay(header,subtitle,alert,separator)\n# Force all widgets to be run without clicking \nbuiltins._PREHEATED_ = True"
            }
          },
          "fac188c59dd04fb78c05e96ce6d64dd3": {
            "model_module": "@jupyter-widgets/controls",
            "model_module_version": "2.0.0",
            "model_name": "ButtonStyleModel",
            "state": {
              "font_family": null,
              "font_size": null,
              "font_style": null,
              "font_variant": null,
              "font_weight": null,
              "text_color": null,
              "text_decoration": null
            }
          }
        },
        "version_major": 2,
        "version_minor": 0
      }
    }
  },
  "nbformat_minor": 5,
  "nbformat": 4,
  "cells": [
    {
      "id": "3e32d539-8e6f-4bc3-a670-3114c33dd493",
      "cell_type": "markdown",
      "source": "***\n\n# 🎯 **Welcome to the SFPPy Launcher Interface** 🚀  \n❗⚠️ Lite version - limitations apply. - This interface was designed for Google Colab mainly.\n\n> [SFPPy](https://github.com/ovitrac/SFPPy): a **Python Framework** for **Food Contact Compliance** and **Risk Assessment** 🍏⏩🍎\n\n***\n\nThis **📖 index notebook** is **not** a comprehensive manual; instead, it provides an **interactive interface** to help you quickly launch and explore other **SFPPy notebooks and examples**—especially in remote environments like **[Google Colab](https://colab.research.google.com/)** ☁️💻.\n\n### 🧪 **Explore Compact SFPPy Syntax for Complex Scenarios**  \n\nSFPPy allows you to **simulate the transfer of multiple substances** in **various materials** under **different conditions** using an **intuitive and compact notation**, such as:  \n\n$$\nm \\text{ \\% storage} \\ll \\text{B} \\gg \\text{P} \\gg \\text{storage} \\gg \\text{F} \\gg \\text{simulation results: S}...\n$$\n\nwhere:  \n\n- **$m$** → A formulated **substance** injected into the system.  \n- **$\\text{B}$** → A **bottle** (or container) composed of **$\\text{P}$**, a **polymeric material** (possibly multilayer).  \n- **$\\text{storage}$** → **Storage** conditions before food contact.  \n- **$\\text{F}$** → **Food**, which interacts with the material and may absorb migrated substances.\n\n### 📌 **Visual Representation of SFPPy’s Notation** \n\nThe notebook **`gui.ipynb`** provides a **graphical interface** to help you intuitively define **simulation chains** and their **combinations**. In contrast, the **example notebooks** take a **progressive approach**, presenting **detailed case studies** and **functional syntaxes** that allow fine-tuning of parameters at each step. This structured workflow ensures both **ease of use** and **full control over complex simulations**.\n\n| <kbd>m</kbd>`%` | <kbd>storage</kbd> | `<<` <kbd>B</kbd> `>>` | <kbd>P</kbd> `>>` | <kbd>storage</kbd> `>>` | <kbd>F</kbd> `>>` | <kbd>S</kbd> `>>` |\n| :-------------: | :----------------: | :--------------------: | :---------------: | :---------------------: | :---------------: | :---------------: |\n|        ⌬        |        🔒🗓️☀️         |           🫙            |        ♴♵         |           🔒🗓️☀️           |        🥃⏱️❄️        |        📈📊📉        |\n\n***\n\n### 🔹 **What This Interface Offers:**  \n✅ **Easy Access:** 📂 Choose from a list of SFPPy notebooks or example scripts.  \n✅ **Flexible Launch Options:** 💻 Open notebooks **locally** (within your current Jupyter environment) or **remotely** on **Colab** ☁️.  \n✅ **Streamlined Setup:** 🛠️ Initialize the **SFPPy core** and get started with just a few clicks.  \n\n***\n\n### ⚠️ **Please Note:**  \n📜 For **detailed instructions**, in-depth examples, and full documentation on **SFPPy's capabilities**, please refer to the official:  \n- 📚 **[Documentation](https://ovitrac.github.io/SFPPy/index.html)**  \n- 📖 **[Wiki Pages](https://ovitrac.github.io/SFPPy/wikipages/index.html)**  \n\n***\n\n### 🏁 **What’s Next?**  \n\n🔄 Refresh this notebook as needed to update the available SFPPy scripts, and use the provided buttons to **launch simulations directly**.  \n\n🚀 **Dive into SFPPy and explore its powerful modeling capabilities!*** ✨🔍  \n\n***",
      "metadata": {}
    },
    {
      "id": "e42868e5-326f-4f67-920f-5e9f1e2b18c4",
      "cell_type": "markdown",
      "source": "## 👇 | Minimal Configurator of 🌐**SFPPyLite** ⏳\n⏱️ *First execution may take 5–20 seconds*<br>\n> You should see the banner **\"SFPPyLite DEMO\"** if everything is working correctly.<br>\n> After this step, **no internet connection is needed**.\n",
      "metadata": {}
    },
    {
      "id": "773199d1-63fd-4cd5-b40b-899df38e2234",
      "cell_type": "code",
      "source": "# 📝 Notebook configuration\nnbCONF = {\"📌\": \"🌐SFPPyLite 📑 |&nbsp; <strong>Index Utilities</strong>\", \"🎨\": \"svg\", \"⚠️\": False, \"🚨\": False} # | 📌:title |🎨:renderer=svg/png/retina |⚠️: disclaimer=True/False | 🚨: alert=True/False\n\n# ⛔ SFPPyLite configurator (the =3= lines with nbCong definition above should be included at the beginning of any SFPPyLite Notebook ‼️)\nprint(\"🚀 SFPPyLite🌐 initializing in your browser...\",\"📦 Installing required packages (may take up to ⏳10 seconds)...\",sep=\"\\n\"); import micropip, sys, os, time, builtins; start = time.time(); \"/drive\" in sys.path or sys.path.append(\"/drive\"); await micropip.install([\"numpy\", \"scipy\", \"matplotlib\", \"pandas\", \"ipywidgets\", \"nbformat\", \"openpyxl\"])\nprint(\"🧱 Assembling notebook elements...\"); from IPython.display import display, HTML; from utils.nbutils import set_figure_format, create_header_footer, create_logo, create_subtitle, create_synopsis, create_disclaimer, create_alert; set_figure_format(nbCONF.get(\"🎨\")); logo, subtitle, synopsis, disclaimer, alert, = create_logo(), create_subtitle(), create_synopsis(), create_disclaimer(), create_alert(fontsize=14)\n(header,footer,separator) = create_header_footer(title=nbCONF.get(\"📌\"),what=\"all\"); separator2 = HTML('<hr style=\"border: none; height: 4px; width: 60%; margin: 2em auto; background-color: #4CAF50; border-radius: 2px;\">'); print(f\"✅ SFPPyLite🌐 initialized in {time.time()-start:.2f} seconds.\"); what = [header] + ([subtitle, disclaimer] if nbCONF.get(\"⚠️\") else []) + ([alert] if nbCONF.get(\"🚨\") else []) + [separator]; display(*what)\n\n# Specific Widgets for this this Notebook\nfrom utils.nbutils import create_files_widget, create_header_footer, create_notebook_explorer  ",
      "metadata": {
        "trusted": true
      },
      "outputs": [
        {
          "name": "stdout",
          "output_type": "stream",
          "text": "🚀 SFPPyLite🌐 initializing in your browser...\n📦 Installing required packages (may take up to ⏳10 seconds)...\n🧱 Assembling notebook elements...\n"
        },
        {
          "name": "stderr",
          "output_type": "stream",
          "text": "Matplotlib is building the font cache; this may take a moment.\n"
        },
        {
          "name": "stdout",
          "output_type": "stream",
          "text": "📊 Matplotlib inline figure format set to: svg\n✅ SFPPyLite🌐 initialized in 8.51 seconds.\n"
        },
        {
          "output_type": "display_data",
          "data": {
            "text/plain": "<IPython.core.display.HTML object>",
            "text/html": "\n  <div style=\"border-radius: 8px; padding: 12px; background: linear-gradient(to right, #4CAF50, #FF4D4D);\n              color: white; font-size: 28px; font-weight: bold; display: flex; align-items: center; justify-content: center; position: relative;\">\n  🌐SFPPyLite 📑 |&nbsp; <strong>Index Utilities</strong>\n  <a href=\"https://github.com/ovitrac/SFPPy\" target=\"_blank\"\n    style=\"position: absolute; right: 12px; top: 10%; transform: translateY(-10%);\">\n      <img src=\"https://img.shields.io/badge/GitHub-SFPPy-4CAF50?style=for-the-badge&logo=github\"\n          alt=\"GitHub SFPPy\" style=\"border-radius: 8px;\">\n  </a>\n  <div style=\"position: absolute; right: 48px; top: 82%; transform: translateY(-82%); font-size: 14px; font-weight: bold;\">\n      <span style=\"color: white;\">v1.40</span>\n      <a href=\"mailto:olivier.vitrac@gmail.com\" title=\"E-mail the author\" style=\"margin-left: 8px;\">📩</a>\n      </div>\n  </div>\n"
          },
          "metadata": {}
        },
        {
          "output_type": "display_data",
          "data": {
            "text/plain": "<IPython.core.display.HTML object>",
            "text/html": "\n<hr style=\"height: 4px; background-color: #4CAF50; box-shadow: 2px 2px 4px gray; border: none;\">\n"
          },
          "metadata": {}
        }
      ],
      "execution_count": 1
    },
    {
      "id": "e04909b8-b6dd-4c28-94e0-4aadb7c142b0",
      "cell_type": "markdown",
      "source": "## List of Available Notebooks 📝\n\n> **Refresh the cell** (<kbd>CTRL+ENTER</kbd>) to update the list of available notebooks.  \n> You have two options to open them:\n> - **Open locally** 📂 (via a relative link)  \n> - **Open on Colab** ☁️ (via a remote GitHub/Colab link)\n\n⚠️ **The links are not working in SFPPylite**. | They are just invalid | The Widget is fully operational and lists available notebooks.",
      "metadata": {}
    },
    {
      "id": "7783f56b-b065-4f5e-bcf6-915fb34cb396",
      "cell_type": "code",
      "source": "nbdropdown_widget, nbbtns,_,nblinks = create_files_widget(root=\"/drive\", folder=\"notebooks\", pattern=\"*.ipynb\", excluded=\"index*\",  actions=[\"linkcolab\", \"linklocal\"])\ndisplay(nbdropdown_widget); [display(btn) for btn in nbbtns.values()]; display(nblinks) if nblinks else None; display(separator)",
      "metadata": {
        "trusted": true
      },
      "outputs": [
        {
          "output_type": "display_data",
          "data": {
            "text/plain": "Dropdown(description='Files:', options=('notebooks/comply.ipynb', 'notebooks/example1.ipynb', 'notebooks/examp…",
            "application/vnd.jupyter.widget-view+json": {
              "version_major": 2,
              "version_minor": 0,
              "model_id": "d07998cf12094f68847af86764d49fd7"
            }
          },
          "metadata": {}
        },
        {
          "output_type": "display_data",
          "data": {
            "text/plain": "Button(description='Open on Colab', style=ButtonStyle())",
            "application/vnd.jupyter.widget-view+json": {
              "version_major": 2,
              "version_minor": 0,
              "model_id": "c6ad229bf4974c2b8b4dfa5faccbb004"
            }
          },
          "metadata": {}
        },
        {
          "output_type": "display_data",
          "data": {
            "text/plain": "Button(description='Open Locally', style=ButtonStyle())",
            "application/vnd.jupyter.widget-view+json": {
              "version_major": 2,
              "version_minor": 0,
              "model_id": "8ec36ccdd9524bb1b1cb71c785337ab6"
            }
          },
          "metadata": {}
        },
        {
          "output_type": "display_data",
          "data": {
            "text/plain": "HTML(value='')",
            "application/vnd.jupyter.widget-view+json": {
              "version_major": 2,
              "version_minor": 0,
              "model_id": "1ebdf885c41a4bc787e2c82c05bd7493"
            }
          },
          "metadata": {}
        },
        {
          "output_type": "display_data",
          "data": {
            "text/plain": "<IPython.core.display.HTML object>",
            "text/html": "\n<hr style=\"height: 4px; background-color: #4CAF50; box-shadow: 2px 2px 4px gray; border: none;\">\n"
          },
          "metadata": {}
        }
      ],
      "execution_count": 26
    },
    {
      "id": "099f5b9e-3650-49ae-b7bc-9c1858b9795d",
      "cell_type": "markdown",
      "source": "## List of Available Examples 🚀\n\n> **Refresh the cell** (<kbd>CTRL+ENTER</kbd>) to update the list of available example scripts.  \n> Use the **Run** button to execute an example in the current environment.\n\nTo run a script in SFPPylite (if needed):\n```python\nwith open(\"/Drive/example2.py\") as f:\n    code = f.read()\nexec(code)\n\n```",
      "metadata": {}
    },
    {
      "id": "f6e1a4d4-d954-4edd-9fff-e3f7559f4fab",
      "cell_type": "code",
      "source": "rdropdown_widget, rbtns, rout, _ = create_files_widget(root=\"\", folder=\"/drive\", pattern=\"example*.py\", excluded=\"index*\",  actions=\"run\")\ndisplay(rdropdown_widget); [display(btn) for btn in rbtns.values()]; display(rout) if rout else None; display(separator)",
      "metadata": {
        "trusted": true
      },
      "outputs": [
        {
          "output_type": "display_data",
          "data": {
            "text/plain": "Dropdown(description='Files:', options=('/drive/example1.py', '/drive/example2.py', '/drive/example3.py', '/dr…",
            "application/vnd.jupyter.widget-view+json": {
              "version_major": 2,
              "version_minor": 0,
              "model_id": "a8dd69f74bc44a17b3af4ec5d0ade5e6"
            }
          },
          "metadata": {}
        },
        {
          "output_type": "display_data",
          "data": {
            "text/plain": "Button(description='Run Script', style=ButtonStyle())",
            "application/vnd.jupyter.widget-view+json": {
              "version_major": 2,
              "version_minor": 0,
              "model_id": "feeaa262472041cf97599a32639d1398"
            }
          },
          "metadata": {}
        },
        {
          "output_type": "display_data",
          "data": {
            "text/plain": "Output()",
            "application/vnd.jupyter.widget-view+json": {
              "version_major": 2,
              "version_minor": 0,
              "model_id": "2a0c00adc9964765bfac2de7f9978fe2"
            }
          },
          "metadata": {}
        },
        {
          "output_type": "display_data",
          "data": {
            "text/plain": "<IPython.core.display.HTML object>",
            "text/html": "\n<hr style=\"height: 4px; background-color: #4CAF50; box-shadow: 2px 2px 4px gray; border: none;\">\n"
          },
          "metadata": {}
        }
      ],
      "execution_count": 20
    },
    {
      "id": "7363a1ac-b438-4f2e-8f1c-4019da433db4",
      "cell_type": "markdown",
      "source": "## Explore Notebook Content 🕵🏼\n> With this tool, you can navigate easily through the different templates to pick a code segment. If the copy buttons do not work in your browser, copy directly from the text area below.",
      "metadata": {}
    },
    {
      "id": "49cd3bd4-9b9e-4f21-95e7-8b76042c8a7a",
      "cell_type": "code",
      "source": "create_notebook_explorer();display(separator,footer)",
      "metadata": {
        "trusted": true
      },
      "outputs": [
        {
          "output_type": "display_data",
          "data": {
            "text/plain": "Dropdown(description='Notebook:', options=('comply.ipynb', 'example1.ipynb', 'example2.ipynb', 'example3.ipynb…",
            "application/vnd.jupyter.widget-view+json": {
              "version_major": 2,
              "version_minor": 0,
              "model_id": "f47768b697484299ab4b5cc7c25efc07"
            }
          },
          "metadata": {}
        },
        {
          "output_type": "display_data",
          "data": {
            "text/plain": "Button(description='Open Notebook', style=ButtonStyle())",
            "application/vnd.jupyter.widget-view+json": {
              "version_major": 2,
              "version_minor": 0,
              "model_id": "fcdf47edd9f1492ebe31980546d2f994"
            }
          },
          "metadata": {}
        },
        {
          "output_type": "display_data",
          "data": {
            "text/plain": "Output()",
            "application/vnd.jupyter.widget-view+json": {
              "version_major": 2,
              "version_minor": 0,
              "model_id": "20310336e0e74a61a46f37e49794ada4"
            }
          },
          "metadata": {}
        },
        {
          "output_type": "display_data",
          "data": {
            "text/plain": "<IPython.core.display.HTML object>",
            "text/html": "\n<hr style=\"height: 4px; background-color: #4CAF50; box-shadow: 2px 2px 4px gray; border: none;\">\n"
          },
          "metadata": {}
        },
        {
          "output_type": "display_data",
          "data": {
            "text/plain": "<IPython.core.display.HTML object>",
            "text/html": "\n<div style=\"border: 2px solid #4CAF50; border-radius: 8px; padding: 10px; background: linear-gradient(to right, #4CAF50, #FF4D4D); color: white; text-align: center; font-weight: bold;\">\n  <span style=\"font-size: 20px;\">🍏⏩🍎 <strong>SFPPy for Food Contact Compliance and Risk Assessment</strong></span><br>\n  Contact <a href=\"mailto:olivier.vitrac@gmail.com\" style=\"color: #fff; text-decoration: underline;\">Olivier Vitrac</a> for questions |\n  <a href=\"https://github.com/ovitrac/SFPPy\" style=\"color: #fff; text-decoration: underline;\">Website</a> |\n  <a href=\"https://ovitrac.github.io/SFPPy/\" style=\"color: #fff; text-decoration: underline;\">Documentation</a>\n</div>\n"
          },
          "metadata": {}
        }
      ],
      "execution_count": 4
    }
  ]
}