{
  "metadata": {
    "kernelspec": {
      "name": "python",
      "display_name": "Python (Pyodide)",
      "language": "python"
    },
    "language_info": {
      "codemirror_mode": {
        "name": "python",
        "version": 3
      },
      "file_extension": ".py",
      "mimetype": "text/x-python",
      "name": "python",
      "nbconvert_exporter": "python",
      "pygments_lexer": "ipython3",
      "version": "3.8"
    }
  },
  "nbformat_minor": 5,
  "nbformat": 4,
  "cells": [
    {
      "id": "0a4b0193-bfb6-4efa-b4d6-7cd2eb87ea86",
      "cell_type": "code",
      "source": "import sys\n\"/drive\" in sys.path or sys.path.append(\"/drive\")\nfrom patankar.private.pubchempy import get_compounds, Compound\nfor compound in get_compounds('glucose', 'name'):\n    print(compound.cid)\n    print(compound.isomeric_smiles)\nvioxx = Compound.from_cid(5090)\nprint(vioxx.molecular_formula)\nprint(vioxx.molecular_weight)\nprint(vioxx.xlogp)",
      "metadata": {
        "trusted": true
      },
      "outputs": [
        {
          "name": "stdout",
          "output_type": "stream",
          "text": "5793\nC([C@@H]1[C@H]([C@@H]([C@H](C(O1)O)O)O)O)O\nC17H14O4S\n314.4\n2.3\n"
        }
      ],
      "execution_count": 1
    },
    {
      "id": "f225eddd-ba2c-4a43-9633-2ac9af64baa9",
      "cell_type": "code",
      "source": "import micropip\nawait micropip.install(\"numpy\")\nawait micropip.install(\"scipy\")\nawait micropip.install(\"matplotlib\")\nawait micropip.install(\"pandas\")\nawait micropip.install(\"ipywidgets\")\nawait micropip.install(\"nbformat\")\nawait micropip.install(\"openpyxl\")\nimport sys, os, time\nfrom IPython.display import display, HTML\n\"/drive\" in sys.path or sys.path.append(\"/drive\")  # Add the correct path for SFPPylite\nfrom utils.nbutils import create_files_widget, create_header_footer, create_notebook_explorer   # SFPPy utilities for notebooks\n(header,footer,separator) = create_header_footer(title=\"SFPPylite - Debug Environment 📑\",what=\"all\"); display(header, separator)",
      "metadata": {
        "trusted": true
      },
      "outputs": [
        {
          "output_type": "display_data",
          "data": {
            "text/plain": "<IPython.core.display.HTML object>",
            "text/html": "\n  <div style=\"border-radius: 8px; padding: 12px; background: linear-gradient(to right, #4CAF50, #FF4D4D);\n              color: white; font-size: 28px; font-weight: bold; display: flex; align-items: center; justify-content: center; position: relative;\">\n  SFPPylite - Notebook Index 📑\n  <a href=\"https://github.com/ovitrac/SFPPy\" target=\"_blank\"\n    style=\"position: absolute; right: 12px; top: 10%; transform: translateY(-10%);\">\n      <img src=\"https://img.shields.io/badge/GitHub-SFPPy-4CAF50?style=for-the-badge&logo=github\"\n          alt=\"GitHub SFPPy\" style=\"border-radius: 8px;\">\n  </a>\n  <div style=\"position: absolute; right: 48px; top: 82%; transform: translateY(-82%); font-size: 14px; font-weight: bold;\">\n      <span style=\"color: white;\">v1.37</span>\n      <a href=\"mailto:olivier.vitrac@gmail.com\" title=\"E-mail the author\" style=\"margin-left: 8px;\">📩</a>\n      </div>\n  </div>\n"
          },
          "metadata": {}
        },
        {
          "output_type": "display_data",
          "data": {
            "text/plain": "<IPython.core.display.HTML object>",
            "text/html": "\n<hr style=\"height: 4px; background-color: #4CAF50; box-shadow: 2px 2px 4px gray; border: none;\">\n"
          },
          "metadata": {}
        }
      ],
      "execution_count": 1
    },
    {
      "id": "85da4e20-12b4-4f97-999f-7e14f470b484",
      "cell_type": "code",
      "source": "from patankar.loadpubchem import migrant\nm = migrant(\"phenylcyclohexane\")\nm.image",
      "metadata": {
        "trusted": true
      },
      "outputs": [],
      "execution_count": null
    },
    {
      "id": "d22d1ff2-2591-4f13-aabe-158ed2108645",
      "cell_type": "markdown",
      "source": "# Trace of previous apttemps in a single thread environment\n> None of the solutions below have been implemented.\n> Please refer to code above which is canonical and works with the workaround currently implemented (https://pubchempy.readthedocs.io/en/latest/)",
      "metadata": {}
    },
    {
      "id": "94d7c8a8-9681-4ee2-b855-f8dfd1c3f585",
      "cell_type": "code",
      "source": "import sys, os\n\"/drive\" in sys.path or sys.path.append(\"/drive\")  \nimport utils.asyncbridge\nimport importlib\nimportlib.reload(utils.asyncbridge)\nfrom utils.asyncbridge import sync_async_to_file\n\n\n\nasync def post_request_async(url, data_dict, output_file, headers=None):\n    from pyodide.http import pyfetch\n    from urllib.parse import urlencode\n    import os\n\n    data = urlencode(data_dict)\n    headers = headers or {\"Content-Type\": \"application/x-www-form-urlencoded\"}\n    response = await pyfetch(url, method=\"POST\", headers=headers, body=data.encode(\"utf-8\"))\n    result = await response.bytes()\n\n    with open(output_file, \"wb\") as f:\n        f.write(result)\n\n# Call it synchronously\nurl = \"https://pubchem.ncbi.nlm.nih.gov/rest/pug/compound/cid/property/CanonicalSMILES/JSON\"\npostdata = {\"cid\": 5793}\n\nresponse_bytes = sync_async_to_file(post_request_async, args=(url, postdata))\nimport json\nprint(json.loads(response_bytes.decode())[\"PropertyTable\"][\"Properties\"][0][\"CanonicalSMILES\"])\n",
      "metadata": {
        "trusted": true
      },
      "outputs": [
        {
          "name": "stdout",
          "output_type": "stream",
          "text": "▶️ Starting sync_async_to_file: ('https://pubchem.ncbi.nlm.nih.gov/rest/pug/compound/cid/property/CanonicalSMILES/JSON', {'cid': 5793}), output_file=/drive/utils/async/20250325071808250000.json\n⏰ Timeout expired while waiting for file.\n"
        },
        {
          "ename": "<class 'TimeoutError'>",
          "evalue": "Timeout waiting for async result file: /drive/utils/async/20250325071808250000.json",
          "traceback": [
            "\u001b[0;31m---------------------------------------------------------------------------\u001b[0m",
            "\u001b[0;31mTimeoutError\u001b[0m                              Traceback (most recent call last)",
            "Cell \u001b[0;32mIn[20], line 27\u001b[0m\n\u001b[1;32m     24\u001b[0m url \u001b[38;5;241m=\u001b[39m \u001b[38;5;124m\"\u001b[39m\u001b[38;5;124mhttps://pubchem.ncbi.nlm.nih.gov/rest/pug/compound/cid/property/CanonicalSMILES/JSON\u001b[39m\u001b[38;5;124m\"\u001b[39m\n\u001b[1;32m     25\u001b[0m postdata \u001b[38;5;241m=\u001b[39m {\u001b[38;5;124m\"\u001b[39m\u001b[38;5;124mcid\u001b[39m\u001b[38;5;124m\"\u001b[39m: \u001b[38;5;241m5793\u001b[39m}\n\u001b[0;32m---> 27\u001b[0m response_bytes \u001b[38;5;241m=\u001b[39m \u001b[43msync_async_to_file\u001b[49m\u001b[43m(\u001b[49m\u001b[43mpost_request_async\u001b[49m\u001b[43m,\u001b[49m\u001b[43m \u001b[49m\u001b[43margs\u001b[49m\u001b[38;5;241;43m=\u001b[39;49m\u001b[43m(\u001b[49m\u001b[43murl\u001b[49m\u001b[43m,\u001b[49m\u001b[43m \u001b[49m\u001b[43mpostdata\u001b[49m\u001b[43m)\u001b[49m\u001b[43m)\u001b[49m\n\u001b[1;32m     28\u001b[0m \u001b[38;5;28;01mimport\u001b[39;00m \u001b[38;5;21;01mjson\u001b[39;00m\n\u001b[1;32m     29\u001b[0m \u001b[38;5;28mprint\u001b[39m(json\u001b[38;5;241m.\u001b[39mloads(response_bytes\u001b[38;5;241m.\u001b[39mdecode())[\u001b[38;5;124m\"\u001b[39m\u001b[38;5;124mPropertyTable\u001b[39m\u001b[38;5;124m\"\u001b[39m][\u001b[38;5;124m\"\u001b[39m\u001b[38;5;124mProperties\u001b[39m\u001b[38;5;124m\"\u001b[39m][\u001b[38;5;241m0\u001b[39m][\u001b[38;5;124m\"\u001b[39m\u001b[38;5;124mCanonicalSMILES\u001b[39m\u001b[38;5;124m\"\u001b[39m])\n",
            "File \u001b[0;32m/drive/utils/asyncbridge.py:74\u001b[0m, in \u001b[0;36msync_async_to_file\u001b[0;34m(async_fn, args, kwargs, output_dir, timeout, ext, decode_json, cleanup, debugmode)\u001b[0m\n\u001b[1;32m     72\u001b[0m     \u001b[38;5;28;01mif\u001b[39;00m time\u001b[38;5;241m.\u001b[39mtime() \u001b[38;5;241m-\u001b[39m t0 \u001b[38;5;241m>\u001b[39m timeout:\n\u001b[1;32m     73\u001b[0m         log(\u001b[38;5;124m\"\u001b[39m\u001b[38;5;124m⏰ Timeout expired while waiting for file.\u001b[39m\u001b[38;5;124m\"\u001b[39m)\n\u001b[0;32m---> 74\u001b[0m         \u001b[38;5;28;01mraise\u001b[39;00m \u001b[38;5;167;01mTimeoutError\u001b[39;00m(\u001b[38;5;124mf\u001b[39m\u001b[38;5;124m\"\u001b[39m\u001b[38;5;124mTimeout waiting for async result file: \u001b[39m\u001b[38;5;132;01m{\u001b[39;00moutput_file\u001b[38;5;132;01m}\u001b[39;00m\u001b[38;5;124m\"\u001b[39m)\n\u001b[1;32m     75\u001b[0m     loop\u001b[38;5;241m.\u001b[39mrun_until_complete(asyncio\u001b[38;5;241m.\u001b[39msleep(\u001b[38;5;241m0.1\u001b[39m))\n\u001b[1;32m     77\u001b[0m log(\u001b[38;5;124mf\u001b[39m\u001b[38;5;124m\"\u001b[39m\u001b[38;5;124m📁 File found: \u001b[39m\u001b[38;5;132;01m{\u001b[39;00moutput_file\u001b[38;5;132;01m}\u001b[39;00m\u001b[38;5;124m\"\u001b[39m)\n",
            "\u001b[0;31mTimeoutError\u001b[0m: Timeout waiting for async result file: /drive/utils/async/20250325071808250000.json"
          ],
          "output_type": "error"
        },
        {
          "name": "stdout",
          "output_type": "stream",
          "text": "⏳ Scheduling async function...\n✅ Async function completed.\n"
        }
      ],
      "execution_count": 20
    },
    {
      "id": "cf5df72c-d9ec-40e2-a6c1-cc54ca5a739b",
      "cell_type": "code",
      "source": "import os\nimport time\nimport asyncio\nfrom datetime import datetime, timezone\nimport json\n\nclass AsyncRegister:\n    def __init__(self, output_dir=\"/drive/utils/async\", debugmode=False):\n        \"\"\" Initialize the asyncregister with an output directory for result files and an optional debug mode for logging. \"\"\"\n        self.output_dir = output_dir\n        self.debugmode = debugmode\n        os.makedirs(self.output_dir, exist_ok=True)\n\n    def log(self, msg):\n        \"\"\"\n        Log a message both to stdout and to a debug log file (if debugmode is True).\n        \"\"\"\n        if self.debugmode:\n            with open(os.path.join(self.output_dir, \"debug.log\"), \"a\") as f:\n                f.write(msg + \"\\n\")\n        print(msg, flush=True)\n\n    def register(self, async_fn, *args, **kwargs):\n        \"\"\"\n        Register an asynchronous function, wrap it with a callback that writes its result\n        to a file, and schedule its execution.\n\n        Parameters:\n            async_fn: The asynchronous function to execute. It must accept an 'output_file'\n                    keyword argument and write its result to that file.\n            *args: Positional arguments to pass to async_fn.\n            **kwargs: Keyword arguments to pass to async_fn.\n\n        Returns:\n            output_file (str): The file path that will contain the result.\n        \"\"\"\n        # Create a unique file name based on the current UTC timestamp.\n        timestamp = datetime.now(timezone.utc).strftime(\"%Y%m%d%H%M%S%f\")\n        output_file = os.path.join(self.output_dir, f\"{timestamp}.json\")\n        kwargs[\"output_file\"] = output_file\n\n        async def wrapper():\n            self.log(f\"⏳ Starting async task with output file: {output_file}\")\n            await async_fn(*args, **kwargs)\n            self.log(f\"✅ Async task completed with output file: {output_file}\")\n\n        # Schedule the asynchronous wrapper.\n        asyncio.ensure_future(wrapper())\n        return output_file\n\n    def check_completion(self, output_file, timeout=10, poll_interval=0.1, decode_json=False, cleanup=True, raiseerror=True):\n        \"\"\"\n        Poll for completion of the asynchronous task by checking for the existence\n        of the output_file. Once found, read and return its content.\n\n        Parameters:\n            output_file (str): The file path to check.\n            timeout (float): Maximum time (in seconds) to wait.\n            poll_interval (float): Time (in seconds) between polls.\n            decode_json (bool): If True, decode the file content using json.loads.\n            cleanup (bool): If True, delete the file after reading.\n\n        Returns:\n            bytes or dict: The raw content of the file or its JSON-decoded value.\n\n        Raises:\n            TimeoutError: If the file does not appear within the timeout period.\n        \"\"\"\n        t0 = time.time()\n        while not os.path.exists(output_file):\n            if time.time() - t0 > timeout:\n                self.log(\"⏰ Timeout expired while waiting for async task completion.\")\n                if raiseerror:\n                    raise TimeoutError(f\"Timeout waiting for async result file: {output_file}\")\n                else:\n                    return\n            #time.sleep(poll_interval)\n\n        if os.path.exists(output_file):\n            self.log(f\"📁 File found: {output_file}\")\n            with open(output_file, \"rb\") as f:\n                content = f.read()\n        else:\n            raise RunTimeError(\"Unable to complete the task\")\n        \n        if cleanup:\n            try:\n                os.remove(output_file)\n                self.log(f\"🧹 Cleaned up file: {output_file}\")\n            except Exception as e:\n                self.log(f\"⚠️ Could not delete file: {e}\")\n        return json.loads(content) if decode_json else content\n\n\n\nasync def post_request_async(url, data_dict, output_file, headers=None):\n    from pyodide.http import pyfetch\n    from urllib.parse import urlencode\n    # Encode the data dictionary as application/x-www-form-urlencoded\n    data = urlencode(data_dict)\n    headers = headers or {\"Content-Type\": \"application/x-www-form-urlencoded\"}\n    # Make the POST request\n    response = await pyfetch(url, method=\"POST\", headers=headers, body=data.encode(\"utf-8\"))\n    result = await response.bytes()\n    # Write the result to the designated file.\n    with open(output_file, \"wb\") as f:\n        f.write(result)\n\n\nreg = AsyncRegister(debugmode=True)\nurl = \"https://pubchem.ncbi.nlm.nih.gov/rest/pug/compound/cid/property/CanonicalSMILES/JSON\"\npostdata = {\"cid\": 5793}\noutput_file = reg.register(post_request_async, url, postdata)\ntry:\n    # Poll for completion. If the file appears within the timeout, the result is returned.\n    result = reg.check_completion(output_file, timeout=1, poll_interval=0.1, decode_json=True, cleanup=False, raiseerror=False)\n    # Process the result as needed.\n    if result:\n        print(result[\"PropertyTable\"][\"Properties\"][0][\"CanonicalSMILES\"])\n    else:\n        print(\"no result yet\")\nexcept TimeoutError as e:\n    print(str(e))\n# if time out\nprint(\"*\"*10,\"second try\")\nprint(output_file,os.path.isfile(output_file))\nresult2 = reg.check_completion(output_file, timeout=0.4, poll_interval=0.1, decode_json=True, cleanup=False)\nprint(result2[\"PropertyTable\"][\"Properties\"][0][\"CanonicalSMILES\"])",
      "metadata": {
        "trusted": true
      },
      "outputs": [
        {
          "name": "stdout",
          "output_type": "stream",
          "text": "⏰ Timeout expired while waiting for async task completion.\nno result yet\n********** second try\n/drive/utils/async/20250325084104830000.json False\n⏰ Timeout expired while waiting for async task completion.\n⏳ Starting async task with output file: /drive/utils/async/20250325084104830000.json\n"
        },
        {
          "ename": "<class 'TimeoutError'>",
          "evalue": "Timeout waiting for async result file: /drive/utils/async/20250325084104830000.json",
          "traceback": [
            "\u001b[0;31m---------------------------------------------------------------------------\u001b[0m",
            "\u001b[0;31mTimeoutError\u001b[0m                              Traceback (most recent call last)",
            "Cell \u001b[0;32mIn[27], line 127\u001b[0m\n\u001b[1;32m    125\u001b[0m \u001b[38;5;28mprint\u001b[39m(\u001b[38;5;124m\"\u001b[39m\u001b[38;5;124m*\u001b[39m\u001b[38;5;124m\"\u001b[39m\u001b[38;5;241m*\u001b[39m\u001b[38;5;241m10\u001b[39m,\u001b[38;5;124m\"\u001b[39m\u001b[38;5;124msecond try\u001b[39m\u001b[38;5;124m\"\u001b[39m)\n\u001b[1;32m    126\u001b[0m \u001b[38;5;28mprint\u001b[39m(output_file,os\u001b[38;5;241m.\u001b[39mpath\u001b[38;5;241m.\u001b[39misfile(output_file))\n\u001b[0;32m--> 127\u001b[0m result2 \u001b[38;5;241m=\u001b[39m \u001b[43mreg\u001b[49m\u001b[38;5;241;43m.\u001b[39;49m\u001b[43mcheck_completion\u001b[49m\u001b[43m(\u001b[49m\u001b[43moutput_file\u001b[49m\u001b[43m,\u001b[49m\u001b[43m \u001b[49m\u001b[43mtimeout\u001b[49m\u001b[38;5;241;43m=\u001b[39;49m\u001b[38;5;241;43m0.4\u001b[39;49m\u001b[43m,\u001b[49m\u001b[43m \u001b[49m\u001b[43mpoll_interval\u001b[49m\u001b[38;5;241;43m=\u001b[39;49m\u001b[38;5;241;43m0.1\u001b[39;49m\u001b[43m,\u001b[49m\u001b[43m \u001b[49m\u001b[43mdecode_json\u001b[49m\u001b[38;5;241;43m=\u001b[39;49m\u001b[38;5;28;43;01mTrue\u001b[39;49;00m\u001b[43m,\u001b[49m\u001b[43m \u001b[49m\u001b[43mcleanup\u001b[49m\u001b[38;5;241;43m=\u001b[39;49m\u001b[38;5;28;43;01mFalse\u001b[39;49;00m\u001b[43m)\u001b[49m\n\u001b[1;32m    128\u001b[0m \u001b[38;5;28mprint\u001b[39m(result2[\u001b[38;5;124m\"\u001b[39m\u001b[38;5;124mPropertyTable\u001b[39m\u001b[38;5;124m\"\u001b[39m][\u001b[38;5;124m\"\u001b[39m\u001b[38;5;124mProperties\u001b[39m\u001b[38;5;124m\"\u001b[39m][\u001b[38;5;241m0\u001b[39m][\u001b[38;5;124m\"\u001b[39m\u001b[38;5;124mCanonicalSMILES\u001b[39m\u001b[38;5;124m\"\u001b[39m])\n",
            "Cell \u001b[0;32mIn[27], line 74\u001b[0m, in \u001b[0;36mAsyncRegister.check_completion\u001b[0;34m(self, output_file, timeout, poll_interval, decode_json, cleanup, raiseerror)\u001b[0m\n\u001b[1;32m     72\u001b[0m \u001b[38;5;28mself\u001b[39m\u001b[38;5;241m.\u001b[39mlog(\u001b[38;5;124m\"\u001b[39m\u001b[38;5;124m⏰ Timeout expired while waiting for async task completion.\u001b[39m\u001b[38;5;124m\"\u001b[39m)\n\u001b[1;32m     73\u001b[0m \u001b[38;5;28;01mif\u001b[39;00m raiseerror:\n\u001b[0;32m---> 74\u001b[0m     \u001b[38;5;28;01mraise\u001b[39;00m \u001b[38;5;167;01mTimeoutError\u001b[39;00m(\u001b[38;5;124mf\u001b[39m\u001b[38;5;124m\"\u001b[39m\u001b[38;5;124mTimeout waiting for async result file: \u001b[39m\u001b[38;5;132;01m{\u001b[39;00moutput_file\u001b[38;5;132;01m}\u001b[39;00m\u001b[38;5;124m\"\u001b[39m)\n\u001b[1;32m     75\u001b[0m \u001b[38;5;28;01melse\u001b[39;00m:\n\u001b[1;32m     76\u001b[0m     \u001b[38;5;28;01mreturn\u001b[39;00m\n",
            "\u001b[0;31mTimeoutError\u001b[0m: Timeout waiting for async result file: /drive/utils/async/20250325084104830000.json"
          ],
          "output_type": "error"
        },
        {
          "name": "stdout",
          "output_type": "stream",
          "text": "✅ Async task completed with output file: /drive/utils/async/20250325084104830000.json\n"
        }
      ],
      "execution_count": 27
    },
    {
      "id": "d301510f-7b39-41c0-8ca4-057b2decd2bf",
      "cell_type": "code",
      "source": "print(output_file)\nresult2 = reg.check_completion(output_file, timeout=0.4, poll_interval=0.1, decode_json=True, cleanup=False)\nprint(result2[\"PropertyTable\"][\"Properties\"][0][\"CanonicalSMILES\"])",
      "metadata": {
        "trusted": true
      },
      "outputs": [
        {
          "name": "stdout",
          "output_type": "stream",
          "text": "/drive/utils/async/20250325082859073000.json\n📁 File found: /drive/utils/async/20250325082859073000.json\nC(C1C(C(C(C(O1)O)O)O)O)O\n"
        }
      ],
      "execution_count": 19
    },
    {
      "id": "5f87ab64-a443-4b06-8498-a0e8c285309e",
      "cell_type": "code",
      "source": "import js\nfrom urllib.parse import urlencode\n\ndef sync_post_fetch(url, data_dict, output_file, headers=None):\n    \"\"\" Perform a synchronous POST request using JavaScript's XMLHttpRequest and write the result to a file.\"\n    Parameters:\n        url (str): The target URL.\n        data_dict (dict): The POST data.\n        output_file (str): Path to save the response.\n        headers (dict): Optional HTTP headers (default: {\"Content-Type\": \"application/x-www-form-urlencoded\"}).\n    \"\"\"\n    headers = headers or {\"Content-Type\": \"application/x-www-form-urlencoded\"}\n    # Encode the data as application/x-www-form-urlencoded\n    data = urlencode(data_dict)\n\n    # Create a new XMLHttpRequest object\n    xhr = js.XMLHttpRequest.new()\n\n    # Open a synchronous request (third parameter False means synchronous)\n    xhr.open(\"POST\", url, False)\n\n    # Set request headers\n    for key, value in headers.items():\n        xhr.setRequestHeader(key, value)\n\n    # Send the request with the encoded data\n    xhr.send(data)\n\n    # Get the response text (alternatively, you can use xhr.response if needed)\n    result = xhr.responseText\n\n    # Write the result to the designated file\n    with open(output_file, \"w\") as f:\n        f.write(result)\n\n\nurl = \"https://pubchem.ncbi.nlm.nih.gov/rest/pug/compound/cid/property/CanonicalSMILES/JSON\"\npostdata = {\"cid\": 5793}\noutput_file = \"/drive/utils/async/sync_post_fetch_result.json\"\nsync_post_fetch(url, postdata, output_file)\nwith open(output_file, \"r\") as f:\n    data = f.read()\n    print(\"Response from PubChem:\")\n    print(data)",
      "metadata": {
        "trusted": true
      },
      "outputs": [
        {
          "name": "stdout",
          "output_type": "stream",
          "text": "Response from PubChem:\n{\"PropertyTable\":{\"Properties\":[{\"CID\":5793,\"CanonicalSMILES\":\"C(C1C(C(C(C(O1)O)O)O)O)O\"}]}}\n"
        }
      ],
      "execution_count": 28
    },
    {
      "id": "6db8e9eb-866d-4c29-aa63-a358437e89f5",
      "cell_type": "code",
      "source": "",
      "metadata": {
        "trusted": true
      },
      "outputs": [],
      "execution_count": null
    }
  ]
}