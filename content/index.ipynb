{
  "metadata": {
    "kernelspec": {
      "name": "python",
      "display_name": "Python (Pyodide)",
      "language": "python"
    },
    "language_info": {
      "name": ""
    }
  },
  "nbformat_minor": 5,
  "nbformat": 4,
  "cells": [
    {
      "id": "1225b211-1418-4cdc-b428-087d846fabce",
      "cell_type": "markdown",
      "source": "### 🍏⏩🍎 SFPPyLite — Food Contact Compliance in Your Browser\n\n**SFPPy** is a modeling and simulation framework for evaluating the compliance and risk of *food contact materials*, from monolayer to complex multilayer structures, with parameter estimation, regulatory filters, and more.\n\n**SFPPyLite** is a self-contained, browser-based version powered by [JupyterLite](https://jupyterlite.readthedocs.io/en/latest/).  \nIt runs a full Python environment (via `pyodide`), a file browser, a live editor, and persists your work entirely in-browser — no installation, no server, just your browser.\n\n---\n\n### ⚙️ How It Works\n\n- 💾 Data is saved using a **persistent web worker session**.\n- 📂 Use **drag & drop** to upload files.\n- 📥 Use **right-click → Download** to export one or multiple files.\n- 🧠 **No AI assistance** is included in this Lite version.\n\n> **Tip:** Your session data remains available between visits. To reset or recover from sync issues, use [`reset.html`](https://ovitrac.github.io/SFPPylite/files/utils/reset.html).\n\n---\n\n### 🚀 Start Here\n\n| Notebook | Description |\n|----------|-------------|\n| 📘 [demo.ipynb](demo.ipynb) | Overview of SFPPy capabilities, how to interact with the environment, and what to explore next. |\n\n#### 📂 Available Notebooks\n\n| Notebook | Description |\n|----------|-------------|\n| ✅ [notebooks/comply.ipynb](notebooks/comply.ipynb) | Comprehensive compliance notebook aligned with regulatory workflows. |\n| 🔬 [notebooks/example1.ipynb](notebooks/example1.ipynb) | Migration simulation for monolayer materials. |\n| 📦 [notebooks/example2.ipynb](notebooks/example2.ipynb) | Multilayer structures with internal barriers and coatings. |\n| ⛓ [notebooks/example3.ipynb](notebooks/example3.ipynb) | Chained simulations for evolving exposure scenarios. |\n| 🔧 [notebooks/example4.ipynb](notebooks/example4.ipynb) | Identify parameters from experimental migration data. |\n| 🖼 [notebooks/gui.ipynb](notebooks/gui.ipynb) | Interactive GUI to run models and visualize results. |\n| 🧭 [notebooks/index.ipynb](notebooks/index.ipynb) | Notebook index navigator (this page). |\n\n#### 🧰 Utilities\n\n| Utility | Description |\n|---------|-------------|\n| ♻️ [reset.html](https://ovitrac.github.io/SFPPylite/files/utils/reset.html) | Reset the browser storage to reload SFPPyLite fresh. |\n\n#### 📚 Additional Resources\n\n- [JupyterLab Documentation](https://jupyterlab.readthedocs.io/en/stable/) — deep dive into the environment.\n- [try.jupyter.org](https://try.jupyter.org/) — live notebook demos online.\n- [Launch JupyterLite Interface](lab/index.html) — open full interface manually.\n\n---\n\n© SFPPyLite — Scientific Framework for Packaging Safety · [GitHub](https://github.com/ovitrac/SFPPy) · [Documentation](https://ovitrac.github.io/SFPPy)\n",
      "metadata": {}
    }
  ]
}